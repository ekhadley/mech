{
 "cells": [
  {
   "cell_type": "code",
   "execution_count": null,
   "id": "164154cc-2ed9-453e-bf56-25508038daaf",
   "metadata": {},
   "outputs": [
    {
     "name": "stdout",
     "output_type": "stream",
     "text": [
      "Loaded pretrained model gpt2-small into HookedTransformer\n"
     ]
    }
   ],
   "source": [
    "#%%\n",
    "\n",
    "from mechlibs import *\n",
    "t.no_grad()\n",
    "# in this dialogue,\n",
    "# https://www.lesswrong.com/posts/tEPHGZAb63dfq2v8n/how-useful-is-mechanistic-interpretability\n",
    "# A question gets brought up around induction heads. Buck suggests that 'this head does induction'\n",
    "# captures around 1% of the important stuff that an induction head a head is doing even when it\n",
    "# looks very inductiony. Neel responds with asking if he means that we replaced the inductiony\n",
    "# head with python code that does strict induction that this would be about 1% as useful to the\n",
    "# model. He says he expects it to be about 10-20% as useful to the model.\n",
    "# Here i replace an induction head with python code and see how useful the head becomes.\n",
    "\n",
    "device = t.device(\"cuda\" if t.cuda.is_available() else \"cpu\")\n",
    "\n",
    "\n",
    "model = HookedTransformer.from_pretrained(\n",
    "    \"gpt2-small\",\n",
    "    center_unembed=True,\n",
    "    center_writing_weights=True,\n",
    "    fold_ln=True,\n",
    "    refactor_factored_attn_matrices=True,\n",
    "    device=device\n",
    ")"
   ]
  },
  {
   "cell_type": "code",
   "execution_count": null,
   "id": "aac173b2-000e-4127-adc5-e572ead63a83",
   "metadata": {},
   "outputs": [],
   "source": [
    "#%%\n",
    "\n",
    "def gen_induction_test(length, batch_size=1):\n",
    "    tokens = t.randint(0, model.cfg.d_vocab, (batch_size, length), device=device)\n",
    "    tokens[..., 0] = model.tokenizer.bos_token_id # prepend with bos token\n",
    "    tokens = tokens.repeat(1, 2)\n",
    "    return tokens\n",
    "\n",
    "@t.inference_mode()\n",
    "def loss(logits, labels):\n",
    "    return t.nn.functional.cross_entropy(logits.view(-1, logits.shape[-1]), labels.view(-1))\n",
    "def induction_task_score(model):\n",
    "    tokens = gen_induction_test(16, 16)\n",
    "    logits = model.forward(tokens)\n",
    "    return loss(logits, tokens)\n",
    "\n",
    "# measures what percentage of the attention pattern of each token is on the previous token\n",
    "def prev_token_head_score(cache, layer, head):\n",
    "    patterns = cache[\"pattern\", layer].mean(0)\n",
    "    pattern = patterns[head]\n",
    "    prev_token_diagonal = pattern.diagonal(-1)\n",
    "    score = prev_token_diagonal.sum() / pattern.sum()\n",
    "    return score\n",
    "# measures, for the repeated random tokens task, what percentage of the attention pattern of the second half of the sequence is on the correct token.\n",
    "def induction_head_score(cache, layer, head):\n",
    "    patterns = cache[\"pattern\", layer].mean(0)\n",
    "    pattern = patterns[head]\n",
    "    induction_diagonal = pattern.diagonal(-pattern.shape[0]//2+1)\n",
    "    score = induction_diagonal.sum() / pattern.sum()\n",
    "    return score\n",
    "# returns two sorted lists of heads, one sorted by previous token head score, the other by induction head score\n",
    "def find_induction_heads(cache):\n",
    "    top_pheads, top_iheads = [], []\n",
    "    for layer in range(model.cfg.n_layers):\n",
    "        for head in range(model.cfg.n_heads):\n",
    "            pscore = prev_token_head_score(cache, layer, head).item()\n",
    "            iscore = induction_head_score(cache, layer, head).item()\n",
    "            top_pheads.append((layer, head, pscore))\n",
    "            top_iheads.append((layer, head, iscore))\n",
    "    top_pheads.sort(key=lambda x: -x[2])\n",
    "    top_iheads.sort(key=lambda x: -x[2])\n",
    "    return top_pheads, top_iheads\n",
    "\n",
    "def induction_score_map(model):\n",
    "    tokens = gen_induction_test(16, 32)\n",
    "    _, cache = model.run_with_cache(tokens)\n",
    "    induction_scores = t.zeros((model.cfg.n_layers, model.cfg.n_heads), device=device)\n",
    "    for layer in range(model.cfg.n_layers):\n",
    "        for head in range(model.cfg.n_heads):\n",
    "            induction_scores[layer, head] = induction_head_score(cache, layer, head)\n",
    "    return (induction_scores - induction_scores.mean()) / induction_scores.std()"
   ]
  },
  {
   "cell_type": "code",
   "execution_count": null,
   "id": "d4d50dfa-4b95-4a3a-84b3-5ed1a61baa9a",
   "metadata": {},
   "outputs": [
    {
     "data": {
      "application/vnd.plotly.v1+json": {
       "config": {
        "plotlyServerURL": "https://plot.ly",
        "staticPlot": false
       },
       "data": [
        {
         "coloraxis": "coloraxis",
         "hovertemplate": "x: %{x}<br>y: %{y}<br>color: %{z}<extra></extra>",
         "name": "0",
         "type": "heatmap",
         "xaxis": "x",
         "yaxis": "y",
         "z": [
          [
           -0.33366668224334717,
           -0.6676450967788696,
           -0.23762041330337524,
           -0.6696275472640991,
           -0.6551179885864258,
           -0.6680248975753784,
           -0.33408936858177185,
           -0.5825647711753845,
           -0.3038301467895508,
           -0.2738194465637207,
           -0.3887418210506439,
           -0.33194229006767273
          ],
          [
           -0.6217105388641357,
           -0.5675714612007141,
           -0.4719741642475128,
           -0.347592830657959,
           -0.37594762444496155,
           -0.2922888696193695,
           -0.18912599980831146,
           -0.2925485372543335,
           -0.2292809635400772,
           -0.22632089257240295,
           -0.470188170671463,
           -0.6146321296691895
          ],
          [
           -0.48856455087661743,
           -0.306275874376297,
           -0.6353018283843994,
           -0.6286836862564087,
           -0.3647008538246155,
           -0.62538081407547,
           -0.275106817483902,
           -0.4528962969779968,
           -0.5736212134361267,
           -0.6454786658287048,
           -0.5452204942703247,
           -0.3595846891403198
          ],
          [
           -0.2819437086582184,
           -0.4248507618904114,
           -0.6320499181747437,
           -0.4114418923854828,
           -0.22568023204803467,
           -0.3397509753704071,
           -0.6399372220039368,
           -0.6520887613296509,
           -0.5698734521865845,
           -0.3841882646083832,
           -0.4506770074367523,
           -0.5379807353019714
          ],
          [
           -0.3398090898990631,
           -0.39732688665390015,
           -0.2972809672355652,
           -0.48172593116760254,
           -0.247813418507576,
           -0.38648420572280884,
           -0.4558056890964508,
           -0.5785731673240662,
           -0.28056302666664124,
           -0.3243727385997772,
           -0.23581379652023315,
           -0.6700276732444763
          ],
          [
           2.762946844100952,
           5.198882102966309,
           -0.3648090362548828,
           -0.4620075225830078,
           -0.4189772605895996,
           4.976840496063232,
           -0.47169527411460876,
           -0.23287388682365417,
           0.3453670144081116,
           -0.14910225570201874,
           -0.26952728629112244,
           -0.21235090494155884
          ],
          [
           -0.47442305088043213,
           -0.20597034692764282,
           -0.2652410864830017,
           -0.3136114478111267,
           -0.26553264260292053,
           -0.39263612031936646,
           -0.08667910099029541,
           -0.3038516938686371,
           -0.4395003318786621,
           4.407050132751465,
           -0.05904584378004074,
           -0.29884713888168335
          ],
          [
           -0.4467478096485138,
           0.5125900506973267,
           3.381870985031128,
           -0.2370915710926056,
           -0.27432510256767273,
           -0.1806432455778122,
           -0.16526171565055847,
           0.07839362323284149,
           -0.2577839493751526,
           -0.1894596964120865,
           4.009420394897461,
           0.06573536247015
          ],
          [
           -0.2600506842136383,
           0.941531777381897,
           -0.3285447359085083,
           -0.16403307020664215,
           -0.21443939208984375,
           -0.34398317337036133,
           0.5847620368003845,
           -0.37445002794265747,
           -0.13034003973007202,
           -0.21010510623455048,
           -0.0029885927215218544,
           -0.2678374648094177
          ],
          [
           0.4680474102497101,
           0.2830224931240082,
           -0.04976113513112068,
           -0.37795621156692505,
           -0.014919482171535492,
           -0.1952483206987381,
           1.344037652015686,
           -0.22333887219429016,
           -0.20016983151435852,
           1.2260340452194214,
           -0.27613455057144165,
           -0.22685633599758148
          ],
          [
           1.2978005409240723,
           2.5000863075256348,
           -0.19313709437847137,
           0.13504596054553986,
           -0.026246562600135803,
           -0.3043328523635864,
           1.0292500257492065,
           0.7266322374343872,
           -0.08804106712341309,
           -0.3115960359573364,
           0.5586994290351868,
           1.288543939590454
          ],
          [
           -0.29826459288597107,
           -0.0613878034055233,
           -0.1034679263830185,
           -0.40540844202041626,
           -0.17351216077804565,
           0.05120280385017395,
           -0.0183483324944973,
           -0.021880533546209335,
           -0.3883001506328583,
           1.6056097745895386,
           0.439423143863678,
           -0.23300600051879883
          ]
         ]
        }
       ],
       "layout": {
        "coloraxis": {
         "cmid": 0,
         "colorscale": [
          [
           0,
           "rgb(103,0,31)"
          ],
          [
           0.1,
           "rgb(178,24,43)"
          ],
          [
           0.2,
           "rgb(214,96,77)"
          ],
          [
           0.3,
           "rgb(244,165,130)"
          ],
          [
           0.4,
           "rgb(253,219,199)"
          ],
          [
           0.5,
           "rgb(247,247,247)"
          ],
          [
           0.6,
           "rgb(209,229,240)"
          ],
          [
           0.7,
           "rgb(146,197,222)"
          ],
          [
           0.8,
           "rgb(67,147,195)"
          ],
          [
           0.9,
           "rgb(33,102,172)"
          ],
          [
           1,
           "rgb(5,48,97)"
          ]
         ]
        },
        "template": {
         "data": {
          "bar": [
           {
            "error_x": {
             "color": "#2a3f5f"
            },
            "error_y": {
             "color": "#2a3f5f"
            },
            "marker": {
             "line": {
              "color": "#E5ECF6",
              "width": 0.5
             },
             "pattern": {
              "fillmode": "overlay",
              "size": 10,
              "solidity": 0.2
             }
            },
            "type": "bar"
           }
          ],
          "barpolar": [
           {
            "marker": {
             "line": {
              "color": "#E5ECF6",
              "width": 0.5
             },
             "pattern": {
              "fillmode": "overlay",
              "size": 10,
              "solidity": 0.2
             }
            },
            "type": "barpolar"
           }
          ],
          "carpet": [
           {
            "aaxis": {
             "endlinecolor": "#2a3f5f",
             "gridcolor": "white",
             "linecolor": "white",
             "minorgridcolor": "white",
             "startlinecolor": "#2a3f5f"
            },
            "baxis": {
             "endlinecolor": "#2a3f5f",
             "gridcolor": "white",
             "linecolor": "white",
             "minorgridcolor": "white",
             "startlinecolor": "#2a3f5f"
            },
            "type": "carpet"
           }
          ],
          "choropleth": [
           {
            "colorbar": {
             "outlinewidth": 0,
             "ticks": ""
            },
            "type": "choropleth"
           }
          ],
          "contour": [
           {
            "colorbar": {
             "outlinewidth": 0,
             "ticks": ""
            },
            "colorscale": [
             [
              0,
              "#0d0887"
             ],
             [
              0.1111111111111111,
              "#46039f"
             ],
             [
              0.2222222222222222,
              "#7201a8"
             ],
             [
              0.3333333333333333,
              "#9c179e"
             ],
             [
              0.4444444444444444,
              "#bd3786"
             ],
             [
              0.5555555555555556,
              "#d8576b"
             ],
             [
              0.6666666666666666,
              "#ed7953"
             ],
             [
              0.7777777777777778,
              "#fb9f3a"
             ],
             [
              0.8888888888888888,
              "#fdca26"
             ],
             [
              1,
              "#f0f921"
             ]
            ],
            "type": "contour"
           }
          ],
          "contourcarpet": [
           {
            "colorbar": {
             "outlinewidth": 0,
             "ticks": ""
            },
            "type": "contourcarpet"
           }
          ],
          "heatmap": [
           {
            "colorbar": {
             "outlinewidth": 0,
             "ticks": ""
            },
            "colorscale": [
             [
              0,
              "#0d0887"
             ],
             [
              0.1111111111111111,
              "#46039f"
             ],
             [
              0.2222222222222222,
              "#7201a8"
             ],
             [
              0.3333333333333333,
              "#9c179e"
             ],
             [
              0.4444444444444444,
              "#bd3786"
             ],
             [
              0.5555555555555556,
              "#d8576b"
             ],
             [
              0.6666666666666666,
              "#ed7953"
             ],
             [
              0.7777777777777778,
              "#fb9f3a"
             ],
             [
              0.8888888888888888,
              "#fdca26"
             ],
             [
              1,
              "#f0f921"
             ]
            ],
            "type": "heatmap"
           }
          ],
          "heatmapgl": [
           {
            "colorbar": {
             "outlinewidth": 0,
             "ticks": ""
            },
            "colorscale": [
             [
              0,
              "#0d0887"
             ],
             [
              0.1111111111111111,
              "#46039f"
             ],
             [
              0.2222222222222222,
              "#7201a8"
             ],
             [
              0.3333333333333333,
              "#9c179e"
             ],
             [
              0.4444444444444444,
              "#bd3786"
             ],
             [
              0.5555555555555556,
              "#d8576b"
             ],
             [
              0.6666666666666666,
              "#ed7953"
             ],
             [
              0.7777777777777778,
              "#fb9f3a"
             ],
             [
              0.8888888888888888,
              "#fdca26"
             ],
             [
              1,
              "#f0f921"
             ]
            ],
            "type": "heatmapgl"
           }
          ],
          "histogram": [
           {
            "marker": {
             "pattern": {
              "fillmode": "overlay",
              "size": 10,
              "solidity": 0.2
             }
            },
            "type": "histogram"
           }
          ],
          "histogram2d": [
           {
            "colorbar": {
             "outlinewidth": 0,
             "ticks": ""
            },
            "colorscale": [
             [
              0,
              "#0d0887"
             ],
             [
              0.1111111111111111,
              "#46039f"
             ],
             [
              0.2222222222222222,
              "#7201a8"
             ],
             [
              0.3333333333333333,
              "#9c179e"
             ],
             [
              0.4444444444444444,
              "#bd3786"
             ],
             [
              0.5555555555555556,
              "#d8576b"
             ],
             [
              0.6666666666666666,
              "#ed7953"
             ],
             [
              0.7777777777777778,
              "#fb9f3a"
             ],
             [
              0.8888888888888888,
              "#fdca26"
             ],
             [
              1,
              "#f0f921"
             ]
            ],
            "type": "histogram2d"
           }
          ],
          "histogram2dcontour": [
           {
            "colorbar": {
             "outlinewidth": 0,
             "ticks": ""
            },
            "colorscale": [
             [
              0,
              "#0d0887"
             ],
             [
              0.1111111111111111,
              "#46039f"
             ],
             [
              0.2222222222222222,
              "#7201a8"
             ],
             [
              0.3333333333333333,
              "#9c179e"
             ],
             [
              0.4444444444444444,
              "#bd3786"
             ],
             [
              0.5555555555555556,
              "#d8576b"
             ],
             [
              0.6666666666666666,
              "#ed7953"
             ],
             [
              0.7777777777777778,
              "#fb9f3a"
             ],
             [
              0.8888888888888888,
              "#fdca26"
             ],
             [
              1,
              "#f0f921"
             ]
            ],
            "type": "histogram2dcontour"
           }
          ],
          "mesh3d": [
           {
            "colorbar": {
             "outlinewidth": 0,
             "ticks": ""
            },
            "type": "mesh3d"
           }
          ],
          "parcoords": [
           {
            "line": {
             "colorbar": {
              "outlinewidth": 0,
              "ticks": ""
             }
            },
            "type": "parcoords"
           }
          ],
          "pie": [
           {
            "automargin": true,
            "type": "pie"
           }
          ],
          "scatter": [
           {
            "fillpattern": {
             "fillmode": "overlay",
             "size": 10,
             "solidity": 0.2
            },
            "type": "scatter"
           }
          ],
          "scatter3d": [
           {
            "line": {
             "colorbar": {
              "outlinewidth": 0,
              "ticks": ""
             }
            },
            "marker": {
             "colorbar": {
              "outlinewidth": 0,
              "ticks": ""
             }
            },
            "type": "scatter3d"
           }
          ],
          "scattercarpet": [
           {
            "marker": {
             "colorbar": {
              "outlinewidth": 0,
              "ticks": ""
             }
            },
            "type": "scattercarpet"
           }
          ],
          "scattergeo": [
           {
            "marker": {
             "colorbar": {
              "outlinewidth": 0,
              "ticks": ""
             }
            },
            "type": "scattergeo"
           }
          ],
          "scattergl": [
           {
            "marker": {
             "colorbar": {
              "outlinewidth": 0,
              "ticks": ""
             }
            },
            "type": "scattergl"
           }
          ],
          "scattermapbox": [
           {
            "marker": {
             "colorbar": {
              "outlinewidth": 0,
              "ticks": ""
             }
            },
            "type": "scattermapbox"
           }
          ],
          "scatterpolar": [
           {
            "marker": {
             "colorbar": {
              "outlinewidth": 0,
              "ticks": ""
             }
            },
            "type": "scatterpolar"
           }
          ],
          "scatterpolargl": [
           {
            "marker": {
             "colorbar": {
              "outlinewidth": 0,
              "ticks": ""
             }
            },
            "type": "scatterpolargl"
           }
          ],
          "scatterternary": [
           {
            "marker": {
             "colorbar": {
              "outlinewidth": 0,
              "ticks": ""
             }
            },
            "type": "scatterternary"
           }
          ],
          "surface": [
           {
            "colorbar": {
             "outlinewidth": 0,
             "ticks": ""
            },
            "colorscale": [
             [
              0,
              "#0d0887"
             ],
             [
              0.1111111111111111,
              "#46039f"
             ],
             [
              0.2222222222222222,
              "#7201a8"
             ],
             [
              0.3333333333333333,
              "#9c179e"
             ],
             [
              0.4444444444444444,
              "#bd3786"
             ],
             [
              0.5555555555555556,
              "#d8576b"
             ],
             [
              0.6666666666666666,
              "#ed7953"
             ],
             [
              0.7777777777777778,
              "#fb9f3a"
             ],
             [
              0.8888888888888888,
              "#fdca26"
             ],
             [
              1,
              "#f0f921"
             ]
            ],
            "type": "surface"
           }
          ],
          "table": [
           {
            "cells": {
             "fill": {
              "color": "#EBF0F8"
             },
             "line": {
              "color": "white"
             }
            },
            "header": {
             "fill": {
              "color": "#C8D4E3"
             },
             "line": {
              "color": "white"
             }
            },
            "type": "table"
           }
          ]
         },
         "layout": {
          "annotationdefaults": {
           "arrowcolor": "#2a3f5f",
           "arrowhead": 0,
           "arrowwidth": 1
          },
          "autotypenumbers": "strict",
          "coloraxis": {
           "colorbar": {
            "outlinewidth": 0,
            "ticks": ""
           }
          },
          "colorscale": {
           "diverging": [
            [
             0,
             "#8e0152"
            ],
            [
             0.1,
             "#c51b7d"
            ],
            [
             0.2,
             "#de77ae"
            ],
            [
             0.3,
             "#f1b6da"
            ],
            [
             0.4,
             "#fde0ef"
            ],
            [
             0.5,
             "#f7f7f7"
            ],
            [
             0.6,
             "#e6f5d0"
            ],
            [
             0.7,
             "#b8e186"
            ],
            [
             0.8,
             "#7fbc41"
            ],
            [
             0.9,
             "#4d9221"
            ],
            [
             1,
             "#276419"
            ]
           ],
           "sequential": [
            [
             0,
             "#0d0887"
            ],
            [
             0.1111111111111111,
             "#46039f"
            ],
            [
             0.2222222222222222,
             "#7201a8"
            ],
            [
             0.3333333333333333,
             "#9c179e"
            ],
            [
             0.4444444444444444,
             "#bd3786"
            ],
            [
             0.5555555555555556,
             "#d8576b"
            ],
            [
             0.6666666666666666,
             "#ed7953"
            ],
            [
             0.7777777777777778,
             "#fb9f3a"
            ],
            [
             0.8888888888888888,
             "#fdca26"
            ],
            [
             1,
             "#f0f921"
            ]
           ],
           "sequentialminus": [
            [
             0,
             "#0d0887"
            ],
            [
             0.1111111111111111,
             "#46039f"
            ],
            [
             0.2222222222222222,
             "#7201a8"
            ],
            [
             0.3333333333333333,
             "#9c179e"
            ],
            [
             0.4444444444444444,
             "#bd3786"
            ],
            [
             0.5555555555555556,
             "#d8576b"
            ],
            [
             0.6666666666666666,
             "#ed7953"
            ],
            [
             0.7777777777777778,
             "#fb9f3a"
            ],
            [
             0.8888888888888888,
             "#fdca26"
            ],
            [
             1,
             "#f0f921"
            ]
           ]
          },
          "colorway": [
           "#636efa",
           "#EF553B",
           "#00cc96",
           "#ab63fa",
           "#FFA15A",
           "#19d3f3",
           "#FF6692",
           "#B6E880",
           "#FF97FF",
           "#FECB52"
          ],
          "font": {
           "color": "#2a3f5f"
          },
          "geo": {
           "bgcolor": "white",
           "lakecolor": "white",
           "landcolor": "#E5ECF6",
           "showlakes": true,
           "showland": true,
           "subunitcolor": "white"
          },
          "hoverlabel": {
           "align": "left"
          },
          "hovermode": "closest",
          "mapbox": {
           "style": "light"
          },
          "paper_bgcolor": "white",
          "plot_bgcolor": "#E5ECF6",
          "polar": {
           "angularaxis": {
            "gridcolor": "white",
            "linecolor": "white",
            "ticks": ""
           },
           "bgcolor": "#E5ECF6",
           "radialaxis": {
            "gridcolor": "white",
            "linecolor": "white",
            "ticks": ""
           }
          },
          "scene": {
           "xaxis": {
            "backgroundcolor": "#E5ECF6",
            "gridcolor": "white",
            "gridwidth": 2,
            "linecolor": "white",
            "showbackground": true,
            "ticks": "",
            "zerolinecolor": "white"
           },
           "yaxis": {
            "backgroundcolor": "#E5ECF6",
            "gridcolor": "white",
            "gridwidth": 2,
            "linecolor": "white",
            "showbackground": true,
            "ticks": "",
            "zerolinecolor": "white"
           },
           "zaxis": {
            "backgroundcolor": "#E5ECF6",
            "gridcolor": "white",
            "gridwidth": 2,
            "linecolor": "white",
            "showbackground": true,
            "ticks": "",
            "zerolinecolor": "white"
           }
          },
          "shapedefaults": {
           "line": {
            "color": "#2a3f5f"
           }
          },
          "ternary": {
           "aaxis": {
            "gridcolor": "white",
            "linecolor": "white",
            "ticks": ""
           },
           "baxis": {
            "gridcolor": "white",
            "linecolor": "white",
            "ticks": ""
           },
           "bgcolor": "#E5ECF6",
           "caxis": {
            "gridcolor": "white",
            "linecolor": "white",
            "ticks": ""
           }
          },
          "title": {
           "x": 0.05
          },
          "xaxis": {
           "automargin": true,
           "gridcolor": "white",
           "linecolor": "white",
           "ticks": "",
           "title": {
            "standoff": 15
           },
           "zerolinecolor": "white",
           "zerolinewidth": 2
          },
          "yaxis": {
           "automargin": true,
           "gridcolor": "white",
           "linecolor": "white",
           "ticks": "",
           "title": {
            "standoff": 15
           },
           "zerolinecolor": "white",
           "zerolinewidth": 2
          }
         }
        },
        "title": {
         "text": "which heads attend most strongly to the correct token on the repeated random tokens task"
        },
        "xaxis": {
         "anchor": "y",
         "constrain": "domain",
         "domain": [
          0,
          1
         ],
         "scaleanchor": "y"
        },
        "yaxis": {
         "anchor": "x",
         "autorange": "reversed",
         "constrain": "domain",
         "domain": [
          0,
          1
         ]
        }
       }
      }
     },
     "metadata": {},
     "output_type": "display_data"
    },
    {
     "name": "stdout",
     "output_type": "stream",
     "text": [
      "model score on the repeated random tokens task: \u001b[1m11.288\u001b[0m\n",
      "\u001b[92m top previous token heads: [(4, 11, 0.9343152046203613), (3, 7, 0.5203878879547119), (2, 2, 0.5052446722984314), (6, 8, 0.47522827982902527), (2, 9, 0.402784526348114)] \u001b[0m\n",
      "\u001b[96m top induction heads: [(5, 1, 0.3944206237792969), (5, 5, 0.39385485649108887), (6, 9, 0.3487361669540405), (7, 10, 0.3409841060638428), (7, 2, 0.3111771047115326)] \u001b[0m\n"
     ]
    }
   ],
   "source": [
    "#%%\n",
    "\n",
    "induction_scores = induction_score_map(model)\n",
    "imshow(induction_scores, title=\"which heads attend most strongly to the correct token on the repeated random tokens task\")\n",
    "tokens = gen_induction_test(16)\n",
    "logits, cache = model.run_with_cache(tokens)\n",
    "\n",
    "print(f\"model score on the repeated random tokens task: {bold}{induction_task_score(model):.3f}{endc}\")\n",
    "\n",
    "top_pheads, top_iheads = find_induction_heads(cache)\n",
    "print(lime, f\"top previous token heads: {top_pheads[:5]}\", endc)\n",
    "print(cyan, f\"top induction heads: {top_iheads[:5]}\", endc)"
   ]
  },
  {
   "cell_type": "code",
   "execution_count": null,
   "id": "a9f53910-dde4-4ad6-a48d-e5df3283f63f",
   "metadata": {},
   "outputs": [
    {
     "name": "stdout",
     "output_type": "stream",
     "text": [
      "our strongest prev token head is 4.11 with over 90% of its attn on the prev token. Second most has less than 50%. our induction-y heads on the repeated tokens task were 5.1, 7.2, 5.0, 6.9, 5.5, decreasing monotonically with 5.1 at about .37 iscore The fact that there are no standout inductiony heads lends credence to the idea that they are __literally__ just doing induction. probably there is some specialization in the heads, like diff types of induction, or totally different, non induction jobs on other prompts.\n"
     ]
    }
   ],
   "source": [
    "#%%\n",
    "\n",
    "patterns = t.stack([cache[\"pattern\", layer] for layer in range(model.cfg.n_layers)])[:, 0, :, :]\n",
    "layer = 4\n",
    "cv.attention.attention_patterns(\n",
    "    attention = patterns[layer],\n",
    "    tokens = model.to_str_tokens(tokens[0]),\n",
    "    attention_head_names = [f\"{layer}.{head}\" for head in range(model.cfg.n_heads)],\n",
    ")\n",
    "print(\"our strongest prev token head is 4.11 with over 90% of its attn on the prev token. Second most has less than 50%. our induction-y heads on the repeated tokens task were 5.1, 7.2, 5.0, 6.9, 5.5, decreasing monotonically with 5.1 at about .37 iscore The fact that there are no standout inductiony heads lends credence to the idea that they are __literally__ just doing induction. probably there is some specialization in the heads, like diff types of induction, or totally different, non induction jobs on other prompts.\")"
   ]
  },
  {
   "cell_type": "code",
   "execution_count": null,
   "id": "905c49a5-de39-4e27-94d8-445cffe10964",
   "metadata": {},
   "outputs": [
    {
     "name": "stdout",
     "output_type": "stream",
     "text": [
      "Here we test our strict previous token head hook. It provides a very small but consistent improvement to performance on the repeated random tokens task.\n",
      "\u001b[92m original model score on the repeated random tokens task: \u001b[1m10.936236381530762\u001b[0m \u001b[0m\n",
      "\u001b[92m model score on the repeated random tokens task with head 4.11 replaced with a strict inductor: \u001b[1m11.014033317565918\u001b[0m \u001b[0m\n"
     ]
    }
   ],
   "source": [
    "#%%\n",
    "\n",
    "# this replaces an attention pattern with one which attends entirely to the previous token and nothing else.\n",
    "def strict_prev_token_head_hook(\n",
    "        patterns: Float[Tensor, \"batch seq seq\"],\n",
    "        hook: HookPoint,\n",
    "        head: int\n",
    ") -> Float[Tensor, \"batch seq seq\"]:\n",
    "    batch_size, nhead, seq, _ = patterns.shape\n",
    "    patterns[:, head] = t.zeros_like(patterns[:, head])\n",
    "    for i in range(batch_size):\n",
    "        t.ones((seq-1), out=patterns[i, head].diagonal(-1))\n",
    "    patterns[..., 0, 0] = 1.0\n",
    "    return patterns\n",
    "\n",
    "print(\"Here we test our strict previous token head hook. It provides a very small but consistent improvement to performance on the repeated random tokens task.\")\n",
    "tokens = gen_induction_test(16, 32)\n",
    "cleanlogits = model.forward(tokens)\n",
    "print(lime, f\"original model score on the repeated random tokens task: {bold}{loss(cleanlogits, tokens)}{endc}\", endc)\n",
    "layer, head = 4, 11\n",
    "hook = partial(strict_prev_token_head_hook, head=head)\n",
    "logits = model.run_with_hooks(tokens, fwd_hooks=[(lambda name: name==f\"blocks.{layer}.attn.hook_pattern\", hook)])\n",
    "print(lime, f\"model score on the repeated random tokens task with head {layer}.{head} replaced with a strict inductor: {bold}{loss(logits, tokens)}{endc}\", endc)"
   ]
  },
  {
   "cell_type": "code",
   "execution_count": null,
   "id": "a4fa07d8-9464-48db-bd6a-a8f2175fdf48",
   "metadata": {},
   "outputs": [],
   "source": [
    "#%%\n",
    "\n",
    "# This is my take on an 'only induction head'.\n",
    "# We first calculate the attention scores normally.\n",
    "# then we go and find, for each sequence position, indices of duplicats of the \n",
    "# current token. We store the indices of the token after these duplicates.\n",
    "# Then we go around recalculating attention scores based on if the destination\n",
    "# token has a duplicate anywhere before it. If it does, we artificially set\n",
    "# the key of that src token (the one after the previous self duplicate) to be\n",
    "# identical to our current token's query vector. This emulates a particular token\n",
    "# head looking for exactly the token that came after some previous duplicate of itself\n",
    "# whihc is what induction does.\n",
    "# We also exclude induction for periods and commas becuase is seems like the heads\n",
    "# do that normally.\n",
    "# Also if there are multiple self duplicates with different following tokens, we \n",
    "# maximize the key-query similarity for all of them and split up the attention.\n",
    "# Destination tokens without a duplicate in the context are unmodified.\n",
    "def strict_induction_head_hook(\n",
    "        patterns: Float[Tensor, \"batch seq seq\"],\n",
    "        cache: ActivationCache,\n",
    "        hook: HookPoint,\n",
    "        head: int,\n",
    "        tokens: Int[Tensor, \"batch seq\"],\n",
    "        vis_pattern = False,\n",
    "        pattern_out = None\n",
    ") -> Float[Tensor, \"batch seq seq\"]:\n",
    "    hookname = f\"blocks.{hook.layer()}.attn.hook_\"\n",
    "    q, k = cache[hookname+'q'], cache[hookname+'k']\n",
    "\n",
    "    # for each current token, get a list of indices of previous identical tokens\n",
    "    nexttoks = []\n",
    "    for i, tok in enumerate(tokens[0]):\n",
    "        current = tok.item()\n",
    "        same = (tokens[0] == current).nonzero().squeeze().tolist()\n",
    "        if current not in [11, 13] and isinstance(same, list) and len(same) > 1:\n",
    "            same = [ti+1 for ti in same if ti < i]\n",
    "            nexttoks.append(same)\n",
    "        else:\n",
    "            nexttoks.append([])\n",
    "\n",
    "    # calculate attention scores\n",
    "    attn_scores = einops.einsum(\n",
    "        q, k,\n",
    "        \"batch posn_Q nheads d_head, batch posn_K nheads d_head -> batch nheads posn_Q posn_K\", \n",
    "    )\n",
    "    for i, nexttoks in enumerate(nexttoks): # for every token\n",
    "        if len(nexttoks) != 0: # if it has duplicates\n",
    "            for dupe_idx in nexttoks:\n",
    "                # change our dest query to = src token (prev duplicate indices + 1) key and dot them together to get score\n",
    "                attn_scores[:, head, i, dupe_idx] = einops.einsum(q[:, i, head], q[:, i, head], \"batch d_head, batch d_head -> batch\")\n",
    "\n",
    "    # rest of normal attention\n",
    "    attn_scores /= model.cfg.d_head ** 0.5\n",
    "    all_ones = t.ones(attn_scores.size(-2), attn_scores.size(-1), device=attn_scores.device)\n",
    "    mask = t.triu(all_ones, diagonal=1).bool()\n",
    "    attn_scores.masked_fill_(mask, -1E5)\n",
    "    attn_pattern = attn_scores.softmax(-1)\n",
    "    if vis_pattern:\n",
    "        cv.attention.attention_pattern(\n",
    "            attention = attn_pattern[0, head],\n",
    "            tokens = model.to_str_tokens(tokens.squeeze()),\n",
    "        ).show()\n",
    "    if pattern_out is not None: pattern_out = attn_pattern[0, head]\n",
    "    return attn_pattern\n",
    "\n",
    "def attn_out_random_ablation_hook(\n",
    "        attn_out: Float[Tensor, \"batch seq d_model\"],\n",
    "        hook: HookPoint,\n",
    "        head: int,\n",
    ") -> Float[Tensor, \"batch seq d_model\"]:\n",
    "    mean, var = attn_out[:, head].mean(), attn_out[:, head].var()\n",
    "    attn_out[:, head] = var*t.rand(attn_out[:, head].shape, device=attn_out.device) + mean\n",
    "    return attn_out\n",
    "\n",
    "def replace_heads_with_strict_induction(model,  heads, cache, tokens):\n",
    "    for layer, head in heads:\n",
    "        hook = partial(strict_induction_head_hook, head=head, tokens=tokens, cache=cache)\n",
    "        logits = model.run_with_hooks(tokens, fwd_hooks=[(f\"blocks.{layer}.attn.hook_pattern\", hook)])\n",
    "    return logits\n",
    "\n",
    "@t.inference_mode()\n",
    "def strict_induction_ablation_map(model, clean_cache, tokens, normalize=False):\n",
    "    clean_loss = loss(model.forward(tokens), tokens)\n",
    "    model.reset_hooks()\n",
    "    induction_scores = t.zeros((model.cfg.n_layers, model.cfg.n_heads), device=device)\n",
    "    for layer in trange(model.cfg.n_layers, ncols=100, desc=\"mapping strict induction ablations. . .\"):\n",
    "        for head in range(model.cfg.n_heads):\n",
    "            t.cuda.empty_cache()\n",
    "            hook = partial(strict_induction_head_hook, head=head, tokens=tokens, cache=clean_cache)\n",
    "            logits = model.run_with_hooks(tokens, fwd_hooks=[(f\"blocks.{layer}.attn.hook_pattern\", hook)])\n",
    "            induction_scores[layer, head] = loss(logits, tokens) - clean_loss\n",
    "    if normalize: return (induction_scores - induction_scores.mean()) / induction_scores.std()\n",
    "    return induction_scores\n",
    "\n",
    "@t.inference_mode()\n",
    "def random_ablation_map(model, tokens, start_layer=0, normalize=False):\n",
    "    model.reset_hooks()\n",
    "    clean_loss = loss(model.forward(tokens), tokens)\n",
    "    scores = t.zeros((model.cfg.n_layers-start_layer, model.cfg.n_heads), device=device)\n",
    "    for layer in trange(start_layer, model.cfg.n_layers, ncols=100, desc=\"mapping noise ablations. . .\"):\n",
    "        for head in range(model.cfg.n_heads):\n",
    "            t.cuda.empty_cache()\n",
    "            hook = partial(attn_out_random_ablation_hook, head=head)\n",
    "            logits = model.run_with_hooks(tokens, fwd_hooks=[(f\"blocks.{layer}.hook_attn_out\", hook)])\n",
    "            scores[layer-start_layer, head] = loss(logits, tokens) - clean_loss\n",
    "\n",
    "    if normalize: return (scores - scores.mean()) / scores.std()\n",
    "    return scores"
   ]
  },
  {
   "cell_type": "code",
   "execution_count": null,
   "id": "4677dd63-689d-47a0-9b4d-d39924106a0a",
   "metadata": {},
   "outputs": [
    {
     "name": "stdout",
     "output_type": "stream",
     "text": [
      "pattern for 5.1 (an induction head) on harry potter\n"
     ]
    },
    {
     "data": {
      "text/html": [
       "<div id=\"circuits-vis-24af92c6-0d5f\" style=\"margin: 15px 0;\"/>\n",
       "    <script crossorigin type=\"module\">\n",
       "    import { render, AttentionPattern } from \"https://unpkg.com/circuitsvis@1.41.0/dist/cdn/esm.js\";\n",
       "    render(\n",
       "      \"circuits-vis-24af92c6-0d5f\",\n",
       "      AttentionPattern,\n",
       "      {\"tokens\": [\"Mr\", \" and\", \" Mrs\", \" D\", \"urs\", \"ley\", \",\", \" of\", \" number\", \" four\", \",\", \" Pri\", \"vet\", \" Drive\", \",\", \" were\", \" proud\", \" to\", \" say\", \" that\", \" they\", \" were\", \" perfectly\", \" normal\", \",\", \" thank\", \" you\", \" very\", \" much\", \".\", \" They\", \" were\", \" the\", \" last\", \" people\", \" you\", \"'d\", \" expect\", \" to\", \" be\", \" involved\", \" in\", \" anything\", \" strange\", \" or\", \" mysterious\", \",\", \" because\", \" they\", \" just\", \" didn\", \"'t\", \" hold\", \" with\", \" such\", \" nonsense\", \".\", \" Mr\", \" D\", \"urs\", \"ley\", \" was\", \" the\", \" director\", \" of\", \" a\", \" firm\", \" called\", \" Gr\", \"unn\", \"ings\", \",\", \" which\", \" made\", \" drills\", \".\"], \"attention\": [[1.0, 0.0, 0.0, 0.0, 0.0, 0.0, 0.0, 0.0, 0.0, 0.0, 0.0, 0.0, 0.0, 0.0, 0.0, 0.0, 0.0, 0.0, 0.0, 0.0, 0.0, 0.0, 0.0, 0.0, 0.0, 0.0, 0.0, 0.0, 0.0, 0.0, 0.0, 0.0, 0.0, 0.0, 0.0, 0.0, 0.0, 0.0, 0.0, 0.0, 0.0, 0.0, 0.0, 0.0, 0.0, 0.0, 0.0, 0.0, 0.0, 0.0, 0.0, 0.0, 0.0, 0.0, 0.0, 0.0, 0.0, 0.0, 0.0, 0.0, 0.0, 0.0, 0.0, 0.0, 0.0, 0.0, 0.0, 0.0, 0.0, 0.0, 0.0, 0.0, 0.0, 0.0, 0.0, 0.0], [0.9998010993003845, 0.00019889522809535265, 0.0, 0.0, 0.0, 0.0, 0.0, 0.0, 0.0, 0.0, 0.0, 0.0, 0.0, 0.0, 0.0, 0.0, 0.0, 0.0, 0.0, 0.0, 0.0, 0.0, 0.0, 0.0, 0.0, 0.0, 0.0, 0.0, 0.0, 0.0, 0.0, 0.0, 0.0, 0.0, 0.0, 0.0, 0.0, 0.0, 0.0, 0.0, 0.0, 0.0, 0.0, 0.0, 0.0, 0.0, 0.0, 0.0, 0.0, 0.0, 0.0, 0.0, 0.0, 0.0, 0.0, 0.0, 0.0, 0.0, 0.0, 0.0, 0.0, 0.0, 0.0, 0.0, 0.0, 0.0, 0.0, 0.0, 0.0, 0.0, 0.0, 0.0, 0.0, 0.0, 0.0, 0.0], [0.9990556836128235, 0.000386596453608945, 0.0005577271222136915, 0.0, 0.0, 0.0, 0.0, 0.0, 0.0, 0.0, 0.0, 0.0, 0.0, 0.0, 0.0, 0.0, 0.0, 0.0, 0.0, 0.0, 0.0, 0.0, 0.0, 0.0, 0.0, 0.0, 0.0, 0.0, 0.0, 0.0, 0.0, 0.0, 0.0, 0.0, 0.0, 0.0, 0.0, 0.0, 0.0, 0.0, 0.0, 0.0, 0.0, 0.0, 0.0, 0.0, 0.0, 0.0, 0.0, 0.0, 0.0, 0.0, 0.0, 0.0, 0.0, 0.0, 0.0, 0.0, 0.0, 0.0, 0.0, 0.0, 0.0, 0.0, 0.0, 0.0, 0.0, 0.0, 0.0, 0.0, 0.0, 0.0, 0.0, 0.0, 0.0, 0.0], [0.9999051094055176, 8.795136068329157e-07, 2.1559956167038763e-06, 9.18963851290755e-05, 0.0, 0.0, 0.0, 0.0, 0.0, 0.0, 0.0, 0.0, 0.0, 0.0, 0.0, 0.0, 0.0, 0.0, 0.0, 0.0, 0.0, 0.0, 0.0, 0.0, 0.0, 0.0, 0.0, 0.0, 0.0, 0.0, 0.0, 0.0, 0.0, 0.0, 0.0, 0.0, 0.0, 0.0, 0.0, 0.0, 0.0, 0.0, 0.0, 0.0, 0.0, 0.0, 0.0, 0.0, 0.0, 0.0, 0.0, 0.0, 0.0, 0.0, 0.0, 0.0, 0.0, 0.0, 0.0, 0.0, 0.0, 0.0, 0.0, 0.0, 0.0, 0.0, 0.0, 0.0, 0.0, 0.0, 0.0, 0.0, 0.0, 0.0, 0.0, 0.0], [0.9999966621398926, 2.3128814063966274e-07, 1.4579072740161791e-06, 4.348658819708362e-07, 1.159976363851456e-06, 0.0, 0.0, 0.0, 0.0, 0.0, 0.0, 0.0, 0.0, 0.0, 0.0, 0.0, 0.0, 0.0, 0.0, 0.0, 0.0, 0.0, 0.0, 0.0, 0.0, 0.0, 0.0, 0.0, 0.0, 0.0, 0.0, 0.0, 0.0, 0.0, 0.0, 0.0, 0.0, 0.0, 0.0, 0.0, 0.0, 0.0, 0.0, 0.0, 0.0, 0.0, 0.0, 0.0, 0.0, 0.0, 0.0, 0.0, 0.0, 0.0, 0.0, 0.0, 0.0, 0.0, 0.0, 0.0, 0.0, 0.0, 0.0, 0.0, 0.0, 0.0, 0.0, 0.0, 0.0, 0.0, 0.0, 0.0, 0.0, 0.0, 0.0, 0.0], [0.999832034111023, 8.567366904799201e-08, 3.226845706194581e-07, 3.201068636826676e-07, 2.3647302782592305e-08, 0.00016717913968022913, 0.0, 0.0, 0.0, 0.0, 0.0, 0.0, 0.0, 0.0, 0.0, 0.0, 0.0, 0.0, 0.0, 0.0, 0.0, 0.0, 0.0, 0.0, 0.0, 0.0, 0.0, 0.0, 0.0, 0.0, 0.0, 0.0, 0.0, 0.0, 0.0, 0.0, 0.0, 0.0, 0.0, 0.0, 0.0, 0.0, 0.0, 0.0, 0.0, 0.0, 0.0, 0.0, 0.0, 0.0, 0.0, 0.0, 0.0, 0.0, 0.0, 0.0, 0.0, 0.0, 0.0, 0.0, 0.0, 0.0, 0.0, 0.0, 0.0, 0.0, 0.0, 0.0, 0.0, 0.0, 0.0, 0.0, 0.0, 0.0, 0.0, 0.0], [0.9997959733009338, 8.005962115475995e-08, 1.634352156543173e-05, 1.590173496879288e-06, 3.524118881159666e-07, 8.2097913036705e-06, 0.00017741175543051213, 0.0, 0.0, 0.0, 0.0, 0.0, 0.0, 0.0, 0.0, 0.0, 0.0, 0.0, 0.0, 0.0, 0.0, 0.0, 0.0, 0.0, 0.0, 0.0, 0.0, 0.0, 0.0, 0.0, 0.0, 0.0, 0.0, 0.0, 0.0, 0.0, 0.0, 0.0, 0.0, 0.0, 0.0, 0.0, 0.0, 0.0, 0.0, 0.0, 0.0, 0.0, 0.0, 0.0, 0.0, 0.0, 0.0, 0.0, 0.0, 0.0, 0.0, 0.0, 0.0, 0.0, 0.0, 0.0, 0.0, 0.0, 0.0, 0.0, 0.0, 0.0, 0.0, 0.0, 0.0, 0.0, 0.0, 0.0, 0.0, 0.0], [0.9991046786308289, 9.509807341601118e-08, 2.6755456019600388e-06, 7.903884124971228e-07, 2.13064037524191e-08, 2.6901690830527514e-07, 1.4514484973915387e-06, 0.0008899353560991585, 0.0, 0.0, 0.0, 0.0, 0.0, 0.0, 0.0, 0.0, 0.0, 0.0, 0.0, 0.0, 0.0, 0.0, 0.0, 0.0, 0.0, 0.0, 0.0, 0.0, 0.0, 0.0, 0.0, 0.0, 0.0, 0.0, 0.0, 0.0, 0.0, 0.0, 0.0, 0.0, 0.0, 0.0, 0.0, 0.0, 0.0, 0.0, 0.0, 0.0, 0.0, 0.0, 0.0, 0.0, 0.0, 0.0, 0.0, 0.0, 0.0, 0.0, 0.0, 0.0, 0.0, 0.0, 0.0, 0.0, 0.0, 0.0, 0.0, 0.0, 0.0, 0.0, 0.0, 0.0, 0.0, 0.0, 0.0, 0.0], [0.9950395226478577, 2.919866233241919e-07, 4.230022057072347e-07, 3.297644752819906e-07, 4.764177941041225e-10, 2.651055197588903e-08, 2.469056425979943e-07, 4.369963789940812e-06, 0.004954770673066378, 0.0, 0.0, 0.0, 0.0, 0.0, 0.0, 0.0, 0.0, 0.0, 0.0, 0.0, 0.0, 0.0, 0.0, 0.0, 0.0, 0.0, 0.0, 0.0, 0.0, 0.0, 0.0, 0.0, 0.0, 0.0, 0.0, 0.0, 0.0, 0.0, 0.0, 0.0, 0.0, 0.0, 0.0, 0.0, 0.0, 0.0, 0.0, 0.0, 0.0, 0.0, 0.0, 0.0, 0.0, 0.0, 0.0, 0.0, 0.0, 0.0, 0.0, 0.0, 0.0, 0.0, 0.0, 0.0, 0.0, 0.0, 0.0, 0.0, 0.0, 0.0, 0.0, 0.0, 0.0, 0.0, 0.0, 0.0], [0.9982389211654663, 4.5067969267620356e-07, 1.127579025705927e-06, 5.7665982211574374e-08, 1.8837444937247483e-09, 2.7486077414096144e-08, 7.448000360454898e-06, 6.83284406477469e-06, 3.3655345760053024e-05, 0.001711476594209671, 0.0, 0.0, 0.0, 0.0, 0.0, 0.0, 0.0, 0.0, 0.0, 0.0, 0.0, 0.0, 0.0, 0.0, 0.0, 0.0, 0.0, 0.0, 0.0, 0.0, 0.0, 0.0, 0.0, 0.0, 0.0, 0.0, 0.0, 0.0, 0.0, 0.0, 0.0, 0.0, 0.0, 0.0, 0.0, 0.0, 0.0, 0.0, 0.0, 0.0, 0.0, 0.0, 0.0, 0.0, 0.0, 0.0, 0.0, 0.0, 0.0, 0.0, 0.0, 0.0, 0.0, 0.0, 0.0, 0.0, 0.0, 0.0, 0.0, 0.0, 0.0, 0.0, 0.0, 0.0, 0.0, 0.0], [0.9946922659873962, 1.690548288024729e-07, 1.0907456271525007e-05, 1.9627831804314155e-08, 1.1717089520857371e-09, 1.1852348080765296e-07, 5.955567417004204e-07, 0.0007583659025840461, 0.0004937706398777664, 2.100467281707097e-05, 0.004022788722068071, 0.0, 0.0, 0.0, 0.0, 0.0, 0.0, 0.0, 0.0, 0.0, 0.0, 0.0, 0.0, 0.0, 0.0, 0.0, 0.0, 0.0, 0.0, 0.0, 0.0, 0.0, 0.0, 0.0, 0.0, 0.0, 0.0, 0.0, 0.0, 0.0, 0.0, 0.0, 0.0, 0.0, 0.0, 0.0, 0.0, 0.0, 0.0, 0.0, 0.0, 0.0, 0.0, 0.0, 0.0, 0.0, 0.0, 0.0, 0.0, 0.0, 0.0, 0.0, 0.0, 0.0, 0.0, 0.0, 0.0, 0.0, 0.0, 0.0, 0.0, 0.0, 0.0, 0.0, 0.0, 0.0], [0.9996515512466431, 1.149350828200113e-05, 3.3631420137680834e-06, 1.742870949783537e-06, 7.73702990564118e-10, 4.426937039170298e-07, 1.1166799396278293e-07, 6.327304049591476e-07, 1.0291391845385078e-05, 8.48781201057136e-06, 3.51339758708491e-06, 0.0003083324700128287, 0.0, 0.0, 0.0, 0.0, 0.0, 0.0, 0.0, 0.0, 0.0, 0.0, 0.0, 0.0, 0.0, 0.0, 0.0, 0.0, 0.0, 0.0, 0.0, 0.0, 0.0, 0.0, 0.0, 0.0, 0.0, 0.0, 0.0, 0.0, 0.0, 0.0, 0.0, 0.0, 0.0, 0.0, 0.0, 0.0, 0.0, 0.0, 0.0, 0.0, 0.0, 0.0, 0.0, 0.0, 0.0, 0.0, 0.0, 0.0, 0.0, 0.0, 0.0, 0.0, 0.0, 0.0, 0.0, 0.0, 0.0, 0.0, 0.0, 0.0, 0.0, 0.0, 0.0, 0.0], [0.9998345375061035, 1.1904978236998431e-05, 1.5012204130471218e-05, 3.2182594367213824e-08, 5.6669859777036535e-12, 9.040860504683224e-07, 3.5516470688889967e-06, 1.0580810112514882e-06, 7.637423493633833e-08, 1.0533765504305848e-07, 1.9182975847797934e-06, 5.465479625854641e-05, 7.61325572966598e-05, 0.0, 0.0, 0.0, 0.0, 0.0, 0.0, 0.0, 0.0, 0.0, 0.0, 0.0, 0.0, 0.0, 0.0, 0.0, 0.0, 0.0, 0.0, 0.0, 0.0, 0.0, 0.0, 0.0, 0.0, 0.0, 0.0, 0.0, 0.0, 0.0, 0.0, 0.0, 0.0, 0.0, 0.0, 0.0, 0.0, 0.0, 0.0, 0.0, 0.0, 0.0, 0.0, 0.0, 0.0, 0.0, 0.0, 0.0, 0.0, 0.0, 0.0, 0.0, 0.0, 0.0, 0.0, 0.0, 0.0, 0.0, 0.0, 0.0, 0.0, 0.0, 0.0, 0.0], [0.9998005032539368, 1.325036151911263e-07, 2.9474003682139482e-08, 2.6732015712127577e-08, 4.123220168072983e-11, 1.1628669938090752e-07, 5.225065615377389e-05, 6.3991617935244e-05, 1.0588988743620575e-06, 4.073783088642813e-08, 7.685315495109535e-07, 1.100023200706346e-05, 1.5420601684468238e-08, 7.009014370851219e-05, 0.0, 0.0, 0.0, 0.0, 0.0, 0.0, 0.0, 0.0, 0.0, 0.0, 0.0, 0.0, 0.0, 0.0, 0.0, 0.0, 0.0, 0.0, 0.0, 0.0, 0.0, 0.0, 0.0, 0.0, 0.0, 0.0, 0.0, 0.0, 0.0, 0.0, 0.0, 0.0, 0.0, 0.0, 0.0, 0.0, 0.0, 0.0, 0.0, 0.0, 0.0, 0.0, 0.0, 0.0, 0.0, 0.0, 0.0, 0.0, 0.0, 0.0, 0.0, 0.0, 0.0, 0.0, 0.0, 0.0, 0.0, 0.0, 0.0, 0.0, 0.0, 0.0], [0.9926635026931763, 5.30338333248892e-08, 3.143797755456035e-07, 5.27386534443508e-09, 1.5760634117234495e-11, 8.348625790688402e-09, 7.395717602776131e-07, 0.0009564193314872682, 8.855451596900821e-05, 8.283423369448428e-08, 5.141781684869784e-07, 0.002408146159723401, 4.301397571460086e-10, 2.826750687745516e-06, 0.0038788453675806522, 0.0, 0.0, 0.0, 0.0, 0.0, 0.0, 0.0, 0.0, 0.0, 0.0, 0.0, 0.0, 0.0, 0.0, 0.0, 0.0, 0.0, 0.0, 0.0, 0.0, 0.0, 0.0, 0.0, 0.0, 0.0, 0.0, 0.0, 0.0, 0.0, 0.0, 0.0, 0.0, 0.0, 0.0, 0.0, 0.0, 0.0, 0.0, 0.0, 0.0, 0.0, 0.0, 0.0, 0.0, 0.0, 0.0, 0.0, 0.0, 0.0, 0.0, 0.0, 0.0, 0.0, 0.0, 0.0, 0.0, 0.0, 0.0, 0.0, 0.0, 0.0], [0.9954948425292969, 2.3398007442665403e-07, 3.522982751746895e-06, 1.769693085407198e-07, 1.6798643032167604e-10, 1.0443902738188626e-06, 8.320204869960435e-06, 0.0004696067771874368, 0.00028832475072704256, 7.142539743654197e-06, 3.297499642940238e-05, 0.001598062226548791, 8.909236015597344e-09, 6.492682018688356e-07, 1.657206485106144e-05, 0.0020785380620509386, 0.0, 0.0, 0.0, 0.0, 0.0, 0.0, 0.0, 0.0, 0.0, 0.0, 0.0, 0.0, 0.0, 0.0, 0.0, 0.0, 0.0, 0.0, 0.0, 0.0, 0.0, 0.0, 0.0, 0.0, 0.0, 0.0, 0.0, 0.0, 0.0, 0.0, 0.0, 0.0, 0.0, 0.0, 0.0, 0.0, 0.0, 0.0, 0.0, 0.0, 0.0, 0.0, 0.0, 0.0, 0.0, 0.0, 0.0, 0.0, 0.0, 0.0, 0.0, 0.0, 0.0, 0.0, 0.0, 0.0, 0.0, 0.0, 0.0, 0.0], [0.9983021020889282, 3.251362841183436e-06, 1.1698689377226401e-06, 2.836167595887673e-06, 5.358555821288746e-10, 1.4542138160322793e-07, 2.7922011213377118e-05, 7.377954898402095e-05, 1.3003256754018366e-05, 6.537362878589192e-06, 3.1423376185557572e-06, 3.8390968256862834e-05, 2.690012124162422e-08, 2.7092003165307688e-06, 1.239934590557823e-07, 2.44095590460347e-05, 0.0015004571760073304, 0.0, 0.0, 0.0, 0.0, 0.0, 0.0, 0.0, 0.0, 0.0, 0.0, 0.0, 0.0, 0.0, 0.0, 0.0, 0.0, 0.0, 0.0, 0.0, 0.0, 0.0, 0.0, 0.0, 0.0, 0.0, 0.0, 0.0, 0.0, 0.0, 0.0, 0.0, 0.0, 0.0, 0.0, 0.0, 0.0, 0.0, 0.0, 0.0, 0.0, 0.0, 0.0, 0.0, 0.0, 0.0, 0.0, 0.0, 0.0, 0.0, 0.0, 0.0, 0.0, 0.0, 0.0, 0.0, 0.0, 0.0, 0.0, 0.0], [0.9999206066131592, 1.6299227354465984e-06, 8.106445420708042e-06, 3.810374948898243e-07, 8.146846530721064e-10, 1.0003896377952515e-08, 4.548813649307704e-06, 2.319702389286249e-06, 1.0843609743460547e-07, 8.921861582855684e-10, 1.621409673191465e-08, 1.8318418369744904e-05, 9.257307420629246e-11, 3.2973638042221864e-08, 2.4694524203283663e-11, 2.4348588567590923e-07, 6.239432877919171e-06, 3.7473742850124836e-05, 0.0, 0.0, 0.0, 0.0, 0.0, 0.0, 0.0, 0.0, 0.0, 0.0, 0.0, 0.0, 0.0, 0.0, 0.0, 0.0, 0.0, 0.0, 0.0, 0.0, 0.0, 0.0, 0.0, 0.0, 0.0, 0.0, 0.0, 0.0, 0.0, 0.0, 0.0, 0.0, 0.0, 0.0, 0.0, 0.0, 0.0, 0.0, 0.0, 0.0, 0.0, 0.0, 0.0, 0.0, 0.0, 0.0, 0.0, 0.0, 0.0, 0.0, 0.0, 0.0, 0.0, 0.0, 0.0, 0.0, 0.0, 0.0], [0.9993531107902527, 2.3288182049441275e-08, 2.551500131175999e-07, 1.2652874303853423e-08, 1.7816342179344247e-08, 4.408821752122094e-08, 6.41313192772941e-07, 9.56010990194045e-06, 7.554386627361964e-08, 6.196090396315412e-08, 1.8933782541807886e-07, 5.1790106226690114e-05, 2.794520448379245e-10, 3.645496349236055e-08, 6.5777286395452e-11, 3.3656044706731336e-07, 6.046627731848275e-06, 1.804857311071828e-05, 0.0005596386035904288, 0.0, 0.0, 0.0, 0.0, 0.0, 0.0, 0.0, 0.0, 0.0, 0.0, 0.0, 0.0, 0.0, 0.0, 0.0, 0.0, 0.0, 0.0, 0.0, 0.0, 0.0, 0.0, 0.0, 0.0, 0.0, 0.0, 0.0, 0.0, 0.0, 0.0, 0.0, 0.0, 0.0, 0.0, 0.0, 0.0, 0.0, 0.0, 0.0, 0.0, 0.0, 0.0, 0.0, 0.0, 0.0, 0.0, 0.0, 0.0, 0.0, 0.0, 0.0, 0.0, 0.0, 0.0, 0.0, 0.0, 0.0], [0.9993714690208435, 9.282645123676048e-07, 6.509616241601179e-07, 1.3349651339922275e-07, 4.150455623630478e-08, 1.821786810296544e-08, 7.415163594259866e-08, 2.7601656711340183e-06, 4.537619417988026e-07, 6.112658823553829e-09, 1.1491705365074267e-08, 4.130281013203785e-05, 7.327033979542819e-10, 8.748588697926607e-08, 2.052251944772987e-11, 4.545164244973421e-07, 2.397076741544879e-06, 6.880208047732594e-07, 6.539864261867478e-05, 0.0005131399375386536, 0.0, 0.0, 0.0, 0.0, 0.0, 0.0, 0.0, 0.0, 0.0, 0.0, 0.0, 0.0, 0.0, 0.0, 0.0, 0.0, 0.0, 0.0, 0.0, 0.0, 0.0, 0.0, 0.0, 0.0, 0.0, 0.0, 0.0, 0.0, 0.0, 0.0, 0.0, 0.0, 0.0, 0.0, 0.0, 0.0, 0.0, 0.0, 0.0, 0.0, 0.0, 0.0, 0.0, 0.0, 0.0, 0.0, 0.0, 0.0, 0.0, 0.0, 0.0, 0.0, 0.0, 0.0, 0.0, 0.0], [0.9982849955558777, 8.761978278926108e-06, 1.5010947436167044e-06, 2.3048273760650773e-06, 1.1627802720681757e-08, 6.651117928413441e-06, 2.2120340872788802e-05, 1.688920019660145e-05, 8.271999831777066e-07, 4.5924778646622144e-08, 2.109901288349647e-06, 0.0002127581392414868, 4.023947042242071e-08, 8.613294994574971e-06, 1.2259735449049458e-08, 1.3712803593080025e-05, 0.00016893172869458795, 2.0027225673402427e-06, 0.00021833929349668324, 8.436969801550731e-05, 0.0009449278004467487, 0.0, 0.0, 0.0, 0.0, 0.0, 0.0, 0.0, 0.0, 0.0, 0.0, 0.0, 0.0, 0.0, 0.0, 0.0, 0.0, 0.0, 0.0, 0.0, 0.0, 0.0, 0.0, 0.0, 0.0, 0.0, 0.0, 0.0, 0.0, 0.0, 0.0, 0.0, 0.0, 0.0, 0.0, 0.0, 0.0, 0.0, 0.0, 0.0, 0.0, 0.0, 0.0, 0.0, 0.0, 0.0, 0.0, 0.0, 0.0, 0.0, 0.0, 0.0, 0.0, 0.0, 0.0, 0.0], [0.983440637588501, 1.742591422271289e-07, 2.235721922261291e-06, 1.8839452664565215e-08, 1.900270080179567e-10, 8.018244557206344e-07, 8.04848298230354e-07, 1.4650418052042369e-05, 1.0589894372969866e-05, 8.837881892986843e-08, 5.870845711797301e-07, 0.00032194764935411513, 9.400887845956163e-10, 1.5808311104592576e-07, 4.741902870364356e-09, 3.1120102903514635e-06, 0.015112743712961674, 2.4540156573493732e-06, 1.5175211046880577e-05, 5.336201502359472e-05, 8.171838271664456e-05, 0.0009388230973854661, 0.0, 0.0, 0.0, 0.0, 0.0, 0.0, 0.0, 0.0, 0.0, 0.0, 0.0, 0.0, 0.0, 0.0, 0.0, 0.0, 0.0, 0.0, 0.0, 0.0, 0.0, 0.0, 0.0, 0.0, 0.0, 0.0, 0.0, 0.0, 0.0, 0.0, 0.0, 0.0, 0.0, 0.0, 0.0, 0.0, 0.0, 0.0, 0.0, 0.0, 0.0, 0.0, 0.0, 0.0, 0.0, 0.0, 0.0, 0.0, 0.0, 0.0, 0.0, 0.0, 0.0, 0.0], [0.9990562796592712, 1.5302179008358507e-06, 3.588642982776946e-07, 4.172478895725362e-08, 5.627463772750474e-12, 2.375693419764957e-08, 4.616274509317009e-07, 2.7279043024464045e-07, 2.4357257188967196e-07, 6.512759664900614e-09, 7.865460815992265e-07, 1.7609179849387147e-05, 6.429088927895066e-10, 4.9352429414284416e-06, 4.129422581655717e-09, 2.793486828522873e-07, 9.649343701312318e-05, 1.590368447068613e-05, 0.0003960964677389711, 1.5487303244299255e-05, 1.789364978321828e-05, 4.0954288124339655e-05, 0.00033437853562645614, 0.0, 0.0, 0.0, 0.0, 0.0, 0.0, 0.0, 0.0, 0.0, 0.0, 0.0, 0.0, 0.0, 0.0, 0.0, 0.0, 0.0, 0.0, 0.0, 0.0, 0.0, 0.0, 0.0, 0.0, 0.0, 0.0, 0.0, 0.0, 0.0, 0.0, 0.0, 0.0, 0.0, 0.0, 0.0, 0.0, 0.0, 0.0, 0.0, 0.0, 0.0, 0.0, 0.0, 0.0, 0.0, 0.0, 0.0, 0.0, 0.0, 0.0, 0.0, 0.0, 0.0], [0.9953413009643555, 6.701603894043728e-08, 5.1055200067651185e-09, 1.9279021046259004e-08, 9.35758848880086e-13, 8.389364758443207e-10, 8.123694072992294e-08, 6.513952399700429e-08, 9.624717023370977e-09, 1.4820823734940092e-10, 9.522860722199766e-09, 1.2165331781943678e-06, 7.421196469847846e-12, 1.623644436676841e-07, 7.54827200744046e-10, 5.928963275891874e-08, 1.3048658047409845e-06, 1.1526856724231038e-05, 4.6186731196939945e-05, 4.312347300583497e-06, 3.376963650225662e-05, 1.065988158188702e-06, 5.295034043228952e-06, 0.004553520120680332, 0.0, 0.0, 0.0, 0.0, 0.0, 0.0, 0.0, 0.0, 0.0, 0.0, 0.0, 0.0, 0.0, 0.0, 0.0, 0.0, 0.0, 0.0, 0.0, 0.0, 0.0, 0.0, 0.0, 0.0, 0.0, 0.0, 0.0, 0.0, 0.0, 0.0, 0.0, 0.0, 0.0, 0.0, 0.0, 0.0, 0.0, 0.0, 0.0, 0.0, 0.0, 0.0, 0.0, 0.0, 0.0, 0.0, 0.0, 0.0, 0.0, 0.0, 0.0, 0.0], [0.9989917874336243, 1.4495988409635174e-07, 9.768639301910298e-07, 3.8503998212036095e-08, 4.0406539225656957e-11, 1.8368966347992455e-09, 1.2777442215394785e-08, 4.8162969505938236e-06, 9.762301544924412e-08, 3.003465254280968e-10, 7.809840552042147e-10, 0.0005546609754674137, 2.2147854383813836e-10, 4.363792243111675e-07, 8.712822685552624e-10, 2.725844296946889e-06, 4.827867087442428e-06, 2.4958313815659494e-07, 2.6649013307178393e-05, 3.3558269478817238e-06, 1.550529123051092e-05, 1.6565687701586285e-06, 2.2339421775541268e-05, 0.00014818532508797944, 0.00022145385446492583, 0.0, 0.0, 0.0, 0.0, 0.0, 0.0, 0.0, 0.0, 0.0, 0.0, 0.0, 0.0, 0.0, 0.0, 0.0, 0.0, 0.0, 0.0, 0.0, 0.0, 0.0, 0.0, 0.0, 0.0, 0.0, 0.0, 0.0, 0.0, 0.0, 0.0, 0.0, 0.0, 0.0, 0.0, 0.0, 0.0, 0.0, 0.0, 0.0, 0.0, 0.0, 0.0, 0.0, 0.0, 0.0, 0.0, 0.0, 0.0, 0.0, 0.0, 0.0], [0.9988658428192139, 2.6622651603247505e-06, 5.143392058926111e-07, 6.918696158209059e-07, 7.121445100288781e-10, 5.189355611889823e-09, 1.8539719093269014e-08, 4.258160046788362e-08, 4.2461568483531664e-08, 2.7447986106210465e-09, 1.6522174739463935e-09, 5.621548552880995e-06, 1.3153584177416633e-07, 1.7949213315660018e-07, 9.992580984885535e-09, 1.1080337714020061e-07, 5.157164650881896e-07, 0.00011064104182878509, 3.7129331758478656e-05, 3.306145663373172e-05, 1.453572394893854e-06, 4.3768699242718867e-07, 9.260446063308336e-07, 7.973937499627937e-06, 3.3143644486699486e-06, 0.0009287753491662443, 0.0, 0.0, 0.0, 0.0, 0.0, 0.0, 0.0, 0.0, 0.0, 0.0, 0.0, 0.0, 0.0, 0.0, 0.0, 0.0, 0.0, 0.0, 0.0, 0.0, 0.0, 0.0, 0.0, 0.0, 0.0, 0.0, 0.0, 0.0, 0.0, 0.0, 0.0, 0.0, 0.0, 0.0, 0.0, 0.0, 0.0, 0.0, 0.0, 0.0, 0.0, 0.0, 0.0, 0.0, 0.0, 0.0, 0.0, 0.0, 0.0, 0.0], [0.9996800422668457, 2.2580895802093437e-06, 1.375096729816505e-07, 2.06295808879986e-07, 2.1181896514566034e-10, 9.873889261768909e-09, 2.925596618297277e-07, 2.2840079054731177e-06, 1.6153958171116756e-08, 3.820249949715304e-10, 4.204185444223185e-09, 6.579985438293079e-06, 2.5167585029906014e-12, 1.0687160489908365e-08, 1.1903773522448091e-09, 1.3108113989801495e-06, 8.724028361939418e-07, 9.311480425822083e-06, 8.75221667229198e-06, 2.43512313318206e-05, 4.4852666292172216e-07, 4.093413735972717e-06, 3.1128042792261112e-06, 2.0663928808062337e-06, 2.3293935669244092e-08, 5.72465705772629e-06, 0.00024820398539304733, 0.0, 0.0, 0.0, 0.0, 0.0, 0.0, 0.0, 0.0, 0.0, 0.0, 0.0, 0.0, 0.0, 0.0, 0.0, 0.0, 0.0, 0.0, 0.0, 0.0, 0.0, 0.0, 0.0, 0.0, 0.0, 0.0, 0.0, 0.0, 0.0, 0.0, 0.0, 0.0, 0.0, 0.0, 0.0, 0.0, 0.0, 0.0, 0.0, 0.0, 0.0, 0.0, 0.0, 0.0, 0.0, 0.0, 0.0, 0.0, 0.0], [0.9980565905570984, 5.787741429230664e-06, 1.4310944607132114e-06, 4.233640709117026e-07, 1.6231221922069494e-09, 4.599534975113784e-08, 3.9889815184324107e-07, 1.4913128154603328e-07, 3.236368328884964e-08, 1.206132860254172e-09, 8.651840488482776e-08, 6.974893494771095e-06, 4.883993209858772e-10, 5.446329609526401e-09, 1.0963150387510723e-09, 2.1007066663969454e-07, 6.236493277356203e-07, 2.324099841644056e-05, 3.667717828648165e-05, 1.489898295403691e-05, 2.0677368866017787e-06, 2.2702297428622842e-05, 1.0417517842142843e-05, 0.0003740228421520442, 7.967199167069339e-07, 8.992158655019011e-06, 9.36020296649076e-05, 0.0013398724840953946, 0.0, 0.0, 0.0, 0.0, 0.0, 0.0, 0.0, 0.0, 0.0, 0.0, 0.0, 0.0, 0.0, 0.0, 0.0, 0.0, 0.0, 0.0, 0.0, 0.0, 0.0, 0.0, 0.0, 0.0, 0.0, 0.0, 0.0, 0.0, 0.0, 0.0, 0.0, 0.0, 0.0, 0.0, 0.0, 0.0, 0.0, 0.0, 0.0, 0.0, 0.0, 0.0, 0.0, 0.0, 0.0, 0.0, 0.0, 0.0], [0.9932790398597717, 2.3501718260376947e-07, 9.926050381636742e-08, 4.964213484726088e-09, 8.613832425119483e-10, 3.179303043054915e-09, 7.588853634388215e-08, 3.2609179356768436e-07, 7.4444246322968866e-09, 1.9186313995889215e-11, 2.4967739875592088e-08, 4.333433753345162e-05, 3.524435084056865e-12, 2.088748729534018e-08, 1.217377032514122e-10, 3.2021861784414796e-07, 1.2740142665279564e-06, 9.547401532472577e-06, 4.8253907152684405e-05, 0.00013157854846213013, 2.3004880858934484e-05, 2.255362596770283e-05, 1.3106888218317181e-05, 0.0014630522346124053, 1.7623238818487152e-05, 9.759845124790445e-05, 6.020253294991562e-06, 0.001078707748092711, 0.003764132037758827, 0.0, 0.0, 0.0, 0.0, 0.0, 0.0, 0.0, 0.0, 0.0, 0.0, 0.0, 0.0, 0.0, 0.0, 0.0, 0.0, 0.0, 0.0, 0.0, 0.0, 0.0, 0.0, 0.0, 0.0, 0.0, 0.0, 0.0, 0.0, 0.0, 0.0, 0.0, 0.0, 0.0, 0.0, 0.0, 0.0, 0.0, 0.0, 0.0, 0.0, 0.0, 0.0, 0.0, 0.0, 0.0, 0.0, 0.0], [0.9979285001754761, 2.4575014322181232e-05, 0.00011934006033698097, 8.504304673806473e-07, 6.741127833720384e-08, 2.0484900176143128e-07, 2.207311354140984e-06, 1.4489332897937857e-05, 1.1273682503087912e-06, 4.938510933527596e-09, 3.38628538543162e-08, 0.0001212855422636494, 5.591329177434545e-09, 4.999070029043651e-07, 1.2065724419585422e-08, 6.567034688487183e-06, 2.887471737267333e-06, 5.953403956482362e-07, 2.2687308955937624e-05, 1.0426208064018283e-05, 0.00012434078962542117, 7.628642924828455e-05, 3.388157711015083e-05, 2.2143734895507805e-05, 1.7905329059431097e-06, 0.0004440548946149647, 9.138020686805248e-06, 7.680043381697033e-06, 1.5086370694916695e-06, 0.0010227268794551492, 0.0, 0.0, 0.0, 0.0, 0.0, 0.0, 0.0, 0.0, 0.0, 0.0, 0.0, 0.0, 0.0, 0.0, 0.0, 0.0, 0.0, 0.0, 0.0, 0.0, 0.0, 0.0, 0.0, 0.0, 0.0, 0.0, 0.0, 0.0, 0.0, 0.0, 0.0, 0.0, 0.0, 0.0, 0.0, 0.0, 0.0, 0.0, 0.0, 0.0, 0.0, 0.0, 0.0, 0.0, 0.0, 0.0], [0.9894939064979553, 4.394056668388657e-05, 1.03217716969084e-05, 4.126493877265602e-06, 3.2040874398120422e-09, 6.981362275837455e-06, 3.325502257212065e-05, 1.6527461411897093e-05, 1.279036723644822e-06, 2.9987315741664133e-08, 4.347509161561902e-07, 0.00011515322694322094, 1.0115904558460898e-07, 7.4936519922630396e-06, 2.457736911765096e-07, 2.3962977138580754e-05, 0.00010001309419749305, 5.693185016752977e-07, 7.923121302155778e-06, 3.832456059171818e-06, 5.0213657232234254e-06, 0.008562988601624966, 0.000735968176741153, 0.00016141808009706438, 2.483162688804441e-07, 2.049480281129945e-05, 7.702238917772775e-07, 2.3527732082584407e-06, 1.943932602443965e-06, 3.896138514392078e-05, 0.0005997158004902303, 0.0, 0.0, 0.0, 0.0, 0.0, 0.0, 0.0, 0.0, 0.0, 0.0, 0.0, 0.0, 0.0, 0.0, 0.0, 0.0, 0.0, 0.0, 0.0, 0.0, 0.0, 0.0, 0.0, 0.0, 0.0, 0.0, 0.0, 0.0, 0.0, 0.0, 0.0, 0.0, 0.0, 0.0, 0.0, 0.0, 0.0, 0.0, 0.0, 0.0, 0.0, 0.0, 0.0, 0.0, 0.0], [0.9311089515686035, 3.377637369794684e-07, 5.699719622498378e-06, 3.0260185468478085e-08, 6.833497656622001e-11, 7.544751383647963e-07, 6.424616572076047e-07, 1.0995962838933337e-05, 1.7690963431959972e-05, 1.0914219927826707e-07, 3.015571223841107e-07, 0.00029416356119327247, 1.6780433709229214e-09, 9.718488769294709e-08, 1.7882394232060506e-08, 3.261877509430633e-06, 0.03175961598753929, 1.9251208414061693e-06, 1.6396151067965548e-06, 1.0718248631746974e-05, 3.6818023545492906e-06, 5.805719047202729e-05, 0.03405701369047165, 0.0024135340936481953, 9.316954674432054e-08, 1.327738027612213e-05, 3.445322818151908e-07, 6.786449091578106e-08, 4.6877082127139147e-07, 6.607472641917411e-06, 3.8985333958407864e-05, 0.0001909522106871009, 0.0, 0.0, 0.0, 0.0, 0.0, 0.0, 0.0, 0.0, 0.0, 0.0, 0.0, 0.0, 0.0, 0.0, 0.0, 0.0, 0.0, 0.0, 0.0, 0.0, 0.0, 0.0, 0.0, 0.0, 0.0, 0.0, 0.0, 0.0, 0.0, 0.0, 0.0, 0.0, 0.0, 0.0, 0.0, 0.0, 0.0, 0.0, 0.0, 0.0, 0.0, 0.0, 0.0, 0.0], [0.9960902333259583, 9.38119057991571e-08, 2.627835158364178e-07, 6.906418548169313e-08, 1.11743225783556e-10, 3.127208003661508e-08, 7.168812032887217e-08, 1.4572232203136082e-06, 1.2753484952554572e-06, 2.077063676608759e-08, 1.9655081118230555e-08, 2.1310448573785834e-05, 6.503228178189602e-09, 1.753288181305379e-08, 4.669913900023914e-10, 6.20310515841993e-07, 0.0010905623203143477, 3.2207396998273907e-06, 7.346711186073662e-07, 3.6981907669542124e-07, 7.596405566800968e-07, 1.1795884347520769e-05, 0.001402287045493722, 0.00013942993246018887, 7.565451909385956e-08, 4.5621836761711165e-06, 2.530972835756984e-07, 4.760907046374996e-08, 8.958866715147451e-07, 3.1110289455682505e-06, 2.4325195226992946e-06, 2.2588616047869436e-05, 0.0012014585081487894, 0.0, 0.0, 0.0, 0.0, 0.0, 0.0, 0.0, 0.0, 0.0, 0.0, 0.0, 0.0, 0.0, 0.0, 0.0, 0.0, 0.0, 0.0, 0.0, 0.0, 0.0, 0.0, 0.0, 0.0, 0.0, 0.0, 0.0, 0.0, 0.0, 0.0, 0.0, 0.0, 0.0, 0.0, 0.0, 0.0, 0.0, 0.0, 0.0, 0.0, 0.0, 0.0, 0.0], [0.999546229839325, 3.4978036183019867e-06, 1.337254076361205e-07, 3.5655071428664087e-07, 1.6985055140139593e-08, 3.709415441477404e-09, 1.6486291087858262e-07, 8.437873333377865e-08, 4.469649468319403e-07, 8.790231476041299e-08, 2.5163599275401793e-06, 1.3128684258845169e-05, 1.8568537996088708e-07, 5.752228915412161e-09, 1.813855066146175e-09, 4.7915246881302664e-08, 1.6554353351239115e-05, 3.888895298587158e-05, 3.610565545386635e-05, 6.306063824013108e-06, 5.748650892201113e-06, 1.7975725086216698e-06, 4.500236173043959e-05, 9.635725291445851e-05, 1.0621793080645148e-06, 2.3320592390518868e-07, 7.459375694907067e-08, 4.987890633856296e-07, 9.969837577727958e-08, 2.3660744773223996e-05, 3.190620191162452e-06, 5.877844273527444e-07, 3.145242999380571e-06, 0.00015372315829154104, 0.0, 0.0, 0.0, 0.0, 0.0, 0.0, 0.0, 0.0, 0.0, 0.0, 0.0, 0.0, 0.0, 0.0, 0.0, 0.0, 0.0, 0.0, 0.0, 0.0, 0.0, 0.0, 0.0, 0.0, 0.0, 0.0, 0.0, 0.0, 0.0, 0.0, 0.0, 0.0, 0.0, 0.0, 0.0, 0.0, 0.0, 0.0, 0.0, 0.0, 0.0, 0.0], [0.9992419481277466, 5.860068995389156e-06, 7.891546829341678e-07, 9.650818810769124e-08, 3.686837501959417e-10, 2.0918424326055174e-08, 6.446072688959248e-07, 3.2128156135513564e-07, 7.453304640137048e-09, 7.18377268782433e-09, 9.276451464756974e-07, 0.0001637758978176862, 2.268312204734002e-10, 5.083693821461566e-08, 3.4967597706270226e-09, 5.59083957796247e-07, 1.901771975099109e-05, 3.6290782645664876e-07, 4.6350087359314784e-05, 3.1498946100327885e-06, 2.2361202809406677e-06, 1.720747968647629e-05, 4.419434117153287e-05, 1.921576404129155e-05, 3.922269115719246e-06, 1.707690898911096e-05, 1.5576081535684239e-09, 4.904397599148069e-08, 1.6513459488720628e-09, 0.00012778180825989693, 9.641113138059154e-06, 8.87943861016538e-06, 7.084770004439633e-06, 1.3271001989778597e-05, 0.0002454759960528463, 0.0, 0.0, 0.0, 0.0, 0.0, 0.0, 0.0, 0.0, 0.0, 0.0, 0.0, 0.0, 0.0, 0.0, 0.0, 0.0, 0.0, 0.0, 0.0, 0.0, 0.0, 0.0, 0.0, 0.0, 0.0, 0.0, 0.0, 0.0, 0.0, 0.0, 0.0, 0.0, 0.0, 0.0, 0.0, 0.0, 0.0, 0.0, 0.0, 0.0, 0.0], [0.9917425513267517, 8.313685611938126e-06, 4.4534451149047527e-07, 1.116005478252191e-06, 1.7634958382473087e-08, 1.7476369862379215e-07, 6.805383350183547e-07, 1.948078988789348e-06, 1.909898728058579e-08, 7.606095198120499e-10, 2.9874342999391956e-08, 4.274067759979516e-05, 1.9592016897718167e-10, 1.041226038722698e-08, 6.131816832066761e-08, 9.581842277839314e-06, 2.8119042326579802e-05, 6.727640311510186e-08, 3.666996690299129e-06, 6.233368026187236e-07, 1.1875913941139515e-07, 2.952178147097584e-05, 2.7513571694726124e-05, 4.254833129380131e-06, 1.6086879384147323e-07, 6.959400252526393e-06, 3.913425139501214e-09, 9.91909814729297e-07, 2.234775564602387e-07, 0.00014563454897142947, 3.635910388766206e-06, 1.3388509614742361e-05, 2.2278759388427716e-06, 5.2317327572382055e-06, 2.8914123504364397e-06, 0.007916963659226894, 0.0, 0.0, 0.0, 0.0, 0.0, 0.0, 0.0, 0.0, 0.0, 0.0, 0.0, 0.0, 0.0, 0.0, 0.0, 0.0, 0.0, 0.0, 0.0, 0.0, 0.0, 0.0, 0.0, 0.0, 0.0, 0.0, 0.0, 0.0, 0.0, 0.0, 0.0, 0.0, 0.0, 0.0, 0.0, 0.0, 0.0, 0.0, 0.0, 0.0], [0.9835859537124634, 0.00013536564074456692, 5.426378265838139e-05, 2.5363876829942456e-06, 1.6349845921581618e-09, 1.7329352886008564e-06, 1.5115082533156965e-05, 1.4918427041266114e-05, 1.1182441994606052e-06, 3.7319267676139134e-08, 1.2122224688937422e-05, 0.0011906027793884277, 4.35444285074027e-08, 1.5425095512000553e-07, 9.504452691544429e-07, 5.250776303000748e-05, 0.00197807140648365, 5.478046318785346e-07, 1.0671566997189075e-05, 5.688408691639779e-06, 6.734385920026398e-07, 2.0960491383448243e-05, 0.0005249166279099882, 0.0001284240570385009, 1.9538946105512878e-07, 5.922008313063998e-06, 2.1525446314285546e-08, 8.019915043178116e-08, 3.394571592707507e-07, 0.0001024540324578993, 2.252248305012472e-05, 1.2342949958110694e-05, 6.133611896075308e-05, 9.001936632557772e-06, 3.0948071071179584e-05, 0.0010258499532938004, 0.010991666465997696, 0.0, 0.0, 0.0, 0.0, 0.0, 0.0, 0.0, 0.0, 0.0, 0.0, 0.0, 0.0, 0.0, 0.0, 0.0, 0.0, 0.0, 0.0, 0.0, 0.0, 0.0, 0.0, 0.0, 0.0, 0.0, 0.0, 0.0, 0.0, 0.0, 0.0, 0.0, 0.0, 0.0, 0.0, 0.0, 0.0, 0.0, 0.0, 0.0], [0.9941249489784241, 6.54430732538458e-06, 1.0830336577782873e-05, 4.2630185248526686e-07, 1.2791073755735738e-10, 1.877096309499393e-07, 2.435978785797488e-06, 1.1845661447296152e-06, 1.4703872786014927e-08, 1.6248469236757046e-08, 5.359531201065693e-07, 7.343104516621679e-05, 2.554048750269544e-09, 1.9609427681643865e-07, 1.5656130614161157e-08, 1.7865054360299837e-06, 0.00013742229202762246, 4.8102498112712055e-05, 2.3422902813763358e-05, 0.00042116400436498225, 4.9757964006857947e-05, 2.9592965802294202e-06, 0.00011835170880658552, 4.5308035623747855e-05, 3.417453990550712e-05, 4.506891855271533e-06, 5.637530193780549e-07, 1.3567317864726647e-06, 5.073622233453534e-08, 0.00041905100806616247, 1.73991375049809e-05, 7.787990341512341e-08, 1.7732519381752354e-06, 3.4606043186613533e-07, 4.430211447470356e-06, 8.992233779281378e-05, 3.5672517242346657e-06, 0.004353791940957308, 0.0, 0.0, 0.0, 0.0, 0.0, 0.0, 0.0, 0.0, 0.0, 0.0, 0.0, 0.0, 0.0, 0.0, 0.0, 0.0, 0.0, 0.0, 0.0, 0.0, 0.0, 0.0, 0.0, 0.0, 0.0, 0.0, 0.0, 0.0, 0.0, 0.0, 0.0, 0.0, 0.0, 0.0, 0.0, 0.0, 0.0, 0.0], [0.9949235320091248, 6.619693976972485e-06, 2.9857808840461075e-05, 7.847830119089849e-08, 1.4346075716265005e-10, 1.7561278653488444e-08, 7.945067750370072e-07, 4.00110877762927e-07, 7.028321480362365e-09, 1.0272036693459441e-10, 4.9007720548388534e-08, 4.8990787036018446e-05, 2.149968814091352e-10, 3.630888656402931e-08, 1.795622157907406e-11, 2.304916506545851e-07, 1.9240831079514464e-06, 1.2547536343276988e-08, 0.0012175411684438586, 1.4556973837898113e-05, 1.917976260301657e-05, 5.045968464401085e-06, 2.9025472031207755e-05, 2.525523814256303e-05, 2.363467785926332e-07, 7.971722766342282e-07, 4.126781139035529e-10, 4.070109582698933e-09, 5.910813616338828e-09, 4.2742751247715205e-05, 1.348937348666368e-05, 3.4336853360628083e-08, 4.004283127301278e-08, 1.2832775730942103e-08, 1.1633989771553388e-07, 5.31569594386383e-06, 4.4262816345508327e-07, 0.0018977747531607747, 0.0017160259885713458, 0.0, 0.0, 0.0, 0.0, 0.0, 0.0, 0.0, 0.0, 0.0, 0.0, 0.0, 0.0, 0.0, 0.0, 0.0, 0.0, 0.0, 0.0, 0.0, 0.0, 0.0, 0.0, 0.0, 0.0, 0.0, 0.0, 0.0, 0.0, 0.0, 0.0, 0.0, 0.0, 0.0, 0.0, 0.0, 0.0, 0.0], [0.9935450553894043, 5.4601937193865524e-08, 2.610206138342619e-06, 1.7923562634081236e-09, 3.2183068710001095e-11, 4.545154475010804e-09, 6.265805296834515e-08, 3.818704215063917e-07, 1.1300547164694308e-08, 1.7400790530697208e-10, 6.903200500119056e-08, 3.5121098335366696e-05, 1.0293219748769289e-10, 6.4666978438765454e-09, 2.505755325454828e-11, 6.415251618818729e-08, 4.8799702199175954e-05, 2.534803122955509e-08, 8.414221156272106e-06, 8.122187864501029e-05, 1.1485388313303702e-05, 2.5715439733176026e-07, 0.0006685600965283811, 0.0003134096914436668, 2.7082869564765133e-06, 5.932996373303467e-06, 1.3749262839368726e-09, 8.9767171473909e-09, 2.988401748282854e-09, 0.0001360760652460158, 1.3579882761405315e-05, 1.5804099140481753e-09, 1.8409683661957388e-06, 1.1527993137860904e-06, 1.479521358760394e-07, 1.7327317891613347e-06, 9.065951545039752e-09, 4.8549409257248044e-05, 0.0006676620105281472, 0.004404916428029537, 0.0, 0.0, 0.0, 0.0, 0.0, 0.0, 0.0, 0.0, 0.0, 0.0, 0.0, 0.0, 0.0, 0.0, 0.0, 0.0, 0.0, 0.0, 0.0, 0.0, 0.0, 0.0, 0.0, 0.0, 0.0, 0.0, 0.0, 0.0, 0.0, 0.0, 0.0, 0.0, 0.0, 0.0, 0.0, 0.0], [0.9973013997077942, 8.8840721446104e-07, 1.461608917452395e-06, 8.981313470712848e-09, 3.5206149107125384e-10, 1.210682626151538e-06, 2.386955770816712e-07, 8.313890731415086e-08, 1.1426134705061486e-08, 1.9080086122169604e-10, 5.06787012355403e-09, 3.782843577937456e-06, 4.635309063666382e-12, 1.4456693619990801e-08, 3.9889838654438847e-10, 1.0578443010444971e-07, 1.667308538344514e-06, 5.340943971532397e-07, 9.669345217844239e-07, 7.489952167816227e-06, 2.554198999860091e-06, 1.4604232774217962e-06, 2.3641041480004787e-05, 1.3982827113068197e-05, 8.001616151886992e-06, 1.972384552573203e-06, 3.7479146897112514e-08, 8.063800009949773e-07, 4.689777011179785e-09, 5.865174898644909e-05, 3.660188667709008e-05, 3.5384400121074577e-07, 9.599077657185262e-07, 2.8478646640905936e-07, 1.9899663072919793e-07, 3.229258436476812e-05, 1.837347411992596e-07, 1.0526615369599313e-05, 0.0010579639347270131, 0.0007903373916633427, 0.0006392989889718592, 0.0, 0.0, 0.0, 0.0, 0.0, 0.0, 0.0, 0.0, 0.0, 0.0, 0.0, 0.0, 0.0, 0.0, 0.0, 0.0, 0.0, 0.0, 0.0, 0.0, 0.0, 0.0, 0.0, 0.0, 0.0, 0.0, 0.0, 0.0, 0.0, 0.0, 0.0, 0.0, 0.0, 0.0, 0.0], [0.9996086955070496, 4.9968416959700335e-08, 9.158810826193076e-06, 6.540388786113738e-10, 2.2641166719239436e-10, 4.5838465467795686e-08, 1.3176571833639628e-08, 2.4851782853829718e-08, 8.469541512567957e-07, 1.589895923248541e-11, 4.285497512412917e-10, 3.398666876819334e-06, 5.692053274032605e-14, 2.219147782200892e-10, 7.515753644438128e-12, 1.1774442043588351e-07, 3.2313405995409994e-07, 1.0600135214033912e-09, 4.634556489691022e-07, 2.9439769377859193e-07, 9.096340818359749e-07, 2.104165020000437e-08, 1.2886764579889132e-06, 2.021498772819541e-07, 8.54938697614216e-09, 4.823945118914708e-07, 5.062781860409871e-10, 9.386078581030688e-10, 2.9240279642017697e-10, 6.012041922076605e-06, 3.949122856283793e-06, 9.122528288330045e-10, 9.300401337952735e-09, 8.751228186554272e-09, 4.16128509428404e-09, 1.3943865440069203e-07, 9.638256415200885e-09, 1.4219663171388675e-06, 7.452237014149432e-07, 3.430673314142041e-05, 4.61017552879639e-05, 0.0002808821154758334, 0.0, 0.0, 0.0, 0.0, 0.0, 0.0, 0.0, 0.0, 0.0, 0.0, 0.0, 0.0, 0.0, 0.0, 0.0, 0.0, 0.0, 0.0, 0.0, 0.0, 0.0, 0.0, 0.0, 0.0, 0.0, 0.0, 0.0, 0.0, 0.0, 0.0, 0.0, 0.0, 0.0, 0.0], [0.9990968704223633, 1.1089793616747556e-07, 7.812666780182553e-08, 1.6272888592183676e-09, 1.7856692513529282e-10, 3.576783313974374e-08, 8.97775276342827e-09, 1.0089222790554686e-08, 7.750256258987065e-08, 4.6019849264666846e-08, 6.159248755466251e-07, 1.3576814126281533e-05, 3.331770692671654e-10, 1.2271267735286528e-07, 7.329507001330171e-10, 1.772520903386976e-07, 4.29755687036959e-07, 2.725483305709986e-08, 1.880437316970074e-08, 4.251094196661143e-06, 1.404872023158532e-06, 5.90236084008211e-07, 2.2940346298128134e-06, 1.3461090020427946e-05, 2.2896194877830567e-06, 4.241455826559104e-06, 6.344393899126999e-10, 6.870985203022428e-08, 7.071425223159622e-09, 0.0001027744947350584, 1.2347314623184502e-05, 1.6476411701660254e-07, 4.125089958506578e-08, 1.1518848097580303e-08, 2.4505806095476146e-07, 1.5999668903532438e-05, 1.7024505041263183e-06, 5.904339559492655e-06, 2.1573264348262455e-06, 9.382208077113319e-07, 0.00011767241812776774, 7.68302779761143e-05, 0.0005223203334026039, 0.0, 0.0, 0.0, 0.0, 0.0, 0.0, 0.0, 0.0, 0.0, 0.0, 0.0, 0.0, 0.0, 0.0, 0.0, 0.0, 0.0, 0.0, 0.0, 0.0, 0.0, 0.0, 0.0, 0.0, 0.0, 0.0, 0.0, 0.0, 0.0, 0.0, 0.0, 0.0, 0.0], [0.9834201335906982, 5.628911026178685e-07, 8.006062302001737e-08, 1.3036716151049177e-09, 3.741095540993333e-12, 8.026759701351693e-09, 1.3529982467730406e-08, 1.720003250937907e-09, 4.8356141313377066e-09, 1.1936217292340956e-10, 8.256574979270681e-09, 1.0648232091625687e-06, 1.0481594975644826e-12, 1.4619672583648935e-07, 4.048116356014653e-11, 1.4848700047309649e-08, 3.0186766419859623e-09, 5.773376301476674e-07, 5.949511887592962e-07, 3.1277561447495827e-06, 3.298217279734672e-06, 6.989383791733417e-07, 4.273794473874659e-08, 9.973858141165692e-06, 5.2577772294171154e-05, 3.557108357199468e-05, 4.1959065555374764e-08, 2.5082156795974697e-08, 7.192843440861907e-07, 7.37679292797111e-05, 1.5901485312497243e-05, 9.575844472919925e-08, 1.3869282389222803e-09, 2.933712994757087e-10, 3.6975935646665903e-09, 4.2048495174640266e-07, 1.1736575800114224e-07, 7.579816951874818e-07, 5.109389462631952e-07, 8.148538768182334e-07, 8.739688155401382e-07, 2.154667890863493e-05, 8.289334073197097e-05, 0.01627303846180439, 0.0, 0.0, 0.0, 0.0, 0.0, 0.0, 0.0, 0.0, 0.0, 0.0, 0.0, 0.0, 0.0, 0.0, 0.0, 0.0, 0.0, 0.0, 0.0, 0.0, 0.0, 0.0, 0.0, 0.0, 0.0, 0.0, 0.0, 0.0, 0.0, 0.0, 0.0, 0.0], [0.9974356293678284, 1.1104849590992671e-06, 3.317644222988747e-05, 1.1562075030724372e-07, 1.733557850221168e-12, 2.456604697442799e-08, 1.76381238503609e-08, 9.676624834753511e-09, 1.3668155496304735e-09, 2.3805289336986668e-11, 6.207381275658008e-10, 5.315905127645237e-06, 4.082715068798315e-12, 5.894321919441836e-09, 3.903636582817255e-13, 3.082964106226882e-09, 1.9092102121476273e-08, 1.1945977540506192e-09, 1.1231228427277529e-06, 3.6589676710718777e-07, 1.9781896298809443e-07, 2.625013166834833e-07, 7.281709599737951e-07, 5.106153548695147e-05, 1.4647808939116658e-06, 0.0010980605147778988, 2.348969196930284e-08, 1.0025393848422937e-08, 3.2646905765432166e-06, 1.986354800465051e-05, 3.661285154521465e-05, 2.08589071348797e-07, 8.756124714182079e-08, 3.252710101264711e-08, 4.55351933936754e-09, 6.042927225280437e-08, 7.080238901835401e-07, 5.567148946283851e-06, 3.694573535995005e-08, 1.4734857813891722e-06, 1.6039239199017175e-05, 6.147993758531811e-07, 1.6114243408082984e-05, 0.0005953333457000554, 0.0006752146873623133, 0.0, 0.0, 0.0, 0.0, 0.0, 0.0, 0.0, 0.0, 0.0, 0.0, 0.0, 0.0, 0.0, 0.0, 0.0, 0.0, 0.0, 0.0, 0.0, 0.0, 0.0, 0.0, 0.0, 0.0, 0.0, 0.0, 0.0, 0.0, 0.0, 0.0, 0.0], [0.7620764970779419, 6.232360760805022e-07, 7.046219820949773e-07, 2.469009352523699e-08, 9.060604913915804e-13, 6.474483171814427e-09, 1.487505187469651e-06, 2.647628249974332e-08, 1.8521385536374169e-09, 1.40322281572125e-10, 6.004821972993568e-09, 9.086452905648912e-07, 3.142079478546389e-12, 2.1952873296982034e-08, 1.1633164917479455e-11, 1.2342993294112148e-08, 5.27223775748098e-09, 5.440421659841377e-07, 1.1694842214637902e-06, 8.177691597666126e-06, 2.6086868274433073e-06, 7.607511065543804e-07, 2.3199562804165907e-07, 3.307719816803001e-05, 0.00014393725723493844, 0.00011760830238927156, 3.850689367368432e-08, 1.964535201182116e-08, 4.5811722770849883e-07, 3.6285364330979064e-05, 2.976633913931437e-05, 1.4258635872010927e-07, 4.8295216714677736e-09, 3.0133040507251962e-09, 9.596739403150423e-09, 2.9489550001926546e-07, 5.3486719053807974e-08, 4.5523327685259574e-07, 3.738024076938018e-07, 3.319416464364622e-06, 2.1018076949985698e-06, 2.0620840587071143e-05, 7.815924618626013e-05, 0.0014514533104375005, 0.21094372868537903, 0.025044262409210205, 0.0, 0.0, 0.0, 0.0, 0.0, 0.0, 0.0, 0.0, 0.0, 0.0, 0.0, 0.0, 0.0, 0.0, 0.0, 0.0, 0.0, 0.0, 0.0, 0.0, 0.0, 0.0, 0.0, 0.0, 0.0, 0.0, 0.0, 0.0, 0.0, 0.0], [0.9508103728294373, 1.0580265552562196e-07, 5.404874059422582e-07, 4.6278896270735e-09, 9.671906331387703e-11, 7.3734591765628466e-09, 2.7162887050735662e-08, 6.752617082383949e-06, 1.7831473542173626e-07, 6.99237057144586e-11, 3.1394228883208086e-10, 0.00024270136782433838, 7.544853630747639e-11, 6.629502991017944e-08, 8.033293474873915e-11, 1.8019889012066415e-06, 8.731242928661231e-07, 5.754933418700148e-09, 5.614452334157249e-07, 4.299291504139546e-06, 3.4977836094185477e-06, 5.49420406059653e-07, 4.950087259203428e-06, 7.43409418646479e-06, 8.147824814841442e-07, 0.04746926575899124, 1.7762930610842886e-06, 7.616320374381758e-08, 5.4622958600702987e-08, 2.5316896426375024e-05, 0.000544192676898092, 4.081341842265829e-07, 1.57459624006151e-07, 2.0212588935919484e-07, 6.200858715388335e-10, 1.1729605375876417e-07, 3.9971467913346714e-08, 3.9155068520813074e-07, 4.7104800060537855e-09, 5.030125649341244e-08, 4.504424396145623e-06, 1.6511530986917933e-07, 2.6929039449896663e-05, 3.8005739043001086e-05, 1.431069085811032e-05, 0.0005795733304694295, 0.0002088474720949307, 0.0, 0.0, 0.0, 0.0, 0.0, 0.0, 0.0, 0.0, 0.0, 0.0, 0.0, 0.0, 0.0, 0.0, 0.0, 0.0, 0.0, 0.0, 0.0, 0.0, 0.0, 0.0, 0.0, 0.0, 0.0, 0.0, 0.0, 0.0, 0.0], [0.9972942471504211, 6.026056780683575e-06, 4.743887075164821e-06, 1.162535227194894e-06, 1.1200315697124097e-07, 5.160689298122634e-08, 2.9486887598295652e-08, 7.412734248646302e-08, 2.5229519451386295e-07, 2.4772687012841743e-08, 2.0621346852323086e-09, 6.767360446247039e-06, 7.902863785602676e-08, 3.062357833982787e-08, 9.667348865871617e-11, 4.962834765365187e-08, 6.481463401541987e-07, 4.7934026952134445e-06, 7.06358696334064e-06, 1.7333150026388466e-05, 0.00038638178375549614, 8.212672582885716e-06, 1.3474992556439247e-05, 2.6128918761969544e-06, 6.542672394971305e-07, 0.00039704045047983527, 0.0008326389361172915, 3.214650632799021e-06, 4.163436642556917e-06, 2.4887476683943532e-05, 0.0005218564765527844, 7.593655027449131e-06, 4.886841793450003e-07, 7.53707922740432e-07, 5.513027900860834e-08, 9.688610447255996e-08, 6.986488187976647e-08, 1.1197111149385819e-07, 1.289423892103514e-07, 4.080808082562726e-07, 8.94717516075616e-07, 2.599694823857135e-07, 4.6641712287964765e-06, 1.3400229363469407e-05, 1.6104331734823063e-06, 1.0274234227836132e-05, 2.3477653030568035e-06, 0.0004182188131380826, 0.0, 0.0, 0.0, 0.0, 0.0, 0.0, 0.0, 0.0, 0.0, 0.0, 0.0, 0.0, 0.0, 0.0, 0.0, 0.0, 0.0, 0.0, 0.0, 0.0, 0.0, 0.0, 0.0, 0.0, 0.0, 0.0, 0.0, 0.0], [0.9653770327568054, 1.7669486624072306e-05, 4.6658697101520374e-06, 5.498503924172837e-06, 5.7746660786506254e-08, 1.1996945431747008e-05, 3.0888215405866504e-05, 2.360564167247503e-06, 2.657035622632975e-07, 2.7279932979240584e-08, 2.7260233537163003e-07, 6.110555841587484e-05, 6.23295619561759e-08, 4.614123554347316e-06, 5.214824572163934e-09, 2.1361215658544097e-06, 3.299102172604762e-05, 1.6602309642621549e-06, 3.900501178577542e-05, 6.26423525318387e-06, 1.8997508959728293e-05, 0.015464719384908676, 0.0015570330433547497, 0.00020964120631106198, 1.6227269838964276e-07, 3.1177536584436893e-05, 4.239572263031732e-06, 1.0305664545740001e-05, 2.8272970666876063e-05, 4.9280395614914596e-05, 4.657287718146108e-05, 0.016175318509340286, 0.0003149648546241224, 5.001703539164737e-05, 6.344311032080441e-08, 9.417014553037006e-06, 3.349586040712893e-05, 1.728075949358754e-05, 1.0781440806795217e-07, 4.895003371530038e-07, 2.901711241065641e-06, 4.809160145669011e-07, 6.760279802620062e-07, 2.5054339857888408e-05, 4.7402298264387355e-07, 3.893105895258486e-05, 7.422604539897293e-07, 1.9213603081880137e-05, 0.0002913737844210118, 0.0, 0.0, 0.0, 0.0, 0.0, 0.0, 0.0, 0.0, 0.0, 0.0, 0.0, 0.0, 0.0, 0.0, 0.0, 0.0, 0.0, 0.0, 0.0, 0.0, 0.0, 0.0, 0.0, 0.0, 0.0, 0.0, 0.0], [0.9923231601715088, 3.545950448824442e-06, 3.705964991240762e-05, 1.5874805114890478e-07, 1.3979736812608223e-10, 5.412440273744323e-09, 6.607579621231707e-07, 6.113886570346949e-07, 1.498856789794445e-07, 1.7018366715859656e-09, 6.531757321681653e-07, 0.00011762692884076387, 1.4715113572094651e-09, 3.2542013741476694e-06, 2.0720904991833322e-09, 6.070155791348952e-07, 8.392724339501001e-06, 7.008295028754219e-07, 2.282458262925502e-05, 2.4597827632533154e-06, 1.989260908885626e-06, 0.0002286339586135, 0.00015718996291980147, 0.004614436533302069, 4.901521606370807e-07, 2.0057323126820847e-05, 4.301174172383071e-08, 6.418716225198295e-07, 5.566218533203937e-06, 8.546653407393023e-05, 3.714687409228645e-05, 0.0002512818027753383, 0.0001751996169332415, 4.288685431674821e-06, 8.898431588022504e-06, 9.233193850377575e-06, 8.927191083785146e-05, 0.0005305670201778412, 1.0685976121749263e-06, 2.84622319668415e-06, 1.8778786397888325e-05, 1.968406060370853e-08, 7.729737490080879e-07, 2.6121764676645398e-05, 1.953225819306681e-06, 0.00016385842172894627, 5.65346056191629e-07, 6.7079008658765815e-06, 1.675490125307988e-06, 0.0010334181133657694, 0.0, 0.0, 0.0, 0.0, 0.0, 0.0, 0.0, 0.0, 0.0, 0.0, 0.0, 0.0, 0.0, 0.0, 0.0, 0.0, 0.0, 0.0, 0.0, 0.0, 0.0, 0.0, 0.0, 0.0, 0.0, 0.0], [0.9743033647537231, 9.227077271134476e-07, 4.29854435424204e-06, 1.1396543442288021e-07, 1.0232552305478038e-10, 8.059070921717648e-08, 5.737085189139179e-07, 2.0241161564626964e-06, 6.062052193556156e-08, 1.547742906060634e-10, 1.5500841499260787e-08, 4.8263165808748454e-05, 1.4312822926854096e-08, 1.0526423466217238e-06, 1.4658346758622542e-10, 1.564258269581842e-07, 1.918546149681788e-05, 2.119573082381976e-06, 2.8028000087942928e-05, 1.672977305133827e-05, 1.2735273458019947e-06, 6.619672603846993e-06, 0.0001215856391354464, 0.003351479535922408, 3.911525709554553e-06, 0.00022396125132218003, 1.4868731341266539e-05, 7.654843443560821e-07, 8.271435035567265e-06, 8.494208304909989e-05, 1.1394416105758864e-05, 3.115757863270119e-06, 0.0001388022064929828, 1.146103568316903e-05, 7.913878334875335e-07, 3.1307088647736236e-05, 1.6314967297148542e-06, 9.124095231527463e-05, 1.3204177093939506e-06, 2.190754685216234e-06, 2.4488550479873084e-05, 1.08142970134395e-08, 9.636255526856985e-07, 1.1464309181974386e-06, 2.4011714572225173e-07, 1.7723339624353684e-05, 3.192791098172165e-07, 4.7518176870653406e-05, 3.0195565159374382e-06, 4.863052163273096e-05, 0.021318020299077034, 0.0, 0.0, 0.0, 0.0, 0.0, 0.0, 0.0, 0.0, 0.0, 0.0, 0.0, 0.0, 0.0, 0.0, 0.0, 0.0, 0.0, 0.0, 0.0, 0.0, 0.0, 0.0, 0.0, 0.0, 0.0], [0.995573878288269, 1.2311170394241344e-05, 7.236558872136811e-07, 2.303318424878853e-08, 1.5839655975735667e-10, 3.77272169060916e-09, 5.65219067993894e-07, 2.0296739933201025e-07, 1.023967044488927e-07, 2.8831665943584994e-09, 2.2444714531388854e-08, 1.4972501048760023e-05, 1.398159366061691e-10, 8.619000624321416e-08, 4.135963793672204e-11, 3.9505543725226744e-08, 2.028258450081921e-06, 6.013360120959987e-08, 5.8276687923353165e-05, 5.863629212399246e-06, 7.048096790640557e-07, 8.924872417992447e-06, 2.837503961927723e-05, 0.0008878590888343751, 5.756891141572851e-07, 3.6655562780651962e-06, 4.844642731427484e-08, 7.85564111538406e-08, 3.0648533311250503e-07, 4.708232154371217e-05, 2.2299782358459197e-06, 1.9111341771349544e-06, 6.751589808118297e-06, 2.7761566911976843e-07, 3.6812086818827083e-06, 2.102264807035681e-05, 1.3351947245610063e-06, 4.284115129848942e-05, 2.7427407189861697e-07, 1.501949464000063e-05, 2.2570964574697427e-05, 1.3703832735245669e-08, 5.879893478777376e-07, 1.2346295079623815e-06, 1.5035661249385157e-07, 1.0649025171005633e-05, 4.6805868691990327e-07, 1.2169620276836213e-05, 1.9765924719195027e-07, 1.638928006286733e-05, 0.00043521157931536436, 0.002758164657279849, 0.0, 0.0, 0.0, 0.0, 0.0, 0.0, 0.0, 0.0, 0.0, 0.0, 0.0, 0.0, 0.0, 0.0, 0.0, 0.0, 0.0, 0.0, 0.0, 0.0, 0.0, 0.0, 0.0, 0.0], [0.9995996356010437, 1.5765730054795313e-08, 3.215503284081933e-06, 1.1117011755601425e-09, 6.6615624128019135e-09, 2.03511649488064e-06, 5.139075256010983e-06, 7.000659252298647e-07, 5.430981673271162e-07, 2.038610880106262e-08, 1.0085203427934175e-07, 2.3050568415783346e-05, 2.0371290077036974e-07, 1.3144851891411236e-06, 3.909803325541361e-08, 5.793717718916014e-07, 1.7058064258890226e-05, 2.3579414119012654e-06, 2.3121185677155154e-06, 8.7268344941549e-06, 1.3298003409545345e-07, 5.827065479024895e-07, 2.7103180400445126e-05, 1.7277418010053225e-05, 2.3113710057032222e-08, 3.2692983609194926e-07, 1.6220736824834603e-06, 7.385109768165421e-08, 1.3452984148898395e-07, 3.78106051357463e-06, 1.5955100707287784e-06, 3.07019092815608e-07, 1.0261281204293482e-05, 3.4885754303104477e-06, 3.9853301814218867e-07, 8.91896434040973e-06, 5.441140515927145e-08, 3.519111851346679e-05, 1.5089392945810687e-05, 1.247321142727742e-05, 5.6476568715879694e-05, 1.6092388932520407e-06, 5.6483673688489944e-05, 2.4913542802096345e-06, 3.803985570982604e-09, 9.414345072400465e-07, 1.305282779640038e-07, 1.424503807356814e-06, 3.9525119177596935e-08, 3.6155580573904444e-07, 3.8275373981377925e-07, 5.727707957703387e-06, 6.810639752075076e-05, 0.0, 0.0, 0.0, 0.0, 0.0, 0.0, 0.0, 0.0, 0.0, 0.0, 0.0, 0.0, 0.0, 0.0, 0.0, 0.0, 0.0, 0.0, 0.0, 0.0, 0.0, 0.0, 0.0], [0.9850126504898071, 6.56287681977119e-08, 2.356012919335626e-05, 7.2907848647219e-09, 1.194053300679343e-09, 6.255653488551616e-07, 2.8729647283398663e-07, 3.839074835809697e-08, 7.082204547259607e-07, 6.61036203553067e-09, 2.7297938132164745e-08, 1.3154746739019174e-05, 8.186055305836604e-11, 2.696770309285057e-07, 4.208504655878187e-10, 1.9484367896893673e-07, 1.0158237273572013e-06, 2.654475927954536e-08, 9.731143109092955e-07, 5.728374503632949e-07, 8.484542490805325e-08, 1.0288172802574991e-07, 2.7797532311524265e-06, 2.454206878610421e-06, 5.088309773526589e-10, 1.4017891203366162e-07, 6.684179965077419e-08, 7.106344401819342e-09, 9.773418696568115e-08, 7.288484766831971e-07, 1.0877369049921981e-06, 5.086627297146151e-08, 1.1350384738761932e-06, 2.977606357035256e-07, 2.9884421604009503e-09, 5.466467456471946e-08, 1.1112832876136736e-09, 4.3199358401579957e-07, 9.177827564599284e-08, 1.52792063090601e-06, 2.747634243860375e-05, 2.8438012122933287e-06, 0.0002147132036043331, 4.642641670216108e-06, 8.480784963182941e-09, 6.18574813415762e-06, 9.259549571538628e-09, 3.1933839750308834e-07, 9.567963132894874e-08, 8.271948672700091e-07, 7.300748894323306e-09, 9.847536119877986e-08, 4.124449333176017e-06, 0.014673286117613316, 0.0, 0.0, 0.0, 0.0, 0.0, 0.0, 0.0, 0.0, 0.0, 0.0, 0.0, 0.0, 0.0, 0.0, 0.0, 0.0, 0.0, 0.0, 0.0, 0.0, 0.0, 0.0], [0.9954215884208679, 7.759709887977806e-07, 2.6128375338885235e-06, 1.7713321653900493e-07, 4.695029698353892e-09, 3.5229436434747186e-07, 6.76825209211529e-08, 4.7987751550238045e-09, 1.8574488080957963e-07, 5.4773217073034175e-09, 5.5325745762502265e-08, 4.009800250059925e-06, 2.25156893129963e-10, 1.0209244294401287e-07, 2.7781152378558716e-11, 3.3912058938767586e-08, 6.398867213874837e-08, 1.4881850347592263e-06, 4.03020180783642e-07, 2.6422353585076053e-06, 1.1431762686697766e-05, 4.520713446254376e-06, 1.7113426338255522e-06, 5.335521564120427e-05, 1.2033658549626125e-06, 4.821222773898626e-06, 2.2341441763273906e-07, 8.050308508700255e-08, 0.00010691929492168128, 7.66614029998891e-05, 6.7106325332133565e-06, 1.223300387209747e-06, 3.5029358969040914e-07, 2.4298446987813804e-07, 1.233966884228721e-07, 5.7199461167556365e-08, 1.043278263779257e-08, 2.8320496880951396e-07, 6.059527635216e-08, 6.657806039811476e-08, 1.84004818493122e-06, 5.677788067259826e-06, 1.8909599020844325e-05, 0.0010655979858711362, 0.0003241483645979315, 0.0015532613033428788, 2.4904222300392576e-05, 3.841292709694244e-06, 1.821706973714754e-05, 1.4745977750862949e-05, 2.1392374947026838e-06, 2.805690201057587e-06, 4.6539257709810045e-06, 5.902656425860187e-07, 0.001254113158211112, 0.0, 0.0, 0.0, 0.0, 0.0, 0.0, 0.0, 0.0, 0.0, 0.0, 0.0, 0.0, 0.0, 0.0, 0.0, 0.0, 0.0, 0.0, 0.0, 0.0, 0.0], [0.9631810784339905, 6.59155375615228e-07, 9.921253507627625e-08, 4.075378257084594e-09, 4.2088325880040856e-11, 1.9127282868680595e-08, 6.615686629629636e-07, 1.2338222887819938e-08, 9.569165015932413e-09, 2.472163806999106e-08, 2.2458134196767787e-07, 3.746065431187162e-06, 6.249338546648886e-11, 8.734202310733963e-06, 8.433277409736206e-10, 4.575532130957072e-08, 1.7830151577413744e-08, 2.369258709222777e-06, 3.651754241218441e-06, 3.8409492844948545e-05, 2.2025689759175293e-05, 1.4289970749814529e-05, 4.0819170976647e-07, 2.337997648282908e-05, 5.937314563198015e-05, 4.1519793740008026e-05, 4.956772841069323e-07, 4.2673036659834906e-07, 2.3945226530486252e-06, 0.00016454127035103738, 4.151227039983496e-05, 2.2542242277268087e-06, 1.2194846021884587e-07, 3.17540926886295e-09, 2.650240693569117e-09, 7.477668759747758e-07, 3.487719979489157e-08, 1.4052629637717473e-07, 4.60200112684106e-07, 5.671657277162012e-07, 4.523595009686687e-07, 3.7758223925266066e-07, 7.207551107057952e-07, 0.00028807204216718674, 0.027216684073209763, 0.00043638350325636566, 0.0015312586911022663, 0.00011453611659817398, 8.936918675317429e-06, 4.024595000373665e-06, 3.2418629416497424e-06, 2.648725057952106e-05, 3.127611489617266e-05, 1.6938085423134908e-07, 1.5166921912168618e-05, 0.006707687862217426, 0.0, 0.0, 0.0, 0.0, 0.0, 0.0, 0.0, 0.0, 0.0, 0.0, 0.0, 0.0, 0.0, 0.0, 0.0, 0.0, 0.0, 0.0, 0.0, 0.0], [0.9786282777786255, 0.00010618492524372414, 0.00013105824473313987, 3.718263315022341e-07, 2.547589872392564e-07, 3.590526489460899e-07, 5.378909463615855e-06, 5.05457910549012e-06, 3.6189169350109296e-06, 1.6731986463014437e-08, 2.746861227365116e-08, 4.4609034375753254e-05, 5.419061643863188e-09, 6.120884336269228e-06, 7.248629696476883e-09, 1.645215547796397e-06, 6.952847115826444e-07, 4.883576707470638e-07, 1.2053270438627806e-05, 7.708665179961827e-06, 0.00010165783169213682, 5.744462032453157e-05, 1.1352409273968078e-05, 1.1273651580268051e-05, 2.8469858079915866e-06, 0.0009902531746774912, 7.704652489337604e-06, 1.2213407671879395e-06, 2.0983550257369643e-06, 8.61466396600008e-05, 0.0146642429754138, 0.00016875863366294652, 3.5351722544874065e-06, 1.605180273145379e-06, 1.8517862798717033e-08, 1.3270963563627447e-06, 1.0087104556077975e-06, 3.828350145340664e-06, 9.557034275076148e-08, 1.3735335642195423e-06, 4.212189651298104e-06, 6.228808047126222e-07, 3.279378870502114e-05, 1.0324072718503885e-05, 6.235042383195832e-05, 9.365693404106423e-05, 1.1047672160202637e-05, 0.00048524007434025407, 0.00026559436810202897, 3.283525074948557e-05, 3.278066969869542e-06, 1.8267592167831026e-05, 3.113889033556916e-05, 2.5843164621619508e-06, 4.9736936489352956e-05, 0.0002812039165291935, 0.0035433562006801367, 0.0, 0.0, 0.0, 0.0, 0.0, 0.0, 0.0, 0.0, 0.0, 0.0, 0.0, 0.0, 0.0, 0.0, 0.0, 0.0, 0.0, 0.0, 0.0], [0.7563116550445557, 0.24060678482055664, 0.0009480095468461514, 0.0012485891347751021, 5.99965551373316e-06, 2.268053094667266e-06, 1.8313032796868356e-06, 1.2826861848225235e-06, 2.6192610675934702e-06, 3.6125676672327245e-08, 2.946295012407063e-07, 7.046832251944579e-06, 4.356836143415421e-06, 4.5231317926663905e-06, 4.841575140801524e-09, 6.609278671021457e-07, 1.15909995201946e-06, 1.6214486322496668e-06, 9.969340680981986e-06, 3.987342552136397e-06, 2.5828569505392807e-06, 1.4323603863886092e-05, 2.929999709522235e-06, 4.821078618988395e-06, 2.643434271476508e-08, 1.2563541531562805e-06, 7.806183020875324e-06, 6.05783907303703e-06, 7.637623639311641e-06, 7.815344361006282e-06, 7.990131416590884e-05, 6.58973804092966e-05, 3.563963275610149e-07, 4.7550949489050254e-07, 6.927509161869239e-07, 2.9734326290054014e-07, 2.7540713745111134e-06, 1.7429456420359202e-05, 2.6497102112443827e-07, 6.448323688346136e-07, 2.665689635250601e-06, 5.300967586663319e-06, 5.167593371879775e-06, 1.5721374211352668e-06, 2.224243189630215e-07, 2.0500863229244715e-06, 8.823851516126524e-08, 2.031844587691012e-06, 6.603360361623345e-06, 1.604375574970618e-05, 3.234613075164816e-07, 2.0760280960985256e-07, 3.358896265126532e-06, 9.769087938593657e-08, 1.5952206240399391e-06, 1.1263930900895502e-05, 7.3956180131062865e-06, 0.0005472911871038377, 0.0, 0.0, 0.0, 0.0, 0.0, 0.0, 0.0, 0.0, 0.0, 0.0, 0.0, 0.0, 0.0, 0.0, 0.0, 0.0, 0.0, 0.0], [0.46153444051742554, 0.00016131317534018308, 2.9568753234343603e-05, 4.62496018371894e-06, 0.536980152130127, 0.0004152122710365802, 2.379141051278566e-06, 1.8918865407613339e-06, 1.0070018561236793e-06, 7.699849646769508e-10, 9.303901293833405e-08, 2.756386857072357e-05, 3.088068112333531e-08, 4.442360648226895e-07, 2.0202186590267956e-09, 6.641443519583845e-07, 1.4622355593019165e-07, 1.6676258152159562e-09, 7.943251603137469e-07, 3.3396061098756036e-06, 1.8816392639564583e-06, 1.666065827521379e-06, 3.898759644016536e-07, 1.2396397153224825e-07, 9.964094133119161e-11, 2.2613480865629754e-08, 2.0763700092629733e-07, 9.00670499959233e-07, 4.7485340104458373e-08, 1.1365693353582174e-05, 6.802836651331745e-06, 4.800965029971849e-07, 1.0713804954320949e-08, 1.1448222814181008e-08, 1.0449807774648434e-07, 1.223275489792286e-07, 2.762557755886519e-07, 2.0087065877305577e-06, 9.877289208759521e-09, 1.3048296665374437e-08, 3.7460478097273153e-07, 9.28649015463634e-08, 4.567162363855459e-07, 1.360826047402952e-07, 1.3624731898254083e-10, 2.5799065994647208e-08, 6.702232518973616e-11, 6.030261801015513e-08, 2.637243028402736e-07, 3.9527304807052133e-07, 4.604275294362026e-10, 4.560490207694556e-09, 3.069185083859338e-07, 3.43886341624966e-08, 9.491245691606309e-07, 9.066495749721071e-07, 2.3911775315355044e-07, 2.5896377337630838e-05, 0.0007797784055583179, 0.0, 0.0, 0.0, 0.0, 0.0, 0.0, 0.0, 0.0, 0.0, 0.0, 0.0, 0.0, 0.0, 0.0, 0.0, 0.0, 0.0], [0.18587994575500488, 7.809924682078417e-06, 1.9276438251836225e-05, 1.3769219719961256e-07, 3.1332624530477915e-06, 0.8133752942085266, 6.006186958984472e-05, 2.3087954104994424e-05, 3.361551080161007e-06, 2.995850323372906e-08, 1.4354535551319714e-06, 9.1447880549822e-05, 3.8594180296058767e-08, 1.600479481567163e-05, 1.1757282436519745e-07, 4.4494859139376786e-06, 1.297479320783168e-05, 6.162088794781084e-08, 1.2940680562678608e-06, 1.6021624105633236e-05, 2.5005894599416933e-07, 4.321531378082e-06, 2.9924528917035786e-06, 4.41387612681865e-07, 4.533661501771036e-10, 3.071812670896179e-08, 2.1050772147646057e-07, 5.930452289248933e-07, 7.960972325804505e-09, 2.1248038137855474e-06, 1.993397518162965e-06, 2.353240233787801e-06, 2.7024118480767356e-06, 6.944085129134692e-08, 1.976773189582559e-09, 2.3583410779792757e-07, 1.0053731180903469e-08, 1.5394912225019652e-06, 2.2012963896145266e-08, 1.0227551250352462e-08, 1.5983331991265004e-07, 7.584867489640601e-07, 1.8449774188411538e-06, 7.11128450348042e-07, 8.484968283539729e-10, 2.5044485596481536e-07, 2.097936047107396e-09, 1.7964033816042502e-07, 4.223260852143085e-09, 1.1005615760950604e-06, 6.554971149208555e-11, 1.2852543029850949e-08, 1.7522327766528178e-07, 2.992211420860258e-07, 4.031900061818305e-06, 4.3929296111855365e-07, 4.987563784197846e-07, 1.2888540368294343e-05, 1.6547026007174281e-06, 0.00043889161315746605, 0.0, 0.0, 0.0, 0.0, 0.0, 0.0, 0.0, 0.0, 0.0, 0.0, 0.0, 0.0, 0.0, 0.0, 0.0, 0.0], [0.933984100818634, 0.0003039618313778192, 0.00010535842011449859, 5.727385428144771e-07, 2.411602054053219e-06, 0.00021164699865039438, 0.05612579733133316, 0.0035820563789457083, 1.862247518147342e-05, 1.6521728696261562e-07, 4.665875167120248e-05, 0.0003711135359480977, 1.699581364533742e-09, 0.0004951796727254987, 1.994593367271591e-05, 0.000468825368443504, 0.00014325519441626966, 8.44530040922109e-06, 0.00031420981395058334, 0.000136496004415676, 2.723643774515949e-06, 5.909440733375959e-05, 1.895085551950615e-05, 3.493324811643106e-06, 3.577613982841399e-09, 2.2636557162059034e-07, 5.755339316237951e-08, 1.8223323650090606e-06, 1.685243411486681e-08, 6.558353561558761e-06, 2.3740452888887376e-05, 2.3045393390930258e-05, 1.02900175988907e-05, 5.979309776193986e-07, 5.185274787322669e-08, 9.599242503099958e-07, 1.1835066260346139e-07, 9.351760127174202e-06, 2.9478368901436625e-07, 1.1099194807684398e-06, 2.4341261450899765e-06, 9.858750900093582e-07, 2.0983079593861476e-06, 1.3128726550348802e-07, 3.354152733336946e-09, 6.149051756665358e-08, 1.8301694382216738e-08, 4.964316531186341e-07, 7.103599486413259e-09, 6.580450190085685e-06, 1.2028785967288513e-08, 3.190694286558937e-08, 7.574442406621529e-06, 2.2702790829498554e-06, 6.807386398577364e-06, 2.5049121177289635e-07, 7.153482329158578e-06, 0.0004917632904835045, 7.723049861851905e-07, 1.3375570233620238e-05, 0.002955895848572254, 0.0, 0.0, 0.0, 0.0, 0.0, 0.0, 0.0, 0.0, 0.0, 0.0, 0.0, 0.0, 0.0, 0.0, 0.0], [0.9884927868843079, 2.908998339989921e-06, 0.00014561806165147573, 4.035544520775147e-08, 1.4830210659511067e-07, 2.970052946693613e-06, 9.829852388065774e-06, 0.00025831031962297857, 0.00019749189959838986, 1.7902779347878095e-07, 1.3575348702943302e-06, 0.0001965076371561736, 1.253648518328987e-09, 5.245465217740275e-07, 1.1663412635698478e-07, 8.82074709807057e-06, 0.008177573792636395, 3.0974101719039027e-06, 6.819015106884763e-05, 0.00010087775444844738, 8.172240086423699e-06, 2.626186869747471e-06, 0.0008651636308059096, 2.537536056479439e-05, 5.179910722574732e-09, 1.413609425071627e-06, 2.812020341025345e-07, 1.0555420715263608e-07, 2.135785592827233e-08, 6.861806468805298e-06, 2.2548336346517317e-05, 6.825176797065069e-07, 0.000831455341540277, 0.00020889303414151073, 7.741401475414023e-08, 2.27379317152554e-07, 2.5605810805018336e-09, 1.0802299357237644e-06, 2.958555533894014e-08, 8.84060398220754e-08, 2.0643838070100173e-05, 7.798190893026913e-08, 1.9803883333224803e-06, 6.650226680449123e-08, 2.8894376474797312e-11, 7.379828304010516e-08, 2.7423005533044886e-10, 2.843295874299656e-07, 1.7402250307441136e-07, 8.288588446703216e-07, 8.914119220548855e-09, 4.014832768461929e-07, 1.2745417734549847e-06, 1.591031093539641e-07, 1.4999488485045731e-05, 7.510698196711019e-08, 2.7473461727822723e-07, 8.859118679538369e-05, 3.2710833153259955e-08, 2.9030385917394597e-07, 1.0056446626549587e-05, 0.0002172724052798003, 0.0, 0.0, 0.0, 0.0, 0.0, 0.0, 0.0, 0.0, 0.0, 0.0, 0.0, 0.0, 0.0, 0.0], [0.9471489191055298, 1.2232364952069474e-06, 1.4332546925288625e-05, 2.9851915428480424e-07, 4.418460619604048e-08, 2.9652446187355963e-07, 3.990971890743822e-07, 1.650084595894441e-05, 2.0450190277188085e-05, 1.0972190267466431e-07, 4.8507402539144095e-08, 2.7168636734131724e-05, 1.348323053207423e-08, 7.693970616173829e-08, 1.0288139229430726e-09, 1.0751379022622132e-06, 0.0007433267892338336, 5.804214197269175e-06, 2.0811894501093775e-05, 2.8164868126623333e-06, 2.3387335659208475e-06, 3.302757249912247e-06, 0.00025230387109331787, 9.810723895498086e-06, 7.970772486487476e-09, 9.229775628227799e-07, 2.7312631800668896e-07, 6.818676467901241e-08, 8.043090105047668e-08, 4.508138772507664e-06, 3.487242793198675e-06, 1.0769459777293378e-06, 2.631821007526014e-05, 0.05055830627679825, 4.327639544499107e-06, 4.3631897028717503e-07, 1.0515582182790695e-08, 5.319832325767493e-07, 1.3954943867133807e-09, 2.3295856355076694e-09, 3.954721137233719e-07, 1.0280300166698453e-08, 3.5505291151594065e-08, 4.3388471482330715e-08, 1.528996373956204e-11, 4.053215718613501e-08, 6.398376967142738e-11, 3.9366870652202124e-08, 1.1842379166182582e-07, 2.635946430018521e-06, 5.938092240143078e-09, 8.609526958025526e-08, 2.0561520841511083e-07, 3.021108696543706e-09, 8.132902706847744e-08, 8.0752776909776e-08, 2.51954787700015e-07, 7.011448360572103e-06, 1.6523213020036565e-08, 1.9280637530982858e-08, 2.903612710269954e-07, 3.7841316498088418e-06, 0.0011131111532449722, 0.0, 0.0, 0.0, 0.0, 0.0, 0.0, 0.0, 0.0, 0.0, 0.0, 0.0, 0.0, 0.0], [0.9935792684555054, 1.8534721675678156e-05, 2.7625399525277317e-05, 6.425908622986753e-07, 2.6520226015236403e-07, 1.3906385447626235e-06, 2.909783233917551e-06, 1.4428482245421037e-05, 1.7251892131753266e-05, 7.992167638803949e-08, 4.999999987376214e-07, 2.9156761229387484e-05, 4.005704568044166e-08, 1.2235447002240107e-06, 5.527803992322333e-08, 3.532828259267262e-06, 2.337829937459901e-05, 9.516751902083342e-07, 4.1592165871406905e-06, 1.722990782582201e-05, 2.219831912952941e-06, 4.785277951668832e-07, 1.0781492164824158e-05, 1.2373243407637347e-06, 5.8181779394317346e-09, 4.5339425014390144e-07, 7.920297662167286e-08, 1.4318021435144601e-08, 4.633098418804771e-11, 5.200679424888222e-07, 4.501189323491417e-06, 2.7720878392756276e-07, 1.1193792488484178e-06, 8.495744987158105e-05, 4.182856628176523e-06, 1.7187254343298264e-05, 1.6813860526099234e-08, 4.731697629267728e-07, 2.7345151920599164e-08, 6.804685881434125e-08, 4.2320280613239447e-07, 4.415286184666911e-06, 7.094579359545605e-06, 1.4405506476578012e-07, 2.6144546597106633e-11, 1.0173855535811072e-08, 1.938095461895273e-09, 6.067409685783787e-07, 4.291569553060981e-07, 5.428815370578377e-07, 2.3098483126204883e-09, 6.06127059654682e-08, 1.5487017890336574e-07, 4.806307174476387e-07, 7.941153512547316e-07, 5.1051529226242565e-08, 1.5334040881498368e-07, 1.497590073995525e-05, 8.207513815250422e-07, 7.047594294817827e-07, 4.1406160562473815e-06, 2.6741665351437405e-05, 0.00023136685194913298, 0.00583463441580534, 0.0, 0.0, 0.0, 0.0, 0.0, 0.0, 0.0, 0.0, 0.0, 0.0, 0.0, 0.0], [0.9934226870536804, 1.802665792638436e-05, 0.0010384834604337811, 1.5498966376981116e-07, 8.164289511114475e-08, 1.3218324568242679e-07, 1.9615188762145408e-07, 2.615530547700473e-06, 0.003487710375338793, 1.1179457004573123e-07, 8.774542834544263e-07, 7.085392280714586e-05, 2.4809592158447913e-09, 1.4472578868662822e-07, 6.547811626234079e-09, 2.632539690239355e-06, 1.5798026652191766e-05, 5.712718476047485e-08, 4.085301497980254e-06, 4.358596470410703e-06, 1.1841318155347835e-05, 8.863909783940471e-08, 9.094096640183125e-06, 1.1899045375685091e-06, 7.443310412469373e-10, 1.0699299934913142e-07, 3.889630395548238e-09, 1.3748427396542695e-10, 2.2738513849596131e-10, 3.2701441909921414e-07, 4.56206225862843e-06, 4.303228440249995e-09, 3.105742223397101e-07, 1.2257003163540503e-06, 2.43181119685687e-07, 1.1698340784960237e-07, 1.6673472602590778e-09, 4.091288303698093e-07, 6.961553111750618e-09, 1.1072249606058904e-07, 1.0913284995694994e-06, 1.364632424838419e-07, 0.00031540991039946675, 9.585706806092276e-08, 1.8713532459746496e-11, 3.718896834925545e-08, 4.895222560641344e-10, 7.503929566610168e-08, 8.217985936198602e-08, 1.2259457449204092e-08, 1.3520519426268862e-10, 2.3551245398323317e-09, 3.043414409376055e-08, 6.121911866330265e-08, 6.849667897768086e-06, 4.5859249553359405e-07, 1.1679067313252744e-07, 3.929764716303907e-05, 1.9142792950788134e-07, 1.361838428692863e-07, 2.923415536315588e-07, 2.9297582386789145e-06, 0.0001704409223748371, 0.00032243234454654157, 0.0010412274859845638, 0.0, 0.0, 0.0, 0.0, 0.0, 0.0, 0.0, 0.0, 0.0, 0.0, 0.0], [0.9968518614768982, 1.2266222029211349e-06, 5.708837306883652e-06, 1.5092680882844434e-07, 2.1455527132729912e-07, 1.2297628870783228e-07, 9.114017274214348e-08, 1.1229291203562752e-06, 0.00023573360522277653, 7.488953457368552e-08, 2.506565124349436e-06, 8.504062861902639e-05, 5.426397997609911e-09, 3.737090281674682e-08, 3.3834368640128787e-09, 6.384862899722066e-06, 1.4820609067101032e-05, 6.896173943005124e-08, 7.237850923047517e-07, 2.2234401058085496e-06, 2.460546511429129e-06, 4.748817445943132e-07, 1.4207106687535997e-05, 1.425465484317101e-06, 2.3796780102003368e-09, 1.830888152198895e-07, 7.039374638750928e-10, 7.810983526645998e-10, 2.460843084861608e-09, 4.597140446094272e-07, 7.404801181110088e-07, 1.3680709010088776e-08, 6.816936348741365e-08, 1.408508296663058e-07, 5.786926848827534e-08, 2.3387720204937068e-08, 1.0345213574680656e-08, 1.2251117595951655e-06, 1.3778064245073551e-09, 1.076844657887932e-08, 8.088494496405474e-07, 1.80727766974087e-07, 2.1946389097138308e-05, 2.320153271284653e-06, 1.2009573890914282e-10, 1.0869047883943495e-07, 1.291296181094026e-09, 1.8295790482625307e-07, 1.1360910434632387e-08, 9.957291524642642e-08, 2.53861509591502e-09, 2.198413229237417e-09, 2.2819945044716405e-08, 8.720801858430605e-09, 4.2062723082381126e-07, 5.889866656616505e-07, 1.6043783546138002e-07, 4.649350103136385e-06, 2.2979893543606522e-08, 6.011417497120419e-08, 3.994687602926206e-08, 3.838505904241174e-07, 5.007642812415725e-06, 8.42708395794034e-05, 3.8117996155051515e-05, 0.002610801486298442, 0.0, 0.0, 0.0, 0.0, 0.0, 0.0, 0.0, 0.0, 0.0, 0.0], [0.9972144961357117, 2.6138538942177547e-06, 5.502281965164002e-06, 5.079769138660595e-08, 2.6134025499224833e-10, 2.5263696912247724e-08, 2.4384962671319954e-07, 8.113690910249716e-07, 6.894151738379151e-06, 2.2814285216554708e-07, 1.023680579237407e-05, 0.00010068295523524284, 6.447269385034815e-10, 3.9534997995360754e-06, 2.2638241503614154e-08, 1.843162863224279e-05, 4.320384960010415e-06, 9.480250469096063e-07, 4.122687187191332e-07, 7.18745877748006e-06, 7.359423079833505e-07, 1.3539860219680122e-06, 1.9256374343967764e-06, 1.0351144737796858e-05, 2.386176163327036e-07, 3.0824940040474758e-06, 1.3597006853771632e-09, 1.1872285377023672e-09, 1.7495170867576348e-09, 2.874743358916021e-06, 3.0812097975285724e-06, 2.8584622668859083e-07, 4.1376512172064395e-07, 3.5135297338229066e-08, 4.396020880648166e-09, 2.090327598125441e-06, 3.0285269847496465e-09, 5.055438805356971e-07, 4.775698769776682e-08, 2.1212295919781354e-08, 4.4649036112787144e-07, 7.23767414001486e-07, 3.0774269816902233e-06, 9.894006325339433e-06, 5.411882053607542e-09, 1.6201867936160852e-07, 2.034700941067058e-08, 9.331501473752724e-07, 1.0967849739529356e-08, 1.7733994184254698e-07, 1.9323850963814948e-08, 2.920073711720761e-07, 5.275833814266662e-07, 9.640568805480143e-07, 1.5320401871576905e-06, 5.713610789825907e-06, 5.421199603006244e-06, 1.9984954633400775e-05, 1.942777316799038e-08, 6.80837497490927e-10, 4.594146219005779e-08, 9.006906793729286e-07, 1.0755077255453216e-06, 3.125442617601948e-06, 2.2644022465101443e-05, 8.210633677663282e-05, 0.0024362304247915745, 0.0, 0.0, 0.0, 0.0, 0.0, 0.0, 0.0, 0.0, 0.0], [0.9807417988777161, 2.542418042139616e-05, 9.395933011546731e-05, 2.283196351982042e-07, 1.0691240115434653e-09, 6.524686000375368e-07, 4.5951310312375426e-07, 6.6630736910155974e-06, 0.0002935839002020657, 4.902758973912569e-06, 3.33893476636149e-05, 0.000882436113897711, 2.931521136950721e-10, 1.5229782093229005e-06, 6.305907618298079e-08, 6.407555338228121e-05, 9.343106648884714e-05, 2.0401362235134e-06, 4.4285445710556814e-07, 3.5129429306834936e-05, 2.074276608254877e-06, 1.8295478412255761e-06, 4.643081047106534e-05, 1.829154643928632e-05, 4.161183397854984e-08, 1.2594550753419753e-05, 1.4927428537703236e-07, 2.0945424950014058e-08, 4.142217591152075e-08, 7.967512374307262e-07, 4.585323495120974e-06, 2.978122211061418e-07, 3.697489228216e-05, 4.614187673723791e-06, 9.805638079285472e-09, 1.3076635241304757e-06, 3.787918956277281e-08, 6.088674808779615e-07, 1.256802306670579e-07, 1.409426086951271e-08, 4.4483118699645274e-07, 8.575392484999611e-07, 1.3725837561651133e-05, 1.4163317700877087e-06, 1.7827932907721333e-08, 3.727551529664197e-07, 1.465783761034345e-08, 4.584112048178213e-06, 1.3028082435084798e-07, 5.967322636024619e-07, 1.5689641585936442e-08, 2.346566134292516e-06, 4.5483665189749445e-07, 9.048665674527001e-07, 1.3264188964967616e-05, 6.084846518206177e-06, 7.817106961738318e-06, 8.615502156317234e-05, 2.7949025138696015e-07, 3.4577964935778027e-09, 1.1241929769312264e-06, 2.124118736901437e-06, 2.4273762392112985e-05, 3.464841574896127e-05, 2.3752949346089736e-05, 0.0009371002088300884, 0.00053697096882388, 0.01588962785899639, 0.0, 0.0, 0.0, 0.0, 0.0, 0.0, 0.0, 0.0], [0.9992659687995911, 4.752376116812229e-05, 7.284515959327109e-06, 0.00034090710687451065, 2.9949753788116595e-10, 2.2981117808740237e-07, 6.237107896822636e-08, 1.142862743108708e-06, 3.3675728445814457e-06, 8.474768947053235e-06, 1.2564896678668447e-06, 3.366213059052825e-05, 1.4400793588720262e-06, 2.0336146917543374e-06, 1.3688497801922495e-07, 7.430655386997387e-06, 3.546894731698558e-05, 7.475551910829381e-07, 3.4264189707755577e-06, 6.96346660333802e-08, 2.2720366033013306e-08, 9.287624607168254e-07, 3.1660472359362757e-06, 2.583681452961173e-05, 2.190823096270833e-07, 2.3155828330345685e-06, 2.6799375518749e-07, 1.209176758720787e-07, 3.3305062174804334e-07, 1.7982514464165433e-06, 8.198164323403034e-06, 4.551904112304328e-06, 2.6398222416901262e-06, 4.300830767078878e-07, 4.435172940020493e-08, 1.540558400847658e-06, 1.2753183909808286e-05, 5.2451367082539946e-05, 1.0697883467969405e-08, 8.843485943543783e-09, 2.301776021340629e-06, 1.8347787289485495e-08, 1.5366046568487945e-07, 1.192962940876896e-06, 5.602825980943749e-10, 3.0880917734066315e-07, 4.318937985026139e-10, 3.0659714411740424e-07, 3.5999772052264234e-08, 7.708564453423605e-07, 7.78328796968708e-08, 3.21599543440243e-07, 9.76041405920114e-07, 4.416845555965665e-08, 4.071606838351727e-07, 1.8598663586999464e-07, 2.6041638534479716e-07, 5.926156518398784e-06, 4.2710991692729294e-05, 1.8744588103913884e-09, 2.8838965704380826e-07, 2.0986938409350842e-07, 7.493867997254711e-07, 6.827081506344257e-06, 4.510990248007829e-09, 6.179532192618353e-07, 9.325260180048645e-06, 1.8065253243548796e-05, 2.9589273253805004e-05, 0.0, 0.0, 0.0, 0.0, 0.0, 0.0, 0.0], [0.9997825026512146, 2.7301058480588836e-07, 1.3772949891688313e-08, 1.947965415638464e-07, 9.811489253973467e-15, 4.1582971732623264e-08, 4.5767387746309396e-07, 1.2108025657653343e-05, 2.0291722080401087e-08, 3.2373597136370336e-09, 2.0355761520818305e-08, 3.2224284041149076e-06, 5.503271449658342e-12, 1.1554213870113017e-06, 2.323029768547258e-08, 3.1578085781802656e-06, 3.949651272705523e-06, 1.8140582369596814e-06, 7.995226951607037e-06, 4.793893140231376e-07, 2.7192439411294345e-09, 4.5955871996739006e-08, 5.201516728448041e-08, 1.3444030628306791e-05, 7.566411568404874e-07, 2.8505196496553253e-06, 5.3474927597108035e-08, 1.75702936644484e-07, 1.2613482702761303e-08, 7.810122042428702e-06, 4.964983872923767e-06, 6.884150849373327e-08, 2.2060606852392084e-07, 9.887075158587777e-09, 4.502144435036826e-09, 1.2569211094159982e-06, 1.502566604472122e-08, 3.3249318676098483e-06, 2.2234911134511037e-10, 1.451394421314589e-10, 2.775032612589712e-07, 7.756909697897996e-11, 2.9663518308353787e-09, 1.7470815905085146e-08, 3.126356395988239e-10, 1.0367437575098393e-08, 1.734714455414732e-10, 3.937986434721097e-07, 8.167496540201213e-11, 4.752275017949614e-09, 4.571128892072451e-11, 4.7110361833802017e-07, 1.2189190101707936e-06, 3.908592560719626e-09, 2.3744476607134857e-08, 6.7712422335830524e-09, 5.723925369238714e-07, 1.179149876406882e-06, 1.7986068190367632e-09, 4.0717185482638807e-13, 4.944886811131255e-08, 8.070758212852525e-07, 3.8516159861501365e-07, 4.964763888892776e-07, 2.985340447070328e-11, 3.674822113275411e-10, 3.971999618102018e-09, 5.0622038543224335e-06, 1.1716624470636816e-07, 0.00013646026491187513, 0.0, 0.0, 0.0, 0.0, 0.0, 0.0], [0.9998165965080261, 1.0392484739440988e-07, 6.12912565145507e-09, 5.117345658334216e-09, 3.28601322584568e-13, 9.16895785962879e-08, 1.4149423805065453e-05, 8.827671081235167e-06, 7.217062147901743e-07, 1.3504029006128349e-08, 8.440264309683698e-07, 2.2466538212029263e-06, 9.683099726773628e-14, 2.1496836666301533e-07, 8.250660812336719e-07, 8.654773409944028e-06, 8.785091267782263e-06, 8.20563127490459e-06, 4.34145113104023e-06, 2.2638364498561714e-06, 3.212755217418817e-08, 9.783027508092346e-07, 3.3276413091698487e-07, 6.159185090837127e-07, 2.863818515663752e-08, 5.022774729468438e-08, 1.317908004949686e-09, 4.6504601414198987e-07, 9.178855897573612e-09, 5.415962277766084e-06, 1.5874546761551755e-06, 1.0097224958371953e-06, 9.441449719815864e-07, 2.3089597789294203e-08, 8.855483457637092e-09, 1.3439163240036578e-06, 1.1465898097640093e-07, 7.121093403839041e-07, 1.5092176397502044e-09, 7.230967491445028e-10, 3.006745075140316e-08, 3.5175196089198835e-09, 6.356701476306625e-08, 1.6985299566840695e-07, 5.960459237286386e-09, 1.3034965995473158e-08, 2.3014179451052996e-09, 1.0148911933072213e-08, 5.302593919509491e-10, 3.4703714391071117e-07, 4.150180199502529e-09, 6.953642639473401e-08, 4.5443880480888765e-07, 1.5773361283777376e-08, 3.6355692145662033e-07, 1.868876466915026e-07, 1.0795226444315631e-05, 5.2278678595030215e-06, 5.388336998812804e-10, 1.1391916056313622e-12, 5.1404548173650255e-08, 3.949057645513676e-05, 4.391722086438676e-06, 1.1980863519056584e-06, 3.1184426152464084e-09, 9.280932289357224e-08, 7.680555569322678e-08, 1.549653916299576e-06, 1.2091620646970114e-06, 1.1164697610865915e-08, 4.3566342355916277e-05, 0.0, 0.0, 0.0, 0.0, 0.0], [0.9852315187454224, 1.8918975683845929e-06, 2.096570642606821e-05, 1.6099127719826356e-07, 1.6693079141205658e-09, 3.744308969544363e-07, 1.197116603179893e-06, 0.002568475902080536, 0.001716147642582655, 1.3788718433715985e-06, 8.626406042822055e-07, 0.006474475376307964, 1.4832950423482316e-09, 2.5734947485034354e-05, 5.5591117416042835e-06, 0.001798527897335589, 0.0005372131709009409, 3.463945404291735e-06, 1.4020806702319533e-05, 6.173095243866555e-06, 3.83342649001861e-06, 2.5679037207737565e-06, 2.262423913634848e-05, 2.850255214070785e-06, 5.767711197535164e-09, 0.00017186396871693432, 1.5801691688466235e-07, 1.6515207335032756e-07, 1.8973489446239e-08, 2.1016182927269256e-06, 3.165295493090525e-05, 1.8762298168439884e-06, 2.811097692756448e-05, 3.877356448356295e-06, 1.6499109634082743e-08, 4.849665629080846e-07, 1.1334131500007061e-07, 1.7535847973704222e-06, 1.1774294872424207e-09, 3.1940052824808163e-09, 1.9606308399033878e-07, 4.5032733098082645e-09, 5.341821065485419e-07, 1.741664021892575e-07, 9.879537188339782e-10, 4.186642001968721e-07, 5.435256134056488e-10, 9.532316653348971e-06, 2.361745004009208e-07, 8.563830533603323e-07, 2.8437415977577984e-08, 2.2086345552452258e-07, 6.4642080133126e-07, 2.629383821783904e-08, 1.987424411709071e-06, 1.425270284016733e-07, 5.943567771282687e-07, 7.78191679273732e-05, 1.5920514684353293e-08, 5.763430288574511e-10, 1.8759710940230434e-07, 1.0092483535117935e-05, 8.457354124402627e-05, 6.403983570635319e-05, 1.04439614290186e-07, 9.907144885801245e-06, 6.717617361573502e-05, 1.601451003807597e-05, 0.00016403658082708716, 7.111605100362794e-07, 5.516197234101128e-06, 0.0008019134402275085, 0.0, 0.0, 0.0, 0.0], [0.9974116683006287, 3.128343814751133e-05, 4.3441530579002574e-05, 1.4289425962488167e-06, 5.064458630243962e-09, 1.9397509731788887e-06, 3.1070072736838483e-07, 9.914921974996105e-06, 0.0003740036627277732, 5.892618355574086e-05, 1.9343413441674784e-05, 0.0003940278256777674, 1.6905269717426563e-07, 1.3149086953490041e-05, 6.112686605774797e-07, 0.00010522986849537119, 7.855045259930193e-05, 2.980885710712755e-06, 3.687933713081293e-06, 1.469278686272446e-06, 8.014014747459441e-05, 9.404288721270859e-05, 1.3329776265891269e-05, 4.224814802000765e-06, 1.0435829089772142e-08, 1.38112466174789e-06, 2.9397634548899987e-08, 7.81230369284458e-09, 1.632185409050635e-08, 8.180855388673081e-07, 4.507182165980339e-05, 0.00017055052740033716, 1.0698433470679447e-05, 4.572406851366395e-06, 5.189095304558577e-07, 4.170489660282328e-07, 4.0325993211354216e-08, 4.930702743877191e-07, 1.4469071496492347e-09, 3.887687061165934e-09, 1.535265603536118e-08, 3.101351353507198e-08, 1.273415506375386e-07, 1.0395174285804387e-06, 3.887249633294232e-09, 1.327605900769413e-07, 5.152841486832926e-10, 7.87975480420755e-08, 5.131231773702893e-06, 9.64844657573849e-05, 1.7431358401154284e-07, 1.8171697035995749e-07, 1.5824512047402095e-06, 5.482203579987299e-09, 1.1449428427567909e-07, 6.511834271805128e-06, 1.0147670082005789e-06, 0.00016604250413365662, 2.183586730097886e-06, 4.29074598073953e-09, 3.22510481964855e-06, 7.0197511377045885e-06, 6.660132385150064e-06, 8.444949344266206e-05, 1.206894467031816e-06, 5.842177415615879e-06, 3.1627481803297997e-05, 2.9404807719402015e-05, 0.00023404674720950425, 4.2328662175350473e-07, 7.409973079575138e-08, 7.369750528596342e-05, 0.00026299376622773707, 0.0, 0.0, 0.0], [0.9945068955421448, 2.1220968449142674e-07, 3.4867316571762785e-05, 8.634031267718001e-09, 9.503082765149884e-10, 5.90587418969335e-08, 5.499567024003227e-09, 6.555627578563872e-07, 7.453599391737953e-05, 3.2732293675508117e-07, 3.723905592778465e-07, 0.00027235341258347034, 4.6613277504548023e-07, 2.6525260636844905e-06, 8.562953013324659e-09, 3.068916385018383e-06, 8.511327905580401e-05, 5.173398676561192e-06, 2.2166343569551827e-06, 1.9057290046475828e-05, 4.620036997948773e-05, 3.708586746142828e-06, 6.576285522896796e-05, 2.4036307877395302e-05, 1.5998129043737208e-08, 1.7003501397994114e-06, 1.3944320471637184e-06, 1.0390404092674999e-08, 5.035026262589781e-08, 1.9288283965579467e-06, 7.24755545888911e-06, 3.386744253930374e-07, 3.459700019448064e-05, 1.951527792698471e-06, 8.224708381021628e-07, 1.6208267084039107e-07, 1.6907054645187714e-09, 2.1308066777692147e-07, 8.755928604387009e-08, 2.6150635434873948e-08, 6.771412586203951e-07, 1.6956732906692196e-08, 3.020769554495928e-06, 6.442093081204803e-07, 9.545301216107305e-10, 5.594545626763647e-08, 6.427642862405492e-10, 2.2604127991598943e-07, 2.5308484055130975e-06, 1.3707463040191215e-06, 9.689042599347886e-07, 5.5583961511729285e-05, 4.0440640987071674e-06, 3.091439793934114e-05, 1.9291879652882926e-05, 1.6016900190152228e-05, 2.6312616228096886e-06, 5.274029172142036e-05, 5.766006694329917e-08, 2.546739263920017e-09, 2.271604842007946e-07, 2.69294247345897e-07, 1.599922325112857e-05, 2.3872897145338356e-05, 2.69090264737315e-06, 0.00026421676739118993, 9.66442094068043e-05, 0.00013330123329069465, 0.003237553872168064, 6.507094862939766e-10, 9.177408166749501e-09, 2.1744408513768576e-06, 3.749231473193504e-05, 0.0007964381948113441, 0.0, 0.0], [0.9868992567062378, 3.058834963098889e-08, 9.572421078019033e-08, 2.3645267965832772e-09, 1.3919070973936187e-12, 1.1997086346582364e-07, 2.1415894480014686e-07, 1.2363119594738237e-07, 1.0135669725741536e-07, 1.7173768185330118e-08, 4.20396816025459e-07, 1.3683448742085602e-05, 1.6631199528660545e-08, 2.070954542432446e-05, 1.1308435432511033e-06, 2.251189016533317e-06, 3.3146238820336293e-06, 7.172568530222634e-07, 1.0277831279381644e-05, 6.645841494901106e-06, 3.8922937051211193e-07, 5.459472959046252e-06, 3.7255767892929725e-06, 6.643762844760204e-06, 3.690053773652835e-08, 6.441926529987541e-07, 4.0007756751947454e-07, 2.725824117533193e-07, 3.483664556824806e-08, 2.562691406637896e-06, 1.6381090972572565e-06, 2.2321730739349732e-06, 3.071396122322767e-06, 8.539453233424865e-08, 9.142708812248657e-09, 1.2666633892877144e-06, 4.150564336669049e-08, 8.853190820445889e-07, 7.872733576164137e-09, 4.7436934380584717e-08, 1.3593363235031575e-07, 5.384212613535055e-07, 2.272541678394191e-06, 1.2248206076037604e-05, 4.9084931674769905e-08, 4.3077886857645353e-07, 5.3065370764215913e-08, 3.903542733496579e-07, 3.819917537839501e-08, 1.1216809980396647e-05, 1.812801428968669e-06, 2.9298927984200418e-05, 7.4861500252154656e-06, 8.90413411980262e-06, 1.0959753126371652e-05, 2.1044047571194824e-06, 4.1757815779419616e-05, 1.2322522707108874e-05, 5.473655306786895e-09, 7.243459304584476e-11, 3.7339302139116626e-07, 3.5927507724409224e-06, 3.2833700061019044e-06, 1.3519860431188135e-06, 3.428664967941586e-06, 1.4559261217073072e-05, 1.5598712707287632e-05, 5.9987556596752256e-05, 0.000208811616175808, 1.0843970166263261e-08, 4.0928615163693394e-08, 0.0003574620350264013, 3.0069631975493394e-05, 6.25251850578934e-05, 0.012108450755476952, 0.0], [0.9796930551528931, 3.2975738122331677e-06, 0.0002011491742450744, 4.148646581825233e-08, 9.226787112126544e-10, 4.443502277240441e-08, 1.3081570671147347e-07, 1.1221751492485055e-06, 2.9442026061587967e-06, 5.1601595885131246e-08, 3.909107348931684e-08, 6.47062188363634e-05, 7.545280844567515e-09, 1.2346936273388565e-05, 7.503993515456386e-08, 6.570359801116865e-06, 2.0764698547282023e-06, 2.4097775508380437e-07, 2.5597880721761612e-06, 2.7223981646784523e-07, 6.55661415294162e-06, 4.709180757345166e-06, 2.2380290829460137e-06, 1.3276497838887735e-06, 3.8076781727625075e-09, 1.1715826076397207e-05, 1.7052701650754898e-07, 1.1065604432758391e-08, 7.657486378320755e-08, 3.9672548268754326e-07, 0.00020457750360947102, 1.4507056221191306e-05, 5.760440672020195e-06, 5.760300041401933e-07, 2.4746853455326345e-09, 8.178277965953384e-08, 9.147958479616136e-08, 8.561379445382045e-07, 5.034671568537874e-10, 2.0886902873940016e-08, 3.790477620668753e-08, 3.877613607983221e-08, 9.779033689483185e-07, 1.5996317870303756e-06, 2.7179789086062556e-08, 3.878353709296789e-06, 3.6073344311660094e-09, 2.895696127325209e-07, 1.698103005765006e-06, 1.8861243006540462e-05, 5.936201432632515e-07, 1.6513622540514916e-06, 2.409542275927379e-06, 1.8169238558130019e-07, 4.649371021514526e-06, 3.485597062535817e-06, 4.0984759834827855e-06, 0.003052992047742009, 1.8862753847770364e-07, 3.654935021302208e-09, 5.861136855855875e-07, 6.639737421210157e-06, 7.603774974995758e-06, 8.000753950909711e-06, 3.043183482986933e-07, 1.5807927411515266e-05, 4.5758861233480275e-05, 4.770911800733302e-06, 0.00016857754962984473, 3.7835864219459836e-08, 2.487757910785149e-08, 1.8705437469179742e-05, 0.0002149913925677538, 0.0019182217074558139, 0.0008438883814960718, 0.013403880409896374]], \"maskUpperTri\": true}\n",
       "    )\n",
       "    </script>"
      ],
      "text/plain": [
       "<circuitsvis.utils.render.RenderedHTML at 0x29978b87fd0>"
      ]
     },
     "execution_count": 7,
     "metadata": {},
     "output_type": "execute_result"
    }
   ],
   "source": [
    "#%%\n",
    "\n",
    "print(\"pattern for 5.1 (an induction head) on harry potter\")\n",
    "hptext = \"Mr and Mrs Dursley, of number four, Privet Drive, were proud to say that they were perfectly normal, thank you very much. They were the last people you'd expect to be involved in anything strange or mysterious, because they just didn't hold with such nonsense. Mr Dursley was the director of a firm called Grunnings, which made drills.\"\n",
    "hptoks = model.tokenizer(hptext, return_tensors='pt', add_special_tokens=True)['input_ids'].to(device)\n",
    "_, hp_cache = model.run_with_cache(hptoks)\n",
    "str_tokens = model.to_str_tokens(hptoks.squeeze())\n",
    "cv.attention.attention_pattern(\n",
    "    attention = hp_cache[\"pattern\", 5][0, 1],\n",
    "    tokens = str_tokens,\n",
    ")"
   ]
  },
  {
   "cell_type": "code",
   "execution_count": null,
   "id": "c8a08b8a-fc08-47d0-bc0b-e9f940885957",
   "metadata": {},
   "outputs": [
    {
     "name": "stdout",
     "output_type": "stream",
     "text": [
      "the pattern of a strict induction head on the same text\n"
     ]
    }
   ],
   "source": [
    "#%%\n",
    "\n",
    "print(\"the pattern of a strict induction head on the same text\")\n",
    "model.reset_hooks()\n",
    "hook = partial(strict_induction_head_hook, head=5, tokens=hptoks, cache=hp_cache)\n",
    "#_, strict_hp_cache = model.run_with_hooks(hptoks, fwd_hooks=[(\"blocks.5.attn.hook_pattern\", hook)])\n",
    "model.add_hook(\"blocks.5.attn.hook_pattern\", hook)\n",
    "_, strict_hp_cache = model.run_with_cache(hptoks)\n",
    "cv.attention.attention_pattern(\n",
    "    attention = strict_hp_cache[\"pattern\", 5][0, 5],\n",
    "    tokens = str_tokens,\n",
    ")\n",
    "model.reset_hooks()"
   ]
  },
  {
   "cell_type": "code",
   "execution_count": null,
   "id": "6d40ba0f-9a58-45da-b7dd-5c1b54b57dcf",
   "metadata": {},
   "outputs": [
    {
     "name": "stdout",
     "output_type": "stream",
     "text": [
      "here we test our strict induction head hook by observing loss differences on wikipedia text by ablating each head one at a time.\n"
     ]
    },
    {
     "name": "stderr",
     "output_type": "stream",
     "text": [
      "mapping strict induction ablations. . .: 100%|██████████████████████| 12/12 [00:08<00:00,  1.35it/s]\n"
     ]
    },
    {
     "data": {
      "application/vnd.plotly.v1+json": {
       "config": {
        "plotlyServerURL": "https://plot.ly",
        "staticPlot": false
       },
       "data": [
        {
         "coloraxis": "coloraxis",
         "hovertemplate": "x: %{x}<br>y: %{y}<br>color: %{z}<extra></extra>",
         "name": "0",
         "type": "heatmap",
         "xaxis": "x",
         "yaxis": "y",
         "z": [
          [
           0.0025272369384765625,
           -0.03004169464111328,
           0.006628990173339844,
           0.020033836364746094,
           0.015123367309570312,
           0.0024595260620117188,
           0.015257835388183594,
           0.040363311767578125,
           0.01494598388671875,
           -0.14244556427001953,
           -0.09659957885742188,
           0.025918006896972656
          ],
          [
           0.011371612548828125,
           0.011631011962890625,
           -0.8545513153076172,
           -0.6927719116210938,
           -0.07746410369873047,
           -0.08558368682861328,
           -0.01607036590576172,
           -0.03176116943359375,
           -0.011149406433105469,
           -0.009153366088867188,
           -0.18439292907714844,
           0.0005435943603515625
          ],
          [
           -0.053282737731933594,
           -0.050464630126953125,
           0.00027942657470703125,
           -0.027276039123535156,
           -0.0024232864379882812,
           -0.03196239471435547,
           -0.09245777130126953,
           -0.014664649963378906,
           0.0009241104125976562,
           -0.05620288848876953,
           -0.19456100463867188,
           -1.3619308471679688
          ],
          [
           0.017287254333496094,
           -0.0021581649780273438,
           -0.0027723312377929688,
           -0.0029840469360351562,
           -0.1828441619873047,
           -0.006987571716308594,
           -0.000789642333984375,
           -0.009690284729003906,
           -0.02141857147216797,
           -0.02369213104248047,
           -0.11597251892089844,
           0.011065483093261719
          ],
          [
           -0.0063648223876953125,
           0.007175445556640625,
           -0.03684043884277344,
           -0.0019350051879882812,
           -0.2379751205444336,
           0.02327728271484375,
           -0.029219627380371094,
           -0.016721725463867188,
           -0.011889457702636719,
           0.017991065979003906,
           -0.10826778411865234,
           -0.042296409606933594
          ],
          [
           0.0070247650146484375,
           -0.06493473052978516,
           -0.0012187957763671875,
           0.013126373291015625,
           0.0071392059326171875,
           -0.048554420471191406,
           -0.013996124267578125,
           -0.04948902130126953,
           -0.06804561614990234,
           -0.18466758728027344,
           0.05743980407714844,
           -0.12420654296875
          ],
          [
           0.06582164764404297,
           -0.004639625549316406,
           -0.058685302734375,
           -0.022004127502441406,
           0.03833484649658203,
           -0.15723705291748047,
           -0.12280941009521484,
           -0.010540962219238281,
           0.02286815643310547,
           -0.02440929412841797,
           -0.016617774963378906,
           -0.003635406494140625
          ],
          [
           -0.014765739440917969,
           -0.03331279754638672,
           -0.0004329681396484375,
           -0.08740043640136719,
           0.011082649230957031,
           0.019367218017578125,
           -0.1352529525756836,
           -0.15743446350097656,
           -0.010058403015136719,
           -0.07278919219970703,
           -0.00203704833984375,
           0.002384185791015625
          ],
          [
           0.014007568359375,
           -0.046790122985839844,
           -0.06677913665771484,
           -0.1499309539794922,
           -0.031617164611816406,
           -0.04736137390136719,
           -0.05912017822265625,
           -0.037982940673828125,
           0.007945060729980469,
           -0.20513153076171875,
           -0.0020093917846679688,
           -0.0035638809204101562
          ],
          [
           0.013584136962890625,
           -0.054218292236328125,
           -0.060016632080078125,
           -0.010480880737304688,
           -0.1861562728881836,
           0.07106971740722656,
           -0.06230449676513672,
           -0.08253288269042969,
           -0.004326820373535156,
           -0.044951438903808594,
           -0.008453369140625,
           -0.04669189453125
          ],
          [
           -0.045734405517578125,
           -0.012845993041992188,
           -0.00653839111328125,
           -0.06737136840820312,
           0.022292137145996094,
           -0.13575077056884766,
           -0.034366607666015625,
           -0.1044015884399414,
           -0.0015649795532226562,
           0.007287025451660156,
           0.031105995178222656,
           -0.012766838073730469
          ],
          [
           -0.050078392028808594,
           -0.13773345947265625,
           -0.05775642395019531,
           -0.08261871337890625,
           0.07892894744873047,
           -0.052773475646972656,
           -0.06429862976074219,
           -0.06571769714355469,
           0.034293174743652344,
           -0.09026908874511719,
           -0.03259086608886719,
           0.04241180419921875
          ]
         ]
        }
       ],
       "layout": {
        "coloraxis": {
         "cmid": 0,
         "colorscale": [
          [
           0,
           "rgb(103,0,31)"
          ],
          [
           0.1,
           "rgb(178,24,43)"
          ],
          [
           0.2,
           "rgb(214,96,77)"
          ],
          [
           0.3,
           "rgb(244,165,130)"
          ],
          [
           0.4,
           "rgb(253,219,199)"
          ],
          [
           0.5,
           "rgb(247,247,247)"
          ],
          [
           0.6,
           "rgb(209,229,240)"
          ],
          [
           0.7,
           "rgb(146,197,222)"
          ],
          [
           0.8,
           "rgb(67,147,195)"
          ],
          [
           0.9,
           "rgb(33,102,172)"
          ],
          [
           1,
           "rgb(5,48,97)"
          ]
         ]
        },
        "template": {
         "data": {
          "bar": [
           {
            "error_x": {
             "color": "#2a3f5f"
            },
            "error_y": {
             "color": "#2a3f5f"
            },
            "marker": {
             "line": {
              "color": "#E5ECF6",
              "width": 0.5
             },
             "pattern": {
              "fillmode": "overlay",
              "size": 10,
              "solidity": 0.2
             }
            },
            "type": "bar"
           }
          ],
          "barpolar": [
           {
            "marker": {
             "line": {
              "color": "#E5ECF6",
              "width": 0.5
             },
             "pattern": {
              "fillmode": "overlay",
              "size": 10,
              "solidity": 0.2
             }
            },
            "type": "barpolar"
           }
          ],
          "carpet": [
           {
            "aaxis": {
             "endlinecolor": "#2a3f5f",
             "gridcolor": "white",
             "linecolor": "white",
             "minorgridcolor": "white",
             "startlinecolor": "#2a3f5f"
            },
            "baxis": {
             "endlinecolor": "#2a3f5f",
             "gridcolor": "white",
             "linecolor": "white",
             "minorgridcolor": "white",
             "startlinecolor": "#2a3f5f"
            },
            "type": "carpet"
           }
          ],
          "choropleth": [
           {
            "colorbar": {
             "outlinewidth": 0,
             "ticks": ""
            },
            "type": "choropleth"
           }
          ],
          "contour": [
           {
            "colorbar": {
             "outlinewidth": 0,
             "ticks": ""
            },
            "colorscale": [
             [
              0,
              "#0d0887"
             ],
             [
              0.1111111111111111,
              "#46039f"
             ],
             [
              0.2222222222222222,
              "#7201a8"
             ],
             [
              0.3333333333333333,
              "#9c179e"
             ],
             [
              0.4444444444444444,
              "#bd3786"
             ],
             [
              0.5555555555555556,
              "#d8576b"
             ],
             [
              0.6666666666666666,
              "#ed7953"
             ],
             [
              0.7777777777777778,
              "#fb9f3a"
             ],
             [
              0.8888888888888888,
              "#fdca26"
             ],
             [
              1,
              "#f0f921"
             ]
            ],
            "type": "contour"
           }
          ],
          "contourcarpet": [
           {
            "colorbar": {
             "outlinewidth": 0,
             "ticks": ""
            },
            "type": "contourcarpet"
           }
          ],
          "heatmap": [
           {
            "colorbar": {
             "outlinewidth": 0,
             "ticks": ""
            },
            "colorscale": [
             [
              0,
              "#0d0887"
             ],
             [
              0.1111111111111111,
              "#46039f"
             ],
             [
              0.2222222222222222,
              "#7201a8"
             ],
             [
              0.3333333333333333,
              "#9c179e"
             ],
             [
              0.4444444444444444,
              "#bd3786"
             ],
             [
              0.5555555555555556,
              "#d8576b"
             ],
             [
              0.6666666666666666,
              "#ed7953"
             ],
             [
              0.7777777777777778,
              "#fb9f3a"
             ],
             [
              0.8888888888888888,
              "#fdca26"
             ],
             [
              1,
              "#f0f921"
             ]
            ],
            "type": "heatmap"
           }
          ],
          "heatmapgl": [
           {
            "colorbar": {
             "outlinewidth": 0,
             "ticks": ""
            },
            "colorscale": [
             [
              0,
              "#0d0887"
             ],
             [
              0.1111111111111111,
              "#46039f"
             ],
             [
              0.2222222222222222,
              "#7201a8"
             ],
             [
              0.3333333333333333,
              "#9c179e"
             ],
             [
              0.4444444444444444,
              "#bd3786"
             ],
             [
              0.5555555555555556,
              "#d8576b"
             ],
             [
              0.6666666666666666,
              "#ed7953"
             ],
             [
              0.7777777777777778,
              "#fb9f3a"
             ],
             [
              0.8888888888888888,
              "#fdca26"
             ],
             [
              1,
              "#f0f921"
             ]
            ],
            "type": "heatmapgl"
           }
          ],
          "histogram": [
           {
            "marker": {
             "pattern": {
              "fillmode": "overlay",
              "size": 10,
              "solidity": 0.2
             }
            },
            "type": "histogram"
           }
          ],
          "histogram2d": [
           {
            "colorbar": {
             "outlinewidth": 0,
             "ticks": ""
            },
            "colorscale": [
             [
              0,
              "#0d0887"
             ],
             [
              0.1111111111111111,
              "#46039f"
             ],
             [
              0.2222222222222222,
              "#7201a8"
             ],
             [
              0.3333333333333333,
              "#9c179e"
             ],
             [
              0.4444444444444444,
              "#bd3786"
             ],
             [
              0.5555555555555556,
              "#d8576b"
             ],
             [
              0.6666666666666666,
              "#ed7953"
             ],
             [
              0.7777777777777778,
              "#fb9f3a"
             ],
             [
              0.8888888888888888,
              "#fdca26"
             ],
             [
              1,
              "#f0f921"
             ]
            ],
            "type": "histogram2d"
           }
          ],
          "histogram2dcontour": [
           {
            "colorbar": {
             "outlinewidth": 0,
             "ticks": ""
            },
            "colorscale": [
             [
              0,
              "#0d0887"
             ],
             [
              0.1111111111111111,
              "#46039f"
             ],
             [
              0.2222222222222222,
              "#7201a8"
             ],
             [
              0.3333333333333333,
              "#9c179e"
             ],
             [
              0.4444444444444444,
              "#bd3786"
             ],
             [
              0.5555555555555556,
              "#d8576b"
             ],
             [
              0.6666666666666666,
              "#ed7953"
             ],
             [
              0.7777777777777778,
              "#fb9f3a"
             ],
             [
              0.8888888888888888,
              "#fdca26"
             ],
             [
              1,
              "#f0f921"
             ]
            ],
            "type": "histogram2dcontour"
           }
          ],
          "mesh3d": [
           {
            "colorbar": {
             "outlinewidth": 0,
             "ticks": ""
            },
            "type": "mesh3d"
           }
          ],
          "parcoords": [
           {
            "line": {
             "colorbar": {
              "outlinewidth": 0,
              "ticks": ""
             }
            },
            "type": "parcoords"
           }
          ],
          "pie": [
           {
            "automargin": true,
            "type": "pie"
           }
          ],
          "scatter": [
           {
            "fillpattern": {
             "fillmode": "overlay",
             "size": 10,
             "solidity": 0.2
            },
            "type": "scatter"
           }
          ],
          "scatter3d": [
           {
            "line": {
             "colorbar": {
              "outlinewidth": 0,
              "ticks": ""
             }
            },
            "marker": {
             "colorbar": {
              "outlinewidth": 0,
              "ticks": ""
             }
            },
            "type": "scatter3d"
           }
          ],
          "scattercarpet": [
           {
            "marker": {
             "colorbar": {
              "outlinewidth": 0,
              "ticks": ""
             }
            },
            "type": "scattercarpet"
           }
          ],
          "scattergeo": [
           {
            "marker": {
             "colorbar": {
              "outlinewidth": 0,
              "ticks": ""
             }
            },
            "type": "scattergeo"
           }
          ],
          "scattergl": [
           {
            "marker": {
             "colorbar": {
              "outlinewidth": 0,
              "ticks": ""
             }
            },
            "type": "scattergl"
           }
          ],
          "scattermapbox": [
           {
            "marker": {
             "colorbar": {
              "outlinewidth": 0,
              "ticks": ""
             }
            },
            "type": "scattermapbox"
           }
          ],
          "scatterpolar": [
           {
            "marker": {
             "colorbar": {
              "outlinewidth": 0,
              "ticks": ""
             }
            },
            "type": "scatterpolar"
           }
          ],
          "scatterpolargl": [
           {
            "marker": {
             "colorbar": {
              "outlinewidth": 0,
              "ticks": ""
             }
            },
            "type": "scatterpolargl"
           }
          ],
          "scatterternary": [
           {
            "marker": {
             "colorbar": {
              "outlinewidth": 0,
              "ticks": ""
             }
            },
            "type": "scatterternary"
           }
          ],
          "surface": [
           {
            "colorbar": {
             "outlinewidth": 0,
             "ticks": ""
            },
            "colorscale": [
             [
              0,
              "#0d0887"
             ],
             [
              0.1111111111111111,
              "#46039f"
             ],
             [
              0.2222222222222222,
              "#7201a8"
             ],
             [
              0.3333333333333333,
              "#9c179e"
             ],
             [
              0.4444444444444444,
              "#bd3786"
             ],
             [
              0.5555555555555556,
              "#d8576b"
             ],
             [
              0.6666666666666666,
              "#ed7953"
             ],
             [
              0.7777777777777778,
              "#fb9f3a"
             ],
             [
              0.8888888888888888,
              "#fdca26"
             ],
             [
              1,
              "#f0f921"
             ]
            ],
            "type": "surface"
           }
          ],
          "table": [
           {
            "cells": {
             "fill": {
              "color": "#EBF0F8"
             },
             "line": {
              "color": "white"
             }
            },
            "header": {
             "fill": {
              "color": "#C8D4E3"
             },
             "line": {
              "color": "white"
             }
            },
            "type": "table"
           }
          ]
         },
         "layout": {
          "annotationdefaults": {
           "arrowcolor": "#2a3f5f",
           "arrowhead": 0,
           "arrowwidth": 1
          },
          "autotypenumbers": "strict",
          "coloraxis": {
           "colorbar": {
            "outlinewidth": 0,
            "ticks": ""
           }
          },
          "colorscale": {
           "diverging": [
            [
             0,
             "#8e0152"
            ],
            [
             0.1,
             "#c51b7d"
            ],
            [
             0.2,
             "#de77ae"
            ],
            [
             0.3,
             "#f1b6da"
            ],
            [
             0.4,
             "#fde0ef"
            ],
            [
             0.5,
             "#f7f7f7"
            ],
            [
             0.6,
             "#e6f5d0"
            ],
            [
             0.7,
             "#b8e186"
            ],
            [
             0.8,
             "#7fbc41"
            ],
            [
             0.9,
             "#4d9221"
            ],
            [
             1,
             "#276419"
            ]
           ],
           "sequential": [
            [
             0,
             "#0d0887"
            ],
            [
             0.1111111111111111,
             "#46039f"
            ],
            [
             0.2222222222222222,
             "#7201a8"
            ],
            [
             0.3333333333333333,
             "#9c179e"
            ],
            [
             0.4444444444444444,
             "#bd3786"
            ],
            [
             0.5555555555555556,
             "#d8576b"
            ],
            [
             0.6666666666666666,
             "#ed7953"
            ],
            [
             0.7777777777777778,
             "#fb9f3a"
            ],
            [
             0.8888888888888888,
             "#fdca26"
            ],
            [
             1,
             "#f0f921"
            ]
           ],
           "sequentialminus": [
            [
             0,
             "#0d0887"
            ],
            [
             0.1111111111111111,
             "#46039f"
            ],
            [
             0.2222222222222222,
             "#7201a8"
            ],
            [
             0.3333333333333333,
             "#9c179e"
            ],
            [
             0.4444444444444444,
             "#bd3786"
            ],
            [
             0.5555555555555556,
             "#d8576b"
            ],
            [
             0.6666666666666666,
             "#ed7953"
            ],
            [
             0.7777777777777778,
             "#fb9f3a"
            ],
            [
             0.8888888888888888,
             "#fdca26"
            ],
            [
             1,
             "#f0f921"
            ]
           ]
          },
          "colorway": [
           "#636efa",
           "#EF553B",
           "#00cc96",
           "#ab63fa",
           "#FFA15A",
           "#19d3f3",
           "#FF6692",
           "#B6E880",
           "#FF97FF",
           "#FECB52"
          ],
          "font": {
           "color": "#2a3f5f"
          },
          "geo": {
           "bgcolor": "white",
           "lakecolor": "white",
           "landcolor": "#E5ECF6",
           "showlakes": true,
           "showland": true,
           "subunitcolor": "white"
          },
          "hoverlabel": {
           "align": "left"
          },
          "hovermode": "closest",
          "mapbox": {
           "style": "light"
          },
          "paper_bgcolor": "white",
          "plot_bgcolor": "#E5ECF6",
          "polar": {
           "angularaxis": {
            "gridcolor": "white",
            "linecolor": "white",
            "ticks": ""
           },
           "bgcolor": "#E5ECF6",
           "radialaxis": {
            "gridcolor": "white",
            "linecolor": "white",
            "ticks": ""
           }
          },
          "scene": {
           "xaxis": {
            "backgroundcolor": "#E5ECF6",
            "gridcolor": "white",
            "gridwidth": 2,
            "linecolor": "white",
            "showbackground": true,
            "ticks": "",
            "zerolinecolor": "white"
           },
           "yaxis": {
            "backgroundcolor": "#E5ECF6",
            "gridcolor": "white",
            "gridwidth": 2,
            "linecolor": "white",
            "showbackground": true,
            "ticks": "",
            "zerolinecolor": "white"
           },
           "zaxis": {
            "backgroundcolor": "#E5ECF6",
            "gridcolor": "white",
            "gridwidth": 2,
            "linecolor": "white",
            "showbackground": true,
            "ticks": "",
            "zerolinecolor": "white"
           }
          },
          "shapedefaults": {
           "line": {
            "color": "#2a3f5f"
           }
          },
          "ternary": {
           "aaxis": {
            "gridcolor": "white",
            "linecolor": "white",
            "ticks": ""
           },
           "baxis": {
            "gridcolor": "white",
            "linecolor": "white",
            "ticks": ""
           },
           "bgcolor": "#E5ECF6",
           "caxis": {
            "gridcolor": "white",
            "linecolor": "white",
            "ticks": ""
           }
          },
          "title": {
           "x": 0.05
          },
          "xaxis": {
           "automargin": true,
           "gridcolor": "white",
           "linecolor": "white",
           "ticks": "",
           "title": {
            "standoff": 15
           },
           "zerolinecolor": "white",
           "zerolinewidth": 2
          },
          "yaxis": {
           "automargin": true,
           "gridcolor": "white",
           "linecolor": "white",
           "ticks": "",
           "title": {
            "standoff": 15
           },
           "zerolinecolor": "white",
           "zerolinewidth": 2
          }
         }
        },
        "title": {
         "text": "loss difference when ablating each head with a strict induction head"
        },
        "xaxis": {
         "anchor": "y",
         "constrain": "domain",
         "domain": [
          0,
          1
         ],
         "scaleanchor": "y"
        },
        "yaxis": {
         "anchor": "x",
         "autorange": "reversed",
         "constrain": "domain",
         "domain": [
          0,
          1
         ]
        }
       }
      }
     },
     "metadata": {},
     "output_type": "display_data"
    }
   ],
   "source": [
    "#%%\n",
    "\n",
    "#text = \"Mr and Mrs Dursley, of number four, Privet Drive, were proud to say that they were perfectly normal, thank you very much. They were the last people you'd expect to be involved in anything strange or mysterious, because they just didn't hold with such nonsense. Mr Dursley was the director of a firm called Grunnings, which made drills. He was a big, beefy man with hardly any neck, although he did have a very large moustache. Mrs Dursley was thin and blonde and had nearly twice the usual amount of neck, which came in very useful as she spent so much of her time craning over garden fences, spying on the neighbours. The Dursleys had a small son called Dudley and in their opinion there was no finer boy anywhere. The Dursleys had everything they wanted, but they also had a secret, and their greatest fear was that somebody would discover it. They didn't think they could bear it if anyone found out about the Potters. Mrs Potter was Mrs Dursley's sister, but they hadn't met for several years; in fact, Mrs Dursley pretended she didn't have a sister, because her sister and her good- for-nothing husband were as unDursleyish as it was possible to be. The Dursleys shuddered to think what the neighbours would say if the Potters arrived in the street. The Dursleys knew that the Potters had a small son, too, but they had never even seen him. This boy was another good reason for keeping the Potters away; they didn't want Dudley mixing with a child like that.\"\n",
    "text = 'George Washington (February 22, 1732 - December 14, 1799) was an American Founding Father, military officer, and politician who served as the first president of the United States from 1789 to 1797. Appointed by the Second Continental Congress as commander of the Continental Army in 1775, Washington led Patriot forces to victory in the American Revolutionary War and then served as president of the Constitutional Convention in 1787, which drafted the current Constitution of the United States. Washington has thus become commonly known as the \"Father of his Country\".'\n",
    "toks = model.tokenizer(text, return_tensors='pt', add_special_tokens=True)['input_ids'].to(device)\n",
    "\n",
    "print(\"here we test our strict induction head hook by observing loss differences on wikipedia text by ablating each head one at a time.\")\n",
    "logits, strict_induction_cache = model.run_with_cache(toks)\n",
    "induction_ablation_map = strict_induction_ablation_map(model, strict_induction_cache, toks)\n",
    "imshow(induction_ablation_map, title=\"loss difference when ablating each head with a strict induction head\")"
   ]
  },
  {
   "cell_type": "code",
   "execution_count": null,
   "id": "eab7f70b-fbc3-499f-8e5f-af4ab97007e3",
   "metadata": {},
   "outputs": [
    {
     "name": "stderr",
     "output_type": "stream",
     "text": [
      "mapping noise ablations. . .: 100%|█████████████████████████████████| 11/11 [00:04<00:00,  2.68it/s]\n"
     ]
    },
    {
     "data": {
      "application/vnd.plotly.v1+json": {
       "config": {
        "plotlyServerURL": "https://plot.ly",
        "staticPlot": false
       },
       "data": [
        {
         "coloraxis": "coloraxis",
         "hovertemplate": "x: %{x}<br>y: %{y}<br>color: %{z}<extra></extra>",
         "name": "0",
         "type": "heatmap",
         "xaxis": "x",
         "yaxis": "y",
         "z": [
          [
           -0.00013637542724609375,
           -0.012885093688964844,
           -0.00525665283203125,
           -0.000209808349609375,
           0.0043659210205078125,
           -0.00615692138671875,
           -0.0068607330322265625,
           -0.0024242401123046875,
           0.003448486328125,
           0.00618743896484375,
           0.0029115676879882812,
           -0.0015497207641601562
          ],
          [
           -0.005972862243652344,
           -0.014495849609375,
           -0.0033216476440429688,
           -0.007999420166015625,
           -0.004886627197265625,
           -0.006313323974609375,
           -0.004834175109863281,
           -0.0017309188842773438,
           -0.004752159118652344,
           0.004284858703613281,
           0.00588226318359375,
           -0.009282112121582031
          ],
          [
           -0.001491546630859375,
           -0.006882667541503906,
           -0.006473541259765625,
           -0.006572723388671875,
           -0.00286865234375,
           0.005946159362792969,
           -0.008280754089355469,
           0.004405021667480469,
           -0.007800102233886719,
           0.0007486343383789062,
           -0.001773834228515625,
           0.0022649765014648438
          ],
          [
           0.0006818771362304688,
           -0.00218963623046875,
           -0.004755973815917969,
           0.004651069641113281,
           -0.00135040283203125,
           0.006404876708984375,
           -0.004921913146972656,
           -0.004899024963378906,
           -0.011564254760742188,
           -0.0005140304565429688,
           0.00489044189453125,
           -0.0011587142944335938
          ],
          [
           0.005614280700683594,
           -0.0008983612060546875,
           0.005706787109375,
           -0.011388778686523438,
           -0.00034332275390625,
           0.001415252685546875,
           -0.00107574462890625,
           -0.006786346435546875,
           -0.009487152099609375,
           0.012156486511230469,
           0.016526222229003906,
           0.00039577484130859375
          ],
          [
           0.010221481323242188,
           -0.0006246566772460938,
           0.0023851394653320312,
           0.0021181106567382812,
           -0.0024118423461914062,
           0.0026712417602539062,
           0.0038318634033203125,
           0.0012598037719726562,
           -0.02097606658935547,
           0.0011434555053710938,
           0.005389213562011719,
           0.0012941360473632812
          ],
          [
           0.007494926452636719,
           -0.0005779266357421875,
           -0.0013713836669921875,
           -0.0027322769165039062,
           -0.0010519027709960938,
           0.00018978118896484375,
           -0.004487037658691406,
           -0.010380744934082031,
           -0.005204200744628906,
           -0.0029478073120117188,
           -0.014630317687988281,
           -0.0025453567504882812
          ],
          [
           0.0065021514892578125,
           0.0029354095458984375,
           0.0032329559326171875,
           0.003173828125,
           0.007643699645996094,
           0.0025501251220703125,
           0.00052642822265625,
           0.00007534027099609375,
           -0.0014514923095703125,
           -0.0014600753784179688,
           0.016742706298828125,
           -0.00023174285888671875
          ],
          [
           0.005114555358886719,
           0.00482940673828125,
           0.0005083084106445312,
           0.006069183349609375,
           0.0030384063720703125,
           0.0013303756713867188,
           0.00543975830078125,
           -0.0009288787841796875,
           -0.006659507751464844,
           0.004589080810546875,
           0.01826763153076172,
           0.00006866455078125
          ],
          [
           0.0020742416381835938,
           0.0034132003784179688,
           0.0031690597534179688,
           0.0031871795654296875,
           -0.001758575439453125,
           0.00257110595703125,
           -0.0013685226440429688,
           0.0031414031982421875,
           0.008929252624511719,
           0.0009164810180664062,
           -0.0019102096557617188,
           0.005194664001464844
          ],
          [
           0.13994884490966797,
           0.027497291564941406,
           -0.02348041534423828,
           0.012749671936035156,
           -0.00140380859375,
           -0.05851268768310547,
           -0.04960823059082031,
           -0.037726402282714844,
           -0.014024734497070312,
           0.03023242950439453,
           0.001575469970703125,
           -0.060817718505859375
          ]
         ]
        }
       ],
       "layout": {
        "coloraxis": {
         "cmid": 0,
         "colorscale": [
          [
           0,
           "rgb(103,0,31)"
          ],
          [
           0.1,
           "rgb(178,24,43)"
          ],
          [
           0.2,
           "rgb(214,96,77)"
          ],
          [
           0.3,
           "rgb(244,165,130)"
          ],
          [
           0.4,
           "rgb(253,219,199)"
          ],
          [
           0.5,
           "rgb(247,247,247)"
          ],
          [
           0.6,
           "rgb(209,229,240)"
          ],
          [
           0.7,
           "rgb(146,197,222)"
          ],
          [
           0.8,
           "rgb(67,147,195)"
          ],
          [
           0.9,
           "rgb(33,102,172)"
          ],
          [
           1,
           "rgb(5,48,97)"
          ]
         ]
        },
        "template": {
         "data": {
          "bar": [
           {
            "error_x": {
             "color": "#2a3f5f"
            },
            "error_y": {
             "color": "#2a3f5f"
            },
            "marker": {
             "line": {
              "color": "#E5ECF6",
              "width": 0.5
             },
             "pattern": {
              "fillmode": "overlay",
              "size": 10,
              "solidity": 0.2
             }
            },
            "type": "bar"
           }
          ],
          "barpolar": [
           {
            "marker": {
             "line": {
              "color": "#E5ECF6",
              "width": 0.5
             },
             "pattern": {
              "fillmode": "overlay",
              "size": 10,
              "solidity": 0.2
             }
            },
            "type": "barpolar"
           }
          ],
          "carpet": [
           {
            "aaxis": {
             "endlinecolor": "#2a3f5f",
             "gridcolor": "white",
             "linecolor": "white",
             "minorgridcolor": "white",
             "startlinecolor": "#2a3f5f"
            },
            "baxis": {
             "endlinecolor": "#2a3f5f",
             "gridcolor": "white",
             "linecolor": "white",
             "minorgridcolor": "white",
             "startlinecolor": "#2a3f5f"
            },
            "type": "carpet"
           }
          ],
          "choropleth": [
           {
            "colorbar": {
             "outlinewidth": 0,
             "ticks": ""
            },
            "type": "choropleth"
           }
          ],
          "contour": [
           {
            "colorbar": {
             "outlinewidth": 0,
             "ticks": ""
            },
            "colorscale": [
             [
              0,
              "#0d0887"
             ],
             [
              0.1111111111111111,
              "#46039f"
             ],
             [
              0.2222222222222222,
              "#7201a8"
             ],
             [
              0.3333333333333333,
              "#9c179e"
             ],
             [
              0.4444444444444444,
              "#bd3786"
             ],
             [
              0.5555555555555556,
              "#d8576b"
             ],
             [
              0.6666666666666666,
              "#ed7953"
             ],
             [
              0.7777777777777778,
              "#fb9f3a"
             ],
             [
              0.8888888888888888,
              "#fdca26"
             ],
             [
              1,
              "#f0f921"
             ]
            ],
            "type": "contour"
           }
          ],
          "contourcarpet": [
           {
            "colorbar": {
             "outlinewidth": 0,
             "ticks": ""
            },
            "type": "contourcarpet"
           }
          ],
          "heatmap": [
           {
            "colorbar": {
             "outlinewidth": 0,
             "ticks": ""
            },
            "colorscale": [
             [
              0,
              "#0d0887"
             ],
             [
              0.1111111111111111,
              "#46039f"
             ],
             [
              0.2222222222222222,
              "#7201a8"
             ],
             [
              0.3333333333333333,
              "#9c179e"
             ],
             [
              0.4444444444444444,
              "#bd3786"
             ],
             [
              0.5555555555555556,
              "#d8576b"
             ],
             [
              0.6666666666666666,
              "#ed7953"
             ],
             [
              0.7777777777777778,
              "#fb9f3a"
             ],
             [
              0.8888888888888888,
              "#fdca26"
             ],
             [
              1,
              "#f0f921"
             ]
            ],
            "type": "heatmap"
           }
          ],
          "heatmapgl": [
           {
            "colorbar": {
             "outlinewidth": 0,
             "ticks": ""
            },
            "colorscale": [
             [
              0,
              "#0d0887"
             ],
             [
              0.1111111111111111,
              "#46039f"
             ],
             [
              0.2222222222222222,
              "#7201a8"
             ],
             [
              0.3333333333333333,
              "#9c179e"
             ],
             [
              0.4444444444444444,
              "#bd3786"
             ],
             [
              0.5555555555555556,
              "#d8576b"
             ],
             [
              0.6666666666666666,
              "#ed7953"
             ],
             [
              0.7777777777777778,
              "#fb9f3a"
             ],
             [
              0.8888888888888888,
              "#fdca26"
             ],
             [
              1,
              "#f0f921"
             ]
            ],
            "type": "heatmapgl"
           }
          ],
          "histogram": [
           {
            "marker": {
             "pattern": {
              "fillmode": "overlay",
              "size": 10,
              "solidity": 0.2
             }
            },
            "type": "histogram"
           }
          ],
          "histogram2d": [
           {
            "colorbar": {
             "outlinewidth": 0,
             "ticks": ""
            },
            "colorscale": [
             [
              0,
              "#0d0887"
             ],
             [
              0.1111111111111111,
              "#46039f"
             ],
             [
              0.2222222222222222,
              "#7201a8"
             ],
             [
              0.3333333333333333,
              "#9c179e"
             ],
             [
              0.4444444444444444,
              "#bd3786"
             ],
             [
              0.5555555555555556,
              "#d8576b"
             ],
             [
              0.6666666666666666,
              "#ed7953"
             ],
             [
              0.7777777777777778,
              "#fb9f3a"
             ],
             [
              0.8888888888888888,
              "#fdca26"
             ],
             [
              1,
              "#f0f921"
             ]
            ],
            "type": "histogram2d"
           }
          ],
          "histogram2dcontour": [
           {
            "colorbar": {
             "outlinewidth": 0,
             "ticks": ""
            },
            "colorscale": [
             [
              0,
              "#0d0887"
             ],
             [
              0.1111111111111111,
              "#46039f"
             ],
             [
              0.2222222222222222,
              "#7201a8"
             ],
             [
              0.3333333333333333,
              "#9c179e"
             ],
             [
              0.4444444444444444,
              "#bd3786"
             ],
             [
              0.5555555555555556,
              "#d8576b"
             ],
             [
              0.6666666666666666,
              "#ed7953"
             ],
             [
              0.7777777777777778,
              "#fb9f3a"
             ],
             [
              0.8888888888888888,
              "#fdca26"
             ],
             [
              1,
              "#f0f921"
             ]
            ],
            "type": "histogram2dcontour"
           }
          ],
          "mesh3d": [
           {
            "colorbar": {
             "outlinewidth": 0,
             "ticks": ""
            },
            "type": "mesh3d"
           }
          ],
          "parcoords": [
           {
            "line": {
             "colorbar": {
              "outlinewidth": 0,
              "ticks": ""
             }
            },
            "type": "parcoords"
           }
          ],
          "pie": [
           {
            "automargin": true,
            "type": "pie"
           }
          ],
          "scatter": [
           {
            "fillpattern": {
             "fillmode": "overlay",
             "size": 10,
             "solidity": 0.2
            },
            "type": "scatter"
           }
          ],
          "scatter3d": [
           {
            "line": {
             "colorbar": {
              "outlinewidth": 0,
              "ticks": ""
             }
            },
            "marker": {
             "colorbar": {
              "outlinewidth": 0,
              "ticks": ""
             }
            },
            "type": "scatter3d"
           }
          ],
          "scattercarpet": [
           {
            "marker": {
             "colorbar": {
              "outlinewidth": 0,
              "ticks": ""
             }
            },
            "type": "scattercarpet"
           }
          ],
          "scattergeo": [
           {
            "marker": {
             "colorbar": {
              "outlinewidth": 0,
              "ticks": ""
             }
            },
            "type": "scattergeo"
           }
          ],
          "scattergl": [
           {
            "marker": {
             "colorbar": {
              "outlinewidth": 0,
              "ticks": ""
             }
            },
            "type": "scattergl"
           }
          ],
          "scattermapbox": [
           {
            "marker": {
             "colorbar": {
              "outlinewidth": 0,
              "ticks": ""
             }
            },
            "type": "scattermapbox"
           }
          ],
          "scatterpolar": [
           {
            "marker": {
             "colorbar": {
              "outlinewidth": 0,
              "ticks": ""
             }
            },
            "type": "scatterpolar"
           }
          ],
          "scatterpolargl": [
           {
            "marker": {
             "colorbar": {
              "outlinewidth": 0,
              "ticks": ""
             }
            },
            "type": "scatterpolargl"
           }
          ],
          "scatterternary": [
           {
            "marker": {
             "colorbar": {
              "outlinewidth": 0,
              "ticks": ""
             }
            },
            "type": "scatterternary"
           }
          ],
          "surface": [
           {
            "colorbar": {
             "outlinewidth": 0,
             "ticks": ""
            },
            "colorscale": [
             [
              0,
              "#0d0887"
             ],
             [
              0.1111111111111111,
              "#46039f"
             ],
             [
              0.2222222222222222,
              "#7201a8"
             ],
             [
              0.3333333333333333,
              "#9c179e"
             ],
             [
              0.4444444444444444,
              "#bd3786"
             ],
             [
              0.5555555555555556,
              "#d8576b"
             ],
             [
              0.6666666666666666,
              "#ed7953"
             ],
             [
              0.7777777777777778,
              "#fb9f3a"
             ],
             [
              0.8888888888888888,
              "#fdca26"
             ],
             [
              1,
              "#f0f921"
             ]
            ],
            "type": "surface"
           }
          ],
          "table": [
           {
            "cells": {
             "fill": {
              "color": "#EBF0F8"
             },
             "line": {
              "color": "white"
             }
            },
            "header": {
             "fill": {
              "color": "#C8D4E3"
             },
             "line": {
              "color": "white"
             }
            },
            "type": "table"
           }
          ]
         },
         "layout": {
          "annotationdefaults": {
           "arrowcolor": "#2a3f5f",
           "arrowhead": 0,
           "arrowwidth": 1
          },
          "autotypenumbers": "strict",
          "coloraxis": {
           "colorbar": {
            "outlinewidth": 0,
            "ticks": ""
           }
          },
          "colorscale": {
           "diverging": [
            [
             0,
             "#8e0152"
            ],
            [
             0.1,
             "#c51b7d"
            ],
            [
             0.2,
             "#de77ae"
            ],
            [
             0.3,
             "#f1b6da"
            ],
            [
             0.4,
             "#fde0ef"
            ],
            [
             0.5,
             "#f7f7f7"
            ],
            [
             0.6,
             "#e6f5d0"
            ],
            [
             0.7,
             "#b8e186"
            ],
            [
             0.8,
             "#7fbc41"
            ],
            [
             0.9,
             "#4d9221"
            ],
            [
             1,
             "#276419"
            ]
           ],
           "sequential": [
            [
             0,
             "#0d0887"
            ],
            [
             0.1111111111111111,
             "#46039f"
            ],
            [
             0.2222222222222222,
             "#7201a8"
            ],
            [
             0.3333333333333333,
             "#9c179e"
            ],
            [
             0.4444444444444444,
             "#bd3786"
            ],
            [
             0.5555555555555556,
             "#d8576b"
            ],
            [
             0.6666666666666666,
             "#ed7953"
            ],
            [
             0.7777777777777778,
             "#fb9f3a"
            ],
            [
             0.8888888888888888,
             "#fdca26"
            ],
            [
             1,
             "#f0f921"
            ]
           ],
           "sequentialminus": [
            [
             0,
             "#0d0887"
            ],
            [
             0.1111111111111111,
             "#46039f"
            ],
            [
             0.2222222222222222,
             "#7201a8"
            ],
            [
             0.3333333333333333,
             "#9c179e"
            ],
            [
             0.4444444444444444,
             "#bd3786"
            ],
            [
             0.5555555555555556,
             "#d8576b"
            ],
            [
             0.6666666666666666,
             "#ed7953"
            ],
            [
             0.7777777777777778,
             "#fb9f3a"
            ],
            [
             0.8888888888888888,
             "#fdca26"
            ],
            [
             1,
             "#f0f921"
            ]
           ]
          },
          "colorway": [
           "#636efa",
           "#EF553B",
           "#00cc96",
           "#ab63fa",
           "#FFA15A",
           "#19d3f3",
           "#FF6692",
           "#B6E880",
           "#FF97FF",
           "#FECB52"
          ],
          "font": {
           "color": "#2a3f5f"
          },
          "geo": {
           "bgcolor": "white",
           "lakecolor": "white",
           "landcolor": "#E5ECF6",
           "showlakes": true,
           "showland": true,
           "subunitcolor": "white"
          },
          "hoverlabel": {
           "align": "left"
          },
          "hovermode": "closest",
          "mapbox": {
           "style": "light"
          },
          "paper_bgcolor": "white",
          "plot_bgcolor": "#E5ECF6",
          "polar": {
           "angularaxis": {
            "gridcolor": "white",
            "linecolor": "white",
            "ticks": ""
           },
           "bgcolor": "#E5ECF6",
           "radialaxis": {
            "gridcolor": "white",
            "linecolor": "white",
            "ticks": ""
           }
          },
          "scene": {
           "xaxis": {
            "backgroundcolor": "#E5ECF6",
            "gridcolor": "white",
            "gridwidth": 2,
            "linecolor": "white",
            "showbackground": true,
            "ticks": "",
            "zerolinecolor": "white"
           },
           "yaxis": {
            "backgroundcolor": "#E5ECF6",
            "gridcolor": "white",
            "gridwidth": 2,
            "linecolor": "white",
            "showbackground": true,
            "ticks": "",
            "zerolinecolor": "white"
           },
           "zaxis": {
            "backgroundcolor": "#E5ECF6",
            "gridcolor": "white",
            "gridwidth": 2,
            "linecolor": "white",
            "showbackground": true,
            "ticks": "",
            "zerolinecolor": "white"
           }
          },
          "shapedefaults": {
           "line": {
            "color": "#2a3f5f"
           }
          },
          "ternary": {
           "aaxis": {
            "gridcolor": "white",
            "linecolor": "white",
            "ticks": ""
           },
           "baxis": {
            "gridcolor": "white",
            "linecolor": "white",
            "ticks": ""
           },
           "bgcolor": "#E5ECF6",
           "caxis": {
            "gridcolor": "white",
            "linecolor": "white",
            "ticks": ""
           }
          },
          "title": {
           "x": 0.05
          },
          "xaxis": {
           "automargin": true,
           "gridcolor": "white",
           "linecolor": "white",
           "ticks": "",
           "title": {
            "standoff": 15
           },
           "zerolinecolor": "white",
           "zerolinewidth": 2
          },
          "yaxis": {
           "automargin": true,
           "gridcolor": "white",
           "linecolor": "white",
           "ticks": "",
           "title": {
            "standoff": 15
           },
           "zerolinecolor": "white",
           "zerolinewidth": 2
          }
         }
        },
        "title": {
         "text": "loss difference when ablating each head with normal noise"
        },
        "xaxis": {
         "anchor": "y",
         "constrain": "domain",
         "domain": [
          0,
          1
         ],
         "scaleanchor": "y"
        },
        "yaxis": {
         "anchor": "x",
         "autorange": "reversed",
         "constrain": "domain",
         "domain": [
          0,
          1
         ]
        }
       }
      }
     },
     "metadata": {},
     "output_type": "display_data"
    }
   ],
   "source": [
    "#%%\n",
    "\n",
    "random_ablation_scores = random_ablation_map(model, toks, start_layer=1)\n",
    "imshow(random_ablation_scores, title=\"loss difference when ablating each head with normal noise\")\n",
    "\n",
    "# The strict induction ablation map shows very strong degradation on ~5 heads in layers 0-3, and\n",
    "# the impacts of random ablation are very large for all first layer heads, and matter\n",
    "# little elsewhere.\n",
    "# oddly, ablating the layer one heads with strict induction has very little impact,\n",
    "# (compared to ablating with random noise, which basically destroys the model.)\n",
    "\n",
    "# Ablating with strict induction is particularly harmful for ~5 heads in layers 0-3, and have\n",
    "# little impact elsewhere.\n",
    "# There appears to be no significant correlation between the effect of ablating with random noise\n",
    "# and ablating with strict induction.\n",
    "\n",
    "# Results: ?\n",
    "# basically no relationship was found between mean ablation score difference and strict induction\n",
    "# score difference. This was only tested on a single sequence, the first paragraph of harry potter,\n",
    "# so theres a potential weakness. We also tried replacing the 5 most inductiony heads (on the repeated\n",
    "# random tokens task) with struct inductors and find zero loss degradation. Replacing any number of\n",
    "# random heads with strict inductors actually makes little difference, even if they werent inductiony\n",
    "# before.\n",
    "# The lack of found correlation could be due to backups in the model. Perhaps that is why ablating\n",
    "# any single head with noise or strict induction results in little loss difference, for most heads.\n",
    "# (meaning something like backup name mover heads. Another head could be picking up slack during\n",
    "# ablation and hiding  performance drops)\n",
    "\n",
    "# Potential future directions:\n",
    "# we only evaluated performance on a single paragrah of fiction. To evaluate wether any heads that\n",
    "# seem inductiony are doing pure induction, it would probably be necessary to examine performance\n",
    "# many more tokens to try and find if there are any where the heads are failing to perform their\n",
    "# backup (or primary who knows) job (on ANY sequence, not averages).\n",
    "\n",
    "# For reasons stated above, one could investigate the impact of ablating groups of heads with strict\n",
    "# induction and comparing the loss differences to ablating those same heads with noise."
   ]
  }
 ],
 "metadata": {
  "language_info": {
   "codemirror_mode": {
    "name": "ipython",
    "version": 3
   },
   "file_extension": ".py",
   "mimetype": "text/x-python",
   "name": "python",
   "nbconvert_exporter": "python",
   "pygments_lexer": "ipython3",
   "version": 3
  }
 },
 "nbformat": 4,
 "nbformat_minor": 2
}
